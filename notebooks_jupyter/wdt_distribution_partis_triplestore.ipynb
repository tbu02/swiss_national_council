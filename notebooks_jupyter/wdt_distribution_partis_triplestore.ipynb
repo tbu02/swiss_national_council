{
 "cells": [
  {
   "cell_type": "markdown",
   "id": "9150426b-5190-4539-8204-61253a0f1bd4",
   "metadata": {},
   "source": [
    "# Distribution des partis politiques dans le temps \n",
    "\n",
    "Dans ce carnet est proposée une analyse de la distribution dans le temps des années de naissance de la population retenue, et la mise en évidence de générations.\n",
    "\n",
    "On met aussi en évidence l'évolution dans le temps des partis politiques"
   ]
  },
  {
   "cell_type": "code",
   "execution_count": 1,
   "id": "231af92f-a7b1-479a-a734-0b8a9c0722e8",
   "metadata": {
    "execution": {
     "iopub.execute_input": "2025-06-16T19:45:26.243563Z",
     "iopub.status.busy": "2025-06-16T19:45:26.242568Z",
     "iopub.status.idle": "2025-06-16T19:45:27.461595Z",
     "shell.execute_reply": "2025-06-16T19:45:27.460098Z",
     "shell.execute_reply.started": "2025-06-16T19:45:26.243478Z"
    },
    "tags": []
   },
   "outputs": [],
   "source": [
    "### Librairie à installer dans l'environnement conda (si on exécute en local)\n",
    "# qui sera choisi pour exécuter le carnet\n",
    "from SPARQLWrapper import SPARQLWrapper, JSON, TURTLE, XML, RDFXML\n",
    "import pandas as pd\n",
    "\n",
    "import matplotlib.pyplot as plt\n",
    "import numpy as np"
   ]
  },
  {
   "cell_type": "code",
   "execution_count": 2,
   "id": "e6ce0f0e-db36-47cd-8015-a5bf33f0f7fa",
   "metadata": {
    "execution": {
     "iopub.execute_input": "2025-06-16T19:45:27.463456Z",
     "iopub.status.busy": "2025-06-16T19:45:27.463037Z",
     "iopub.status.idle": "2025-06-16T19:45:27.470480Z",
     "shell.execute_reply": "2025-06-16T19:45:27.469444Z",
     "shell.execute_reply.started": "2025-06-16T19:45:27.463428Z"
    },
    "tags": []
   },
   "outputs": [],
   "source": [
    "### Librairies déjà installées avec Python\n",
    "import pprint\n",
    "import csv\n",
    "import sys\n",
    "\n",
    "import sqlite3 as sql\n",
    "\n",
    "import time\n",
    "import datetime\n",
    "from dateutil import parser\n",
    "\n",
    "from importlib import reload\n",
    "from shutil import copyfile\n"
   ]
  },
  {
   "cell_type": "code",
   "execution_count": 3,
   "id": "9b90838d-2160-49e3-8adb-a67ff2cd112e",
   "metadata": {
    "execution": {
     "iopub.execute_input": "2025-06-16T19:45:29.248091Z",
     "iopub.status.busy": "2025-06-16T19:45:29.246936Z",
     "iopub.status.idle": "2025-06-16T19:45:29.268670Z",
     "shell.execute_reply": "2025-06-16T19:45:29.265481Z",
     "shell.execute_reply.started": "2025-06-16T19:45:29.248004Z"
    }
   },
   "outputs": [],
   "source": [
    "### Importer un module de fonctions crées ad hoc\n",
    "##  ATTENTION : le fichier 'sparql_functions.py' doit se trouver \n",
    "#   dans un dossier qui se situe dans le chemin ('path') de recherche\n",
    "#   vu par le présent carnet Jupyter afin que\n",
    "#   l'importation fonctionne correctement\n",
    "\n",
    "# Add parent directory to the path\n",
    "sys.path.insert(0, '..')\n",
    "\n",
    "### If you want to add the parent-parent directory,\n",
    "sys.path.insert(0, '../..')\n",
    "\n",
    "\n",
    "import sparql_functions as spqf"
   ]
  },
  {
   "cell_type": "markdown",
   "id": "3fe8665b-f64c-42bb-8786-4aee3673867c",
   "metadata": {},
   "source": [
    "## SPARQL Query qui récupère les données\n",
    "\n",
    "On exécute la requête grâce à une fonction de la librairie locale qui réalise la mise en forme"
   ]
  },
  {
   "cell_type": "code",
   "execution_count": 4,
   "id": "cf08874b-9ba0-4f5c-8eee-aebd9f0d0d26",
   "metadata": {
    "execution": {
     "iopub.execute_input": "2025-06-16T19:46:06.146982Z",
     "iopub.status.busy": "2025-06-16T19:46:06.144840Z",
     "iopub.status.idle": "2025-06-16T19:46:06.157328Z",
     "shell.execute_reply": "2025-06-16T19:46:06.154787Z",
     "shell.execute_reply.started": "2025-06-16T19:46:06.146894Z"
    }
   },
   "outputs": [],
   "source": [
    "## define SPARQL enpoint\n",
    "endpoint = \"https://ag1klf98suhepl85.allegrograph.cloud/repositories/Swiss_national_council\""
   ]
  },
  {
   "cell_type": "code",
   "execution_count": 5,
   "id": "164e80e8-1834-473a-a605-a3c1a660eff3",
   "metadata": {
    "execution": {
     "iopub.execute_input": "2025-06-16T19:47:10.636779Z",
     "iopub.status.busy": "2025-06-16T19:47:10.634614Z",
     "iopub.status.idle": "2025-06-16T19:47:10.647158Z",
     "shell.execute_reply": "2025-06-16T19:47:10.644509Z",
     "shell.execute_reply.started": "2025-06-16T19:47:10.636690Z"
    }
   },
   "outputs": [],
   "source": [
    "query = \"\"\"\n",
    "PREFIX wd: <http://www.wikidata.org/entity/>\n",
    "PREFIX wdt: <http://www.wikidata.org/prop/direct/>\n",
    "PREFIX rdfs: <http://www.w3.org/2000/01/rdf-schema#>\n",
    "\n",
    "\n",
    "SELECT  ?s (MAX(?label) as ?label) (xsd:integer(MAX(?birthDate)) as ?birthDate) (MAX(?politicalparty) as ?politicalparty)\n",
    "WHERE {\n",
    "    GRAPH <https://github.com/tbu02/swiss_national_council/blob/main/Graphiques/wikidata_imported_data.md>\n",
    "        {?s wdt:P102 ?politicalparty;\n",
    "            rdfs:label ?label;\n",
    "            wdt:P569 ?birthDate.\n",
    "          }\n",
    "}\n",
    "GROUP BY ?s\n",
    "\"\"\""
   ]
  },
  {
   "cell_type": "code",
   "execution_count": 6,
   "id": "70f2370f-e287-404f-ba7b-aaf79021047e",
   "metadata": {
    "execution": {
     "iopub.execute_input": "2025-06-16T19:47:19.945294Z",
     "iopub.status.busy": "2025-06-16T19:47:19.944207Z",
     "iopub.status.idle": "2025-06-16T19:47:20.255580Z",
     "shell.execute_reply": "2025-06-16T19:47:20.252808Z",
     "shell.execute_reply.started": "2025-06-16T19:47:19.945163Z"
    }
   },
   "outputs": [],
   "source": [
    "### Executer la requête avec les fonctions de la librairie locale\n",
    "qr = spqf.get_json_sparql_result(endpoint,query)"
   ]
  },
  {
   "cell_type": "code",
   "execution_count": 7,
   "id": "21bfd9f5-4c63-4b8c-af10-f9ddec203db2",
   "metadata": {
    "execution": {
     "iopub.execute_input": "2025-06-16T19:47:27.079180Z",
     "iopub.status.busy": "2025-06-16T19:47:27.078196Z",
     "iopub.status.idle": "2025-06-16T19:47:27.109926Z",
     "shell.execute_reply": "2025-06-16T19:47:27.107689Z",
     "shell.execute_reply.started": "2025-06-16T19:47:27.079099Z"
    }
   },
   "outputs": [
    {
     "name": "stdout",
     "output_type": "stream",
     "text": [
      "1648\n"
     ]
    },
    {
     "data": {
      "text/plain": [
       "[['http://www.wikidata.org/entity/Q1771134',\n",
       "  'Markus Ritter',\n",
       "  '1967',\n",
       "  'http://www.wikidata.org/entity/Q100934025'],\n",
       " ['http://www.wikidata.org/entity/Q1673126',\n",
       "  'Walter König',\n",
       "  '1908',\n",
       "  'http://www.wikidata.org/entity/Q303745'],\n",
       " ['http://www.wikidata.org/entity/Q1582102',\n",
       "  'Hans Roth',\n",
       "  '1913',\n",
       "  'http://www.wikidata.org/entity/Q477228']]"
      ]
     },
     "execution_count": 7,
     "metadata": {},
     "output_type": "execute_result"
    }
   ],
   "source": [
    "r = [l for l in spqf.sparql_result_to_list(qr)]\n",
    "print(len(r))\n",
    "r[:3]"
   ]
  },
  {
   "cell_type": "code",
   "execution_count": 9,
   "id": "236bbba5-a4df-4a7b-b215-44c9bc3f355f",
   "metadata": {
    "execution": {
     "iopub.execute_input": "2025-06-16T19:48:25.581554Z",
     "iopub.status.busy": "2025-06-16T19:48:25.580481Z",
     "iopub.status.idle": "2025-06-16T19:48:25.611017Z",
     "shell.execute_reply": "2025-06-16T19:48:25.609026Z",
     "shell.execute_reply.started": "2025-06-16T19:48:25.581468Z"
    }
   },
   "outputs": [
    {
     "data": {
      "text/html": [
       "<div>\n",
       "<style scoped>\n",
       "    .dataframe tbody tr th:only-of-type {\n",
       "        vertical-align: middle;\n",
       "    }\n",
       "\n",
       "    .dataframe tbody tr th {\n",
       "        vertical-align: top;\n",
       "    }\n",
       "\n",
       "    .dataframe thead th {\n",
       "        text-align: right;\n",
       "    }\n",
       "</style>\n",
       "<table border=\"1\" class=\"dataframe\">\n",
       "  <thead>\n",
       "    <tr style=\"text-align: right;\">\n",
       "      <th></th>\n",
       "      <th>personUri</th>\n",
       "      <th>personLabel</th>\n",
       "      <th>birthYear</th>\n",
       "      <th>politicalpartyUri</th>\n",
       "    </tr>\n",
       "  </thead>\n",
       "  <tbody>\n",
       "    <tr>\n",
       "      <th>0</th>\n",
       "      <td>http://www.wikidata.org/entity/Q1771134</td>\n",
       "      <td>Markus Ritter</td>\n",
       "      <td>1967</td>\n",
       "      <td>http://www.wikidata.org/entity/Q100934025</td>\n",
       "    </tr>\n",
       "    <tr>\n",
       "      <th>1</th>\n",
       "      <td>http://www.wikidata.org/entity/Q1673126</td>\n",
       "      <td>Walter König</td>\n",
       "      <td>1908</td>\n",
       "      <td>http://www.wikidata.org/entity/Q303745</td>\n",
       "    </tr>\n",
       "    <tr>\n",
       "      <th>2</th>\n",
       "      <td>http://www.wikidata.org/entity/Q1582102</td>\n",
       "      <td>Hans Roth</td>\n",
       "      <td>1913</td>\n",
       "      <td>http://www.wikidata.org/entity/Q477228</td>\n",
       "    </tr>\n",
       "    <tr>\n",
       "      <th>3</th>\n",
       "      <td>http://www.wikidata.org/entity/Q1065795</td>\n",
       "      <td>Charles Poncet</td>\n",
       "      <td>1946</td>\n",
       "      <td>http://www.wikidata.org/entity/Q667785</td>\n",
       "    </tr>\n",
       "    <tr>\n",
       "      <th>4</th>\n",
       "      <td>http://www.wikidata.org/entity/Q59843752</td>\n",
       "      <td>Guglielmo Canevascini</td>\n",
       "      <td>1886</td>\n",
       "      <td>http://www.wikidata.org/entity/Q303745</td>\n",
       "    </tr>\n",
       "  </tbody>\n",
       "</table>\n",
       "</div>"
      ],
      "text/plain": [
       "                                  personUri            personLabel birthYear  \\\n",
       "0   http://www.wikidata.org/entity/Q1771134          Markus Ritter      1967   \n",
       "1   http://www.wikidata.org/entity/Q1673126           Walter König      1908   \n",
       "2   http://www.wikidata.org/entity/Q1582102              Hans Roth      1913   \n",
       "3   http://www.wikidata.org/entity/Q1065795         Charles Poncet      1946   \n",
       "4  http://www.wikidata.org/entity/Q59843752  Guglielmo Canevascini      1886   \n",
       "\n",
       "                           politicalpartyUri  \n",
       "0  http://www.wikidata.org/entity/Q100934025  \n",
       "1     http://www.wikidata.org/entity/Q303745  \n",
       "2     http://www.wikidata.org/entity/Q477228  \n",
       "3     http://www.wikidata.org/entity/Q667785  \n",
       "4     http://www.wikidata.org/entity/Q303745  "
      ]
     },
     "execution_count": 9,
     "metadata": {},
     "output_type": "execute_result"
    }
   ],
   "source": [
    "### Créer un DataFrame à partir du résultat\n",
    "df_p = pd.DataFrame(r)\n",
    "df_p.columns = ['personUri', 'personLabel', 'birthYear', 'politicalpartyUri']\n",
    "df_p.head()"
   ]
  },
  {
   "cell_type": "code",
   "execution_count": 10,
   "id": "eb664e6b-7fd0-4757-8bff-db79a0d52f97",
   "metadata": {
    "execution": {
     "iopub.execute_input": "2025-06-16T19:48:39.880150Z",
     "iopub.status.busy": "2025-06-16T19:48:39.879173Z",
     "iopub.status.idle": "2025-06-16T19:48:39.908247Z",
     "shell.execute_reply": "2025-06-16T19:48:39.906038Z",
     "shell.execute_reply.started": "2025-06-16T19:48:39.880069Z"
    },
    "tags": []
   },
   "outputs": [
    {
     "name": "stdout",
     "output_type": "stream",
     "text": [
      "<class 'pandas.core.frame.DataFrame'>\n",
      "RangeIndex: 1648 entries, 0 to 1647\n",
      "Data columns (total 4 columns):\n",
      " #   Column             Non-Null Count  Dtype \n",
      "---  ------             --------------  ----- \n",
      " 0   personUri          1648 non-null   object\n",
      " 1   personLabel        1648 non-null   object\n",
      " 2   birthYear          1648 non-null   object\n",
      " 3   politicalpartyUri  1648 non-null   object\n",
      "dtypes: object(4)\n",
      "memory usage: 51.6+ KB\n"
     ]
    }
   ],
   "source": [
    "df_p.info()"
   ]
  },
  {
   "cell_type": "markdown",
   "id": "4912fbea-fc0a-443c-a015-034431fbf194",
   "metadata": {},
   "source": [
    "### Vérifier les partis présents directement sur la base de données\n",
    "\n",
    "\n",
    "Voir les requêtes correspondantes dans le [SPARQL notebook qui créé la population](../../sparqlbooks/wikidata_import_population.sparqlbook)"
   ]
  },
  {
   "cell_type": "markdown",
   "id": "2de05023-549c-4de3-8dd8-1c78afaf6227",
   "metadata": {},
   "source": [
    "### Ajouter une colonne au DataFrame avec le code du parti politique "
   ]
  },
  {
   "cell_type": "code",
   "execution_count": 20,
   "id": "0a674d8c-3a47-4c0a-9af4-7b68d6512e7a",
   "metadata": {
    "execution": {
     "iopub.execute_input": "2025-06-16T20:45:11.018083Z",
     "iopub.status.busy": "2025-06-16T20:45:11.016092Z",
     "iopub.status.idle": "2025-06-16T20:45:11.036827Z",
     "shell.execute_reply": "2025-06-16T20:45:11.034552Z",
     "shell.execute_reply.started": "2025-06-16T20:45:11.017997Z"
    }
   },
   "outputs": [],
   "source": [
    "### On créé d'abord une fonction qui effectue le travail\n",
    "\n",
    "## l'argument de la fonction 'pp_uri' est un nom choisi librement\n",
    "# il est ensuite appelé dans la fonction comme variable\n",
    "# et contient la valeur introduite lors de l'utilisation de la fonction \n",
    "def code_politicalparty(pp_uri):\n",
    "    if pp_uri == 'http://www.wikidata.org/entity/Q13850128':\n",
    "        a = 'Parti radical-démocratique'\n",
    "    elif pp_uri =='http://www.wikidata.org/entity/Q303745':\n",
    "        a = 'Parti socialiste suisse'\n",
    "    elif pp_uri =='http://www.wikidata.org/entity/Q659461':\n",
    "        a = 'Parti démocrate-chrétien'\n",
    "    elif pp_uri =='http://www.wikidata.org/entity/Q385258':\n",
    "        a = 'Union démocratique du centre'\n",
    "    elif pp_uri =='http://www.wikidata.org/entity/Q202638':\n",
    "        a = 'Parti libéral-radical'\n",
    "    elif pp_uri =='http://www.wikidata.org/entity/Q667785':\n",
    "        a = 'Parti libéral suisse'\n",
    "    elif pp_uri =='http://www.wikidata.org/entity/Q100934025':\n",
    "        a = 'Le centre'\n",
    "    elif pp_uri =='http://www.wikidata.org/entity/Q477228':\n",
    "        a = 'Parti des paysans, artisans et indépendants'\n",
    "    elif pp_uri =='http://www.wikidata.org/entity/Q667718':\n",
    "        a = 'Parti évangélique suisse'\n",
    "    elif pp_uri =='http://www.wikidata.org/entity/Q550295':\n",
    "        a = 'Alliance des indépendants'\n",
    "    elif pp_uri =='http://www.wikidata.org/entity/Q661771':\n",
    "        a = 'Parti suisse du travail'\n",
    "    elif pp_uri =='http://www.wikidata.org/entity/Q681843':\n",
    "        a = 'Parti démocratique suisse'\n",
    "    elif pp_uri =='http://www.wikidata.org/entity/Q151768':\n",
    "        a = 'Parti bourgeois démocratique'\n",
    "    elif pp_uri =='http://www.wikidata.org/entity/Q667836':\n",
    "        a = 'Union démocratique fédérale'\n",
    "    elif pp_uri =='http://www.wikidata.org/entity/Q659739':\n",
    "        a = 'Les Verts'\n",
    "    elif pp_uri =='http://www.wikidata.org/entity/Q545900': \n",
    "        a = 'Vertlibéraux'\n",
    "    else:\n",
    "        a = 'Autres'\n",
    "    return a    "
   ]
  },
  {
   "cell_type": "code",
   "execution_count": 21,
   "id": "449fc512-efbd-4dcb-9e47-219f80ed8a4e",
   "metadata": {
    "execution": {
     "iopub.execute_input": "2025-06-16T20:45:13.707924Z",
     "iopub.status.busy": "2025-06-16T20:45:13.705919Z",
     "iopub.status.idle": "2025-06-16T20:45:13.719502Z",
     "shell.execute_reply": "2025-06-16T20:45:13.716682Z",
     "shell.execute_reply.started": "2025-06-16T20:45:13.707834Z"
    }
   },
   "outputs": [
    {
     "name": "stdout",
     "output_type": "stream",
     "text": [
      "Parti socialiste suisse\n"
     ]
    }
   ],
   "source": [
    "### On teste la fonction\n",
    "print(code_politicalparty('http://www.wikidata.org/entity/Q303745'))"
   ]
  },
  {
   "cell_type": "code",
   "execution_count": 22,
   "id": "199ee5a4-1cdb-4a0f-962a-7675ec3f26f2",
   "metadata": {
    "execution": {
     "iopub.execute_input": "2025-06-16T20:45:15.098786Z",
     "iopub.status.busy": "2025-06-16T20:45:15.096297Z",
     "iopub.status.idle": "2025-06-16T20:45:15.134941Z",
     "shell.execute_reply": "2025-06-16T20:45:15.133344Z",
     "shell.execute_reply.started": "2025-06-16T20:45:15.098700Z"
    }
   },
   "outputs": [],
   "source": [
    "### On ajoute une nouvelle colonne et y on met pour chaque ligne le résultat de la fonction\n",
    "df_p['ppCode'] = df_p.apply(lambda x: code_politicalparty(x['politicalpartyUri']), axis=1)"
   ]
  },
  {
   "cell_type": "code",
   "execution_count": 23,
   "id": "db6fb789-227b-40ef-9c11-78edf1b9d12c",
   "metadata": {
    "execution": {
     "iopub.execute_input": "2025-06-16T20:45:15.791737Z",
     "iopub.status.busy": "2025-06-16T20:45:15.788935Z",
     "iopub.status.idle": "2025-06-16T20:45:15.818616Z",
     "shell.execute_reply": "2025-06-16T20:45:15.816574Z",
     "shell.execute_reply.started": "2025-06-16T20:45:15.791648Z"
    }
   },
   "outputs": [
    {
     "data": {
      "text/html": [
       "<div>\n",
       "<style scoped>\n",
       "    .dataframe tbody tr th:only-of-type {\n",
       "        vertical-align: middle;\n",
       "    }\n",
       "\n",
       "    .dataframe tbody tr th {\n",
       "        vertical-align: top;\n",
       "    }\n",
       "\n",
       "    .dataframe thead th {\n",
       "        text-align: right;\n",
       "    }\n",
       "</style>\n",
       "<table border=\"1\" class=\"dataframe\">\n",
       "  <thead>\n",
       "    <tr style=\"text-align: right;\">\n",
       "      <th></th>\n",
       "      <th>personUri</th>\n",
       "      <th>personLabel</th>\n",
       "      <th>birthYear</th>\n",
       "      <th>politicalpartyUri</th>\n",
       "      <th>ppCode</th>\n",
       "    </tr>\n",
       "  </thead>\n",
       "  <tbody>\n",
       "    <tr>\n",
       "      <th>15</th>\n",
       "      <td>http://www.wikidata.org/entity/Q125702</td>\n",
       "      <td>Hugo Fasel</td>\n",
       "      <td>1955</td>\n",
       "      <td>http://www.wikidata.org/entity/Q667725</td>\n",
       "      <td>Autres</td>\n",
       "    </tr>\n",
       "    <tr>\n",
       "      <th>25</th>\n",
       "      <td>http://www.wikidata.org/entity/Q1782235</td>\n",
       "      <td>Konrad Müller</td>\n",
       "      <td>1892</td>\n",
       "      <td>http://www.wikidata.org/entity/Q1084147</td>\n",
       "      <td>Autres</td>\n",
       "    </tr>\n",
       "    <tr>\n",
       "      <th>37</th>\n",
       "      <td>http://www.wikidata.org/entity/Q15436200</td>\n",
       "      <td>Friedrich Fritschi</td>\n",
       "      <td>1851</td>\n",
       "      <td>http://www.wikidata.org/entity/Q674695</td>\n",
       "      <td>Autres</td>\n",
       "    </tr>\n",
       "    <tr>\n",
       "      <th>80</th>\n",
       "      <td>http://www.wikidata.org/entity/Q120924</td>\n",
       "      <td>Werner Carobbio</td>\n",
       "      <td>1936</td>\n",
       "      <td>http://www.wikidata.org/entity/Q3366732</td>\n",
       "      <td>Autres</td>\n",
       "    </tr>\n",
       "    <tr>\n",
       "      <th>108</th>\n",
       "      <td>http://www.wikidata.org/entity/Q72063373</td>\n",
       "      <td>Stéfanie Prezioso</td>\n",
       "      <td>1969</td>\n",
       "      <td>http://www.wikidata.org/entity/Q20012603</td>\n",
       "      <td>Autres</td>\n",
       "    </tr>\n",
       "  </tbody>\n",
       "</table>\n",
       "</div>"
      ],
      "text/plain": [
       "                                    personUri         personLabel birthYear  \\\n",
       "15     http://www.wikidata.org/entity/Q125702          Hugo Fasel      1955   \n",
       "25    http://www.wikidata.org/entity/Q1782235       Konrad Müller      1892   \n",
       "37   http://www.wikidata.org/entity/Q15436200  Friedrich Fritschi      1851   \n",
       "80     http://www.wikidata.org/entity/Q120924     Werner Carobbio      1936   \n",
       "108  http://www.wikidata.org/entity/Q72063373   Stéfanie Prezioso      1969   \n",
       "\n",
       "                            politicalpartyUri  ppCode  \n",
       "15     http://www.wikidata.org/entity/Q667725  Autres  \n",
       "25    http://www.wikidata.org/entity/Q1084147  Autres  \n",
       "37     http://www.wikidata.org/entity/Q674695  Autres  \n",
       "80    http://www.wikidata.org/entity/Q3366732  Autres  \n",
       "108  http://www.wikidata.org/entity/Q20012603  Autres  "
      ]
     },
     "execution_count": 23,
     "metadata": {},
     "output_type": "execute_result"
    }
   ],
   "source": [
    "### On inspecte les cinq premières lignes qui ont la valeur 'A' = autre\n",
    "df_p[df_p['ppCode']=='Autres'][:5]"
   ]
  },
  {
   "cell_type": "markdown",
   "id": "c741c989-50ea-4f3d-a28d-89959d2c739a",
   "metadata": {},
   "source": [
    "## Effectifs par année"
   ]
  },
  {
   "cell_type": "code",
   "execution_count": 24,
   "id": "136263a8-722c-460e-bcc0-1aef61051025",
   "metadata": {
    "execution": {
     "iopub.execute_input": "2025-06-16T20:47:18.112434Z",
     "iopub.status.busy": "2025-06-16T20:47:18.111365Z",
     "iopub.status.idle": "2025-06-16T20:47:18.137074Z",
     "shell.execute_reply": "2025-06-16T20:47:18.134913Z",
     "shell.execute_reply.started": "2025-06-16T20:47:18.112350Z"
    }
   },
   "outputs": [
    {
     "name": "stdout",
     "output_type": "stream",
     "text": [
      "<class 'pandas.core.series.Series'>\n",
      "RangeIndex: 1648 entries, 0 to 1647\n",
      "Series name: birthYear\n",
      "Non-Null Count  Dtype \n",
      "--------------  ----- \n",
      "1648 non-null   object\n",
      "dtypes: object(1)\n",
      "memory usage: 13.0+ KB\n"
     ]
    }
   ],
   "source": [
    "### On inspecte les valeurs de la colonne 'birthYear' \n",
    "# et on observe que le type de données est 'object', ici texte\n",
    "df_p['birthYear'].info()"
   ]
  },
  {
   "cell_type": "code",
   "execution_count": 25,
   "id": "fc39e9a0-2c3b-4fe5-be24-603b6a61a566",
   "metadata": {
    "execution": {
     "iopub.execute_input": "2025-06-16T20:47:29.598916Z",
     "iopub.status.busy": "2025-06-16T20:47:29.597872Z",
     "iopub.status.idle": "2025-06-16T20:47:29.613294Z",
     "shell.execute_reply": "2025-06-16T20:47:29.611032Z",
     "shell.execute_reply.started": "2025-06-16T20:47:29.598833Z"
    }
   },
   "outputs": [],
   "source": [
    "### On transforme le type de valeur de la colonne BirthYear\n",
    "# de objet à entier\n",
    "df_p['birthYear'] = df_p['birthYear'].astype(int)"
   ]
  },
  {
   "cell_type": "code",
   "execution_count": 26,
   "id": "d9f288a0-21e0-45f3-82d6-77e480ad9731",
   "metadata": {
    "execution": {
     "iopub.execute_input": "2025-06-16T20:47:37.050020Z",
     "iopub.status.busy": "2025-06-16T20:47:37.049000Z",
     "iopub.status.idle": "2025-06-16T20:47:37.083179Z",
     "shell.execute_reply": "2025-06-16T20:47:37.080155Z",
     "shell.execute_reply.started": "2025-06-16T20:47:37.049937Z"
    }
   },
   "outputs": [
    {
     "data": {
      "text/html": [
       "<div>\n",
       "<style scoped>\n",
       "    .dataframe tbody tr th:only-of-type {\n",
       "        vertical-align: middle;\n",
       "    }\n",
       "\n",
       "    .dataframe tbody tr th {\n",
       "        vertical-align: top;\n",
       "    }\n",
       "\n",
       "    .dataframe thead th {\n",
       "        text-align: right;\n",
       "    }\n",
       "</style>\n",
       "<table border=\"1\" class=\"dataframe\">\n",
       "  <thead>\n",
       "    <tr style=\"text-align: right;\">\n",
       "      <th></th>\n",
       "      <th>year</th>\n",
       "      <th>effectif</th>\n",
       "    </tr>\n",
       "  </thead>\n",
       "  <tbody>\n",
       "    <tr>\n",
       "      <th>0</th>\n",
       "      <td>1794</td>\n",
       "      <td>1</td>\n",
       "    </tr>\n",
       "    <tr>\n",
       "      <th>1</th>\n",
       "      <td>1796</td>\n",
       "      <td>1</td>\n",
       "    </tr>\n",
       "    <tr>\n",
       "      <th>2</th>\n",
       "      <td>1800</td>\n",
       "      <td>3</td>\n",
       "    </tr>\n",
       "    <tr>\n",
       "      <th>3</th>\n",
       "      <td>1801</td>\n",
       "      <td>3</td>\n",
       "    </tr>\n",
       "    <tr>\n",
       "      <th>4</th>\n",
       "      <td>1802</td>\n",
       "      <td>1</td>\n",
       "    </tr>\n",
       "    <tr>\n",
       "      <th>...</th>\n",
       "      <td>...</td>\n",
       "      <td>...</td>\n",
       "    </tr>\n",
       "    <tr>\n",
       "      <th>189</th>\n",
       "      <td>1990</td>\n",
       "      <td>4</td>\n",
       "    </tr>\n",
       "    <tr>\n",
       "      <th>190</th>\n",
       "      <td>1991</td>\n",
       "      <td>3</td>\n",
       "    </tr>\n",
       "    <tr>\n",
       "      <th>191</th>\n",
       "      <td>1992</td>\n",
       "      <td>3</td>\n",
       "    </tr>\n",
       "    <tr>\n",
       "      <th>192</th>\n",
       "      <td>1994</td>\n",
       "      <td>2</td>\n",
       "    </tr>\n",
       "    <tr>\n",
       "      <th>193</th>\n",
       "      <td>1996</td>\n",
       "      <td>1</td>\n",
       "    </tr>\n",
       "  </tbody>\n",
       "</table>\n",
       "<p>194 rows × 2 columns</p>\n",
       "</div>"
      ],
      "text/plain": [
       "     year  effectif\n",
       "0    1794         1\n",
       "1    1796         1\n",
       "2    1800         3\n",
       "3    1801         3\n",
       "4    1802         1\n",
       "..    ...       ...\n",
       "189  1990         4\n",
       "190  1991         3\n",
       "191  1992         3\n",
       "192  1994         2\n",
       "193  1996         1\n",
       "\n",
       "[194 rows x 2 columns]"
      ]
     },
     "execution_count": 26,
     "metadata": {},
     "output_type": "execute_result"
    }
   ],
   "source": [
    "### On transforme en DataFrame le résultat du regroupement par année\n",
    "# noter qu'un ajoute un filtre pour que l'année maximale de naissance soit 200\n",
    "years_count = pd.DataFrame(df_p[df_p['birthYear'] < 2001].groupby('birthYear').size())\\\n",
    "                .reset_index(drop=False)\n",
    "years_count.columns=['year','effectif']\n",
    "years_count"
   ]
  },
  {
   "cell_type": "code",
   "execution_count": 28,
   "id": "7fdc507e-f074-4c4a-bda5-ca2a6c69f387",
   "metadata": {
    "execution": {
     "iopub.execute_input": "2025-06-16T20:48:38.351914Z",
     "iopub.status.busy": "2025-06-16T20:48:38.350925Z",
     "iopub.status.idle": "2025-06-16T20:48:39.119745Z",
     "shell.execute_reply": "2025-06-16T20:48:39.118149Z",
     "shell.execute_reply.started": "2025-06-16T20:48:38.351832Z"
    }
   },
   "outputs": [
    {
     "data": {
      "image/png": "[encoded data removed]",
      "text/plain": [
       "<Figure size 1600x800 with 1 Axes>"
      ]
     },
     "metadata": {},
     "output_type": "display_data"
    }
   ],
   "source": [
    "### Représentation graphique des effectifs par année\n",
    "\n",
    "ax = years_count.plot(x='year', y='effectif', kind='bar',rot=60, fontsize=8, figsize=(16,8))\n",
    "\n",
    "\n",
    "max_xticks = 20\n",
    "xloc = plt.MaxNLocator(max_xticks)\n",
    "ax.xaxis.set_major_locator(xloc)\n",
    "\n",
    "plt.ylabel('Effectif')\n",
    "plt.xlabel('Années')\n",
    "plt.title('Nombre de naissances par année')\n",
    "\n",
    "plt.show()"
   ]
  },
  {
   "cell_type": "markdown",
   "id": "ab845937-6017-44df-bec9-d78867a706a2",
   "metadata": {},
   "source": [
    "## Regrouper les effectifs par périodes de 25 ans"
   ]
  },
  {
   "cell_type": "code",
   "execution_count": 29,
   "id": "dcd067cb-f58d-44a1-bdb6-991bbcc3811c",
   "metadata": {
    "execution": {
     "iopub.execute_input": "2025-06-16T20:49:26.813079Z",
     "iopub.status.busy": "2025-06-16T20:49:26.812025Z",
     "iopub.status.idle": "2025-06-16T20:49:26.829138Z",
     "shell.execute_reply": "2025-06-16T20:49:26.826582Z",
     "shell.execute_reply.started": "2025-06-16T20:49:26.812995Z"
    }
   },
   "outputs": [],
   "source": [
    "### Créer une copie indépendante du DataFrame (attention aux copies de variables qui sont seulement des alias) \n",
    "cdf_p = df_p[df_p['birthYear'] < 2001].copy(deep=True)"
   ]
  },
  {
   "cell_type": "code",
   "execution_count": 30,
   "id": "f7002b54-5b9a-41ff-b207-3d209bfea3b2",
   "metadata": {
    "execution": {
     "iopub.execute_input": "2025-06-16T20:49:28.673402Z",
     "iopub.status.busy": "2025-06-16T20:49:28.672423Z",
     "iopub.status.idle": "2025-06-16T20:49:28.699576Z",
     "shell.execute_reply": "2025-06-16T20:49:28.697788Z",
     "shell.execute_reply.started": "2025-06-16T20:49:28.673322Z"
    }
   },
   "outputs": [
    {
     "data": {
      "text/html": [
       "<div>\n",
       "<style scoped>\n",
       "    .dataframe tbody tr th:only-of-type {\n",
       "        vertical-align: middle;\n",
       "    }\n",
       "\n",
       "    .dataframe tbody tr th {\n",
       "        vertical-align: top;\n",
       "    }\n",
       "\n",
       "    .dataframe thead th {\n",
       "        text-align: right;\n",
       "    }\n",
       "</style>\n",
       "<table border=\"1\" class=\"dataframe\">\n",
       "  <thead>\n",
       "    <tr style=\"text-align: right;\">\n",
       "      <th></th>\n",
       "      <th>personUri</th>\n",
       "      <th>personLabel</th>\n",
       "      <th>birthYear</th>\n",
       "      <th>politicalpartyUri</th>\n",
       "      <th>ppCode</th>\n",
       "    </tr>\n",
       "  </thead>\n",
       "  <tbody>\n",
       "    <tr>\n",
       "      <th>0</th>\n",
       "      <td>http://www.wikidata.org/entity/Q1771134</td>\n",
       "      <td>Markus Ritter</td>\n",
       "      <td>1967</td>\n",
       "      <td>http://www.wikidata.org/entity/Q100934025</td>\n",
       "      <td>Le centre</td>\n",
       "    </tr>\n",
       "    <tr>\n",
       "      <th>1</th>\n",
       "      <td>http://www.wikidata.org/entity/Q1673126</td>\n",
       "      <td>Walter König</td>\n",
       "      <td>1908</td>\n",
       "      <td>http://www.wikidata.org/entity/Q303745</td>\n",
       "      <td>Parti socialiste suisse</td>\n",
       "    </tr>\n",
       "    <tr>\n",
       "      <th>2</th>\n",
       "      <td>http://www.wikidata.org/entity/Q1582102</td>\n",
       "      <td>Hans Roth</td>\n",
       "      <td>1913</td>\n",
       "      <td>http://www.wikidata.org/entity/Q477228</td>\n",
       "      <td>Parti des paysans, artisans et indépendants</td>\n",
       "    </tr>\n",
       "  </tbody>\n",
       "</table>\n",
       "</div>"
      ],
      "text/plain": [
       "                                 personUri    personLabel  birthYear  \\\n",
       "0  http://www.wikidata.org/entity/Q1771134  Markus Ritter       1967   \n",
       "1  http://www.wikidata.org/entity/Q1673126   Walter König       1908   \n",
       "2  http://www.wikidata.org/entity/Q1582102      Hans Roth       1913   \n",
       "\n",
       "                           politicalpartyUri  \\\n",
       "0  http://www.wikidata.org/entity/Q100934025   \n",
       "1     http://www.wikidata.org/entity/Q303745   \n",
       "2     http://www.wikidata.org/entity/Q477228   \n",
       "\n",
       "                                        ppCode  \n",
       "0                                    Le centre  \n",
       "1                      Parti socialiste suisse  \n",
       "2  Parti des paysans, artisans et indépendants  "
      ]
     },
     "execution_count": 30,
     "metadata": {},
     "output_type": "execute_result"
    }
   ],
   "source": [
    "cdf_p.head(3)"
   ]
  },
  {
   "cell_type": "code",
   "execution_count": 31,
   "id": "15117967-9901-423a-a898-d5b710399439",
   "metadata": {
    "execution": {
     "iopub.execute_input": "2025-06-16T20:49:44.629272Z",
     "iopub.status.busy": "2025-06-16T20:49:44.628294Z",
     "iopub.status.idle": "2025-06-16T20:49:44.646327Z",
     "shell.execute_reply": "2025-06-16T20:49:44.643593Z",
     "shell.execute_reply.started": "2025-06-16T20:49:44.629152Z"
    }
   },
   "outputs": [
    {
     "name": "stdout",
     "output_type": "stream",
     "text": [
      "1794 1996\n"
     ]
    }
   ],
   "source": [
    "### Année minimale et maximale dans la population\n",
    "print(min(cdf_p['birthYear']), max(cdf_p['birthYear']))"
   ]
  },
  {
   "cell_type": "markdown",
   "id": "c60b84a9-99a7-46b0-8ae9-11bf26128fe7",
   "metadata": {},
   "source": [
    "### Codage par période de vingt ans"
   ]
  },
  {
   "cell_type": "code",
   "execution_count": 32,
   "id": "7c29f5c0-bf9f-444d-be57-2d39bf882e23",
   "metadata": {
    "execution": {
     "iopub.execute_input": "2025-06-16T20:50:31.363591Z",
     "iopub.status.busy": "2025-06-16T20:50:31.362575Z",
     "iopub.status.idle": "2025-06-16T20:50:31.377349Z",
     "shell.execute_reply": "2025-06-16T20:50:31.375140Z",
     "shell.execute_reply.started": "2025-06-16T20:50:31.363508Z"
    },
    "tags": []
   },
   "outputs": [
    {
     "name": "stdout",
     "output_type": "stream",
     "text": [
      "[1781, 1801, 1821, 1841, 1861] [1921, 1941, 1961, 1981, 2001]\n"
     ]
    }
   ],
   "source": [
    "### Créer une liste d'années pour séparer en périodes de 20 ans\n",
    "# noter que la dernière année sera exclue, \n",
    "# elle donc doit être supérieure à la valeur maximale \n",
    "l_25 = list(range(1781, 2020, 20))\n",
    "print(l_25[:5],l_25[-5:])"
   ]
  },
  {
   "cell_type": "code",
   "execution_count": 33,
   "id": "06ab381e-f317-4767-9790-a9fcbfcb1853",
   "metadata": {
    "execution": {
     "iopub.execute_input": "2025-06-16T20:53:41.349774Z",
     "iopub.status.busy": "2025-06-16T20:53:41.348778Z",
     "iopub.status.idle": "2025-06-16T20:53:41.386481Z",
     "shell.execute_reply": "2025-06-16T20:53:41.384747Z",
     "shell.execute_reply.started": "2025-06-16T20:53:41.349694Z"
    }
   },
   "outputs": [
    {
     "data": {
      "text/html": [
       "<div>\n",
       "<style scoped>\n",
       "    .dataframe tbody tr th:only-of-type {\n",
       "        vertical-align: middle;\n",
       "    }\n",
       "\n",
       "    .dataframe tbody tr th {\n",
       "        vertical-align: top;\n",
       "    }\n",
       "\n",
       "    .dataframe thead th {\n",
       "        text-align: right;\n",
       "    }\n",
       "</style>\n",
       "<table border=\"1\" class=\"dataframe\">\n",
       "  <thead>\n",
       "    <tr style=\"text-align: right;\">\n",
       "      <th></th>\n",
       "      <th>personUri</th>\n",
       "      <th>personLabel</th>\n",
       "      <th>birthYear</th>\n",
       "      <th>politicalpartyUri</th>\n",
       "      <th>ppCode</th>\n",
       "      <th>periodes</th>\n",
       "    </tr>\n",
       "  </thead>\n",
       "  <tbody>\n",
       "    <tr>\n",
       "      <th>0</th>\n",
       "      <td>http://www.wikidata.org/entity/Q1771134</td>\n",
       "      <td>Markus Ritter</td>\n",
       "      <td>1967</td>\n",
       "      <td>http://www.wikidata.org/entity/Q100934025</td>\n",
       "      <td>Le centre</td>\n",
       "      <td>1961-1980</td>\n",
       "    </tr>\n",
       "    <tr>\n",
       "      <th>1</th>\n",
       "      <td>http://www.wikidata.org/entity/Q1673126</td>\n",
       "      <td>Walter König</td>\n",
       "      <td>1908</td>\n",
       "      <td>http://www.wikidata.org/entity/Q303745</td>\n",
       "      <td>Parti socialiste suisse</td>\n",
       "      <td>1901-1920</td>\n",
       "    </tr>\n",
       "    <tr>\n",
       "      <th>2</th>\n",
       "      <td>http://www.wikidata.org/entity/Q1582102</td>\n",
       "      <td>Hans Roth</td>\n",
       "      <td>1913</td>\n",
       "      <td>http://www.wikidata.org/entity/Q477228</td>\n",
       "      <td>Parti des paysans, artisans et indépendants</td>\n",
       "      <td>1901-1920</td>\n",
       "    </tr>\n",
       "  </tbody>\n",
       "</table>\n",
       "</div>"
      ],
      "text/plain": [
       "                                 personUri    personLabel  birthYear  \\\n",
       "0  http://www.wikidata.org/entity/Q1771134  Markus Ritter       1967   \n",
       "1  http://www.wikidata.org/entity/Q1673126   Walter König       1908   \n",
       "2  http://www.wikidata.org/entity/Q1582102      Hans Roth       1913   \n",
       "\n",
       "                           politicalpartyUri  \\\n",
       "0  http://www.wikidata.org/entity/Q100934025   \n",
       "1     http://www.wikidata.org/entity/Q303745   \n",
       "2     http://www.wikidata.org/entity/Q477228   \n",
       "\n",
       "                                        ppCode   periodes  \n",
       "0                                    Le centre  1961-1980  \n",
       "1                      Parti socialiste suisse  1901-1920  \n",
       "2  Parti des paysans, artisans et indépendants  1901-1920  "
      ]
     },
     "execution_count": 33,
     "metadata": {},
     "output_type": "execute_result"
    }
   ],
   "source": [
    "### fonction pd.cut : https://pandas.pydata.org/pandas-docs/stable/reference/api/pandas.cut.html\n",
    "# On ajoute une nouvelle colonne qui contient la période sur la base de la liste précédente\n",
    "# et de la valeur de l'année\n",
    "\n",
    "cdf_p['periodes'] = pd.cut(cdf_p['birthYear'], l_25, right=False)\n",
    "\n",
    "### Transformer le code ajouté pour qu'il soit plus lisible\n",
    "# noter qu'on a arrondi les valeurs\n",
    "cdf_p['periodes'] = cdf_p['periodes'].apply(lambda x : str(int(x.left))+'-'+ str(int(x.right)-1))\n",
    "\n",
    "# Inspection\n",
    "cdf_p.head(3)"
   ]
  },
  {
   "cell_type": "code",
   "execution_count": 37,
   "id": "4e943cfe-40d8-49c0-afa1-a55f964f657a",
   "metadata": {
    "execution": {
     "iopub.execute_input": "2025-06-16T20:55:15.331744Z",
     "iopub.status.busy": "2025-06-16T20:55:15.330660Z",
     "iopub.status.idle": "2025-06-16T20:55:15.355047Z",
     "shell.execute_reply": "2025-06-16T20:55:15.353120Z",
     "shell.execute_reply.started": "2025-06-16T20:55:15.331658Z"
    }
   },
   "outputs": [
    {
     "data": {
      "text/plain": [
       "periodes\n",
       "1781-1800      5\n",
       "1801-1820     42\n",
       "1821-1840     70\n",
       "1841-1860    117\n",
       "1861-1880    122\n",
       "1881-1900    172\n",
       "1901-1920    185\n",
       "1921-1940    229\n",
       "1941-1960    394\n",
       "1961-1980    253\n",
       "1981-2000     59\n",
       "dtype: int64"
      ]
     },
     "execution_count": 37,
     "metadata": {},
     "output_type": "execute_result"
    }
   ],
   "source": [
    "### compter les naissances par périodes de 20 ans\n",
    "cdf_p.groupby(by='periodes',observed=False).size()"
   ]
  },
  {
   "cell_type": "code",
   "execution_count": 39,
   "id": "9a1dd793-210a-42c3-b68b-d0e1756277d1",
   "metadata": {
    "execution": {
     "iopub.execute_input": "2025-06-16T20:56:24.474425Z",
     "iopub.status.busy": "2025-06-16T20:56:24.473369Z",
     "iopub.status.idle": "2025-06-16T20:56:24.810712Z",
     "shell.execute_reply": "2025-06-16T20:56:24.808928Z",
     "shell.execute_reply.started": "2025-06-16T20:56:24.474337Z"
    }
   },
   "outputs": [
    {
     "data": {
      "image/png": "[encoded data removed]",
      "text/plain": [
       "<Figure size 1600x800 with 1 Axes>"
      ]
     },
     "metadata": {},
     "output_type": "display_data"
    }
   ],
   "source": [
    "ax = cdf_p.groupby(by='periodes', observed=False).size().plot(kind='bar',rot=60, fontsize=8, figsize=(16,8))\n",
    "plt.ylabel('Effectif')\n",
    "plt.xlabel('Périodes')\n",
    "plt.title('Naissances par périodes de vingt ans')\n",
    "plt.show()"
   ]
  },
  {
   "cell_type": "markdown",
   "id": "7d3da8ee-300d-4fb8-be6e-384e1e4186ef",
   "metadata": {},
   "source": [
    "## Ajouter la représentation des partis politiques"
   ]
  },
  {
   "cell_type": "code",
   "execution_count": 42,
   "id": "e95d55b5",
   "metadata": {
    "execution": {
     "iopub.execute_input": "2025-06-16T21:01:14.865476Z",
     "iopub.status.busy": "2025-06-16T21:01:14.864493Z",
     "iopub.status.idle": "2025-06-16T21:01:14.894808Z",
     "shell.execute_reply": "2025-06-16T21:01:14.892479Z",
     "shell.execute_reply.started": "2025-06-16T21:01:14.865394Z"
    }
   },
   "outputs": [
    {
     "data": {
      "text/html": [
       "<div>\n",
       "<style scoped>\n",
       "    .dataframe tbody tr th:only-of-type {\n",
       "        vertical-align: middle;\n",
       "    }\n",
       "\n",
       "    .dataframe tbody tr th {\n",
       "        vertical-align: top;\n",
       "    }\n",
       "\n",
       "    .dataframe thead th {\n",
       "        text-align: right;\n",
       "    }\n",
       "</style>\n",
       "<table border=\"1\" class=\"dataframe\">\n",
       "  <thead>\n",
       "    <tr style=\"text-align: right;\">\n",
       "      <th></th>\n",
       "      <th>Parti radical-démocratique</th>\n",
       "    </tr>\n",
       "    <tr>\n",
       "      <th>periodes</th>\n",
       "      <th></th>\n",
       "    </tr>\n",
       "  </thead>\n",
       "  <tbody>\n",
       "    <tr>\n",
       "      <th>1901-1920</th>\n",
       "      <td>55</td>\n",
       "    </tr>\n",
       "    <tr>\n",
       "      <th>1921-1940</th>\n",
       "      <td>61</td>\n",
       "    </tr>\n",
       "    <tr>\n",
       "      <th>1941-1960</th>\n",
       "      <td>44</td>\n",
       "    </tr>\n",
       "    <tr>\n",
       "      <th>1961-1980</th>\n",
       "      <td>3</td>\n",
       "    </tr>\n",
       "    <tr>\n",
       "      <th>1981-2000</th>\n",
       "      <td>0</td>\n",
       "    </tr>\n",
       "  </tbody>\n",
       "</table>\n",
       "</div>"
      ],
      "text/plain": [
       "           Parti radical-démocratique\n",
       "periodes                             \n",
       "1901-1920                          55\n",
       "1921-1940                          61\n",
       "1941-1960                          44\n",
       "1961-1980                           3\n",
       "1981-2000                           0"
      ]
     },
     "execution_count": 42,
     "metadata": {},
     "output_type": "execute_result"
    }
   ],
   "source": [
    "### Regrouper et compter avec un fitre sur le parti radical-démocratique\n",
    "pp_prd = pd.DataFrame(cdf_p[cdf_p.ppCode == 'Parti radical-démocratique'].groupby('periodes',observed=False).size())\n",
    "pp_prd.columns = ['Parti radical-démocratique']\n",
    "pp_prd.tail()\n"
   ]
  },
  {
   "cell_type": "code",
   "execution_count": 43,
   "id": "45957dac-e3f3-4d41-8fe0-a59d4f2c33b8",
   "metadata": {
    "execution": {
     "iopub.execute_input": "2025-06-16T21:02:12.153403Z",
     "iopub.status.busy": "2025-06-16T21:02:12.152434Z",
     "iopub.status.idle": "2025-06-16T21:02:12.181099Z",
     "shell.execute_reply": "2025-06-16T21:02:12.178945Z",
     "shell.execute_reply.started": "2025-06-16T21:02:12.153321Z"
    },
    "scrolled": true
   },
   "outputs": [
    {
     "data": {
      "text/html": [
       "<div>\n",
       "<style scoped>\n",
       "    .dataframe tbody tr th:only-of-type {\n",
       "        vertical-align: middle;\n",
       "    }\n",
       "\n",
       "    .dataframe tbody tr th {\n",
       "        vertical-align: top;\n",
       "    }\n",
       "\n",
       "    .dataframe thead th {\n",
       "        text-align: right;\n",
       "    }\n",
       "</style>\n",
       "<table border=\"1\" class=\"dataframe\">\n",
       "  <thead>\n",
       "    <tr style=\"text-align: right;\">\n",
       "      <th></th>\n",
       "      <th>Parti socialiste suisse</th>\n",
       "    </tr>\n",
       "    <tr>\n",
       "      <th>periodes</th>\n",
       "      <th></th>\n",
       "    </tr>\n",
       "  </thead>\n",
       "  <tbody>\n",
       "    <tr>\n",
       "      <th>1901-1920</th>\n",
       "      <td>43</td>\n",
       "    </tr>\n",
       "    <tr>\n",
       "      <th>1921-1940</th>\n",
       "      <td>50</td>\n",
       "    </tr>\n",
       "    <tr>\n",
       "      <th>1941-1960</th>\n",
       "      <td>95</td>\n",
       "    </tr>\n",
       "    <tr>\n",
       "      <th>1961-1980</th>\n",
       "      <td>47</td>\n",
       "    </tr>\n",
       "    <tr>\n",
       "      <th>1981-2000</th>\n",
       "      <td>22</td>\n",
       "    </tr>\n",
       "  </tbody>\n",
       "</table>\n",
       "</div>"
      ],
      "text/plain": [
       "           Parti socialiste suisse\n",
       "periodes                          \n",
       "1901-1920                       43\n",
       "1921-1940                       50\n",
       "1941-1960                       95\n",
       "1961-1980                       47\n",
       "1981-2000                       22"
      ]
     },
     "execution_count": 43,
     "metadata": {},
     "output_type": "execute_result"
    }
   ],
   "source": [
    "### Regrouper et compter avec un fitre sur le parti socialiste suisse\n",
    "pp_pss = pd.DataFrame(cdf_p[cdf_p.ppCode == 'Parti socialiste suisse'].groupby('periodes',observed=False).size())\n",
    "pp_pss.columns = ['Parti socialiste suisse']\n",
    "pp_pss.tail()\n"
   ]
  },
  {
   "cell_type": "code",
   "execution_count": 45,
   "id": "37eba34a-39e8-4f0c-bb9c-0e877a75de7b",
   "metadata": {
    "execution": {
     "iopub.execute_input": "2025-06-16T21:05:26.156750Z",
     "iopub.status.busy": "2025-06-16T21:05:26.155739Z",
     "iopub.status.idle": "2025-06-16T21:05:26.186047Z",
     "shell.execute_reply": "2025-06-16T21:05:26.184083Z",
     "shell.execute_reply.started": "2025-06-16T21:05:26.156668Z"
    },
    "scrolled": true
   },
   "outputs": [
    {
     "data": {
      "text/html": [
       "<div>\n",
       "<style scoped>\n",
       "    .dataframe tbody tr th:only-of-type {\n",
       "        vertical-align: middle;\n",
       "    }\n",
       "\n",
       "    .dataframe tbody tr th {\n",
       "        vertical-align: top;\n",
       "    }\n",
       "\n",
       "    .dataframe thead th {\n",
       "        text-align: right;\n",
       "    }\n",
       "</style>\n",
       "<table border=\"1\" class=\"dataframe\">\n",
       "  <thead>\n",
       "    <tr style=\"text-align: right;\">\n",
       "      <th></th>\n",
       "      <th>Parti démocrate-chrétien</th>\n",
       "    </tr>\n",
       "    <tr>\n",
       "      <th>periodes</th>\n",
       "      <th></th>\n",
       "    </tr>\n",
       "  </thead>\n",
       "  <tbody>\n",
       "    <tr>\n",
       "      <th>1901-1920</th>\n",
       "      <td>32</td>\n",
       "    </tr>\n",
       "    <tr>\n",
       "      <th>1921-1940</th>\n",
       "      <td>49</td>\n",
       "    </tr>\n",
       "    <tr>\n",
       "      <th>1941-1960</th>\n",
       "      <td>61</td>\n",
       "    </tr>\n",
       "    <tr>\n",
       "      <th>1961-1980</th>\n",
       "      <td>22</td>\n",
       "    </tr>\n",
       "    <tr>\n",
       "      <th>1981-2000</th>\n",
       "      <td>4</td>\n",
       "    </tr>\n",
       "  </tbody>\n",
       "</table>\n",
       "</div>"
      ],
      "text/plain": [
       "           Parti démocrate-chrétien\n",
       "periodes                           \n",
       "1901-1920                        32\n",
       "1921-1940                        49\n",
       "1941-1960                        61\n",
       "1961-1980                        22\n",
       "1981-2000                         4"
      ]
     },
     "execution_count": 45,
     "metadata": {},
     "output_type": "execute_result"
    }
   ],
   "source": [
    "### Regrouper et compter avec un fitre sur le parti socialiste suisse\n",
    "pp_pdc = pd.DataFrame(cdf_p[cdf_p.ppCode == 'Parti démocrate-chrétien'].groupby('periodes',observed=False).size())\n",
    "pp_pdc.columns = ['Parti démocrate-chrétien']\n",
    "pp_pdc.tail()\n"
   ]
  },
  {
   "cell_type": "code",
   "execution_count": 46,
   "id": "5b53563c-5321-43da-b3ba-27486ecbde43",
   "metadata": {
    "execution": {
     "iopub.execute_input": "2025-06-16T21:06:16.524331Z",
     "iopub.status.busy": "2025-06-16T21:06:16.523332Z",
     "iopub.status.idle": "2025-06-16T21:06:16.550815Z",
     "shell.execute_reply": "2025-06-16T21:06:16.548843Z",
     "shell.execute_reply.started": "2025-06-16T21:06:16.524187Z"
    },
    "scrolled": true
   },
   "outputs": [
    {
     "data": {
      "text/html": [
       "<div>\n",
       "<style scoped>\n",
       "    .dataframe tbody tr th:only-of-type {\n",
       "        vertical-align: middle;\n",
       "    }\n",
       "\n",
       "    .dataframe tbody tr th {\n",
       "        vertical-align: top;\n",
       "    }\n",
       "\n",
       "    .dataframe thead th {\n",
       "        text-align: right;\n",
       "    }\n",
       "</style>\n",
       "<table border=\"1\" class=\"dataframe\">\n",
       "  <thead>\n",
       "    <tr style=\"text-align: right;\">\n",
       "      <th></th>\n",
       "      <th>Union démocratique du centre</th>\n",
       "    </tr>\n",
       "    <tr>\n",
       "      <th>periodes</th>\n",
       "      <th></th>\n",
       "    </tr>\n",
       "  </thead>\n",
       "  <tbody>\n",
       "    <tr>\n",
       "      <th>1901-1920</th>\n",
       "      <td>2</td>\n",
       "    </tr>\n",
       "    <tr>\n",
       "      <th>1921-1940</th>\n",
       "      <td>27</td>\n",
       "    </tr>\n",
       "    <tr>\n",
       "      <th>1941-1960</th>\n",
       "      <td>67</td>\n",
       "    </tr>\n",
       "    <tr>\n",
       "      <th>1961-1980</th>\n",
       "      <td>70</td>\n",
       "    </tr>\n",
       "    <tr>\n",
       "      <th>1981-2000</th>\n",
       "      <td>16</td>\n",
       "    </tr>\n",
       "  </tbody>\n",
       "</table>\n",
       "</div>"
      ],
      "text/plain": [
       "           Union démocratique du centre\n",
       "periodes                               \n",
       "1901-1920                             2\n",
       "1921-1940                            27\n",
       "1941-1960                            67\n",
       "1961-1980                            70\n",
       "1981-2000                            16"
      ]
     },
     "execution_count": 46,
     "metadata": {},
     "output_type": "execute_result"
    }
   ],
   "source": [
    "### Regrouper et compter avec un fitre sur le parti socialiste suisse\n",
    "pp_udc = pd.DataFrame(cdf_p[cdf_p.ppCode == 'Union démocratique du centre'].groupby('periodes',observed=False).size())\n",
    "pp_udc.columns = ['Union démocratique du centre']\n",
    "pp_udc.tail()\n"
   ]
  },
  {
   "cell_type": "code",
   "execution_count": 47,
   "id": "9b2ead2b-c6a7-4c0d-b861-653c00837b1b",
   "metadata": {
    "execution": {
     "iopub.execute_input": "2025-06-16T21:07:00.573412Z",
     "iopub.status.busy": "2025-06-16T21:07:00.572443Z",
     "iopub.status.idle": "2025-06-16T21:07:00.600080Z",
     "shell.execute_reply": "2025-06-16T21:07:00.598382Z",
     "shell.execute_reply.started": "2025-06-16T21:07:00.573332Z"
    },
    "scrolled": true
   },
   "outputs": [
    {
     "data": {
      "text/html": [
       "<div>\n",
       "<style scoped>\n",
       "    .dataframe tbody tr th:only-of-type {\n",
       "        vertical-align: middle;\n",
       "    }\n",
       "\n",
       "    .dataframe tbody tr th {\n",
       "        vertical-align: top;\n",
       "    }\n",
       "\n",
       "    .dataframe thead th {\n",
       "        text-align: right;\n",
       "    }\n",
       "</style>\n",
       "<table border=\"1\" class=\"dataframe\">\n",
       "  <thead>\n",
       "    <tr style=\"text-align: right;\">\n",
       "      <th></th>\n",
       "      <th>Parti libéral-radical</th>\n",
       "    </tr>\n",
       "    <tr>\n",
       "      <th>periodes</th>\n",
       "      <th></th>\n",
       "    </tr>\n",
       "  </thead>\n",
       "  <tbody>\n",
       "    <tr>\n",
       "      <th>1901-1920</th>\n",
       "      <td>1</td>\n",
       "    </tr>\n",
       "    <tr>\n",
       "      <th>1921-1940</th>\n",
       "      <td>0</td>\n",
       "    </tr>\n",
       "    <tr>\n",
       "      <th>1941-1960</th>\n",
       "      <td>25</td>\n",
       "    </tr>\n",
       "    <tr>\n",
       "      <th>1961-1980</th>\n",
       "      <td>35</td>\n",
       "    </tr>\n",
       "    <tr>\n",
       "      <th>1981-2000</th>\n",
       "      <td>4</td>\n",
       "    </tr>\n",
       "  </tbody>\n",
       "</table>\n",
       "</div>"
      ],
      "text/plain": [
       "           Parti libéral-radical\n",
       "periodes                        \n",
       "1901-1920                      1\n",
       "1921-1940                      0\n",
       "1941-1960                     25\n",
       "1961-1980                     35\n",
       "1981-2000                      4"
      ]
     },
     "execution_count": 47,
     "metadata": {},
     "output_type": "execute_result"
    }
   ],
   "source": [
    "### Regrouper et compter avec un fitre sur le parti socialiste suisse\n",
    "pp_plr = pd.DataFrame(cdf_p[cdf_p.ppCode == 'Parti libéral-radical'].groupby('periodes',observed=False).size())\n",
    "pp_plr.columns = ['Parti libéral-radical']\n",
    "pp_plr.tail()\n"
   ]
  },
  {
   "cell_type": "code",
   "execution_count": 48,
   "id": "d2d12daf-e06e-4ea0-852d-585c1fedfda5",
   "metadata": {
    "execution": {
     "iopub.execute_input": "2025-06-16T21:07:40.640074Z",
     "iopub.status.busy": "2025-06-16T21:07:40.639102Z",
     "iopub.status.idle": "2025-06-16T21:07:40.670237Z",
     "shell.execute_reply": "2025-06-16T21:07:40.667950Z",
     "shell.execute_reply.started": "2025-06-16T21:07:40.639994Z"
    },
    "scrolled": true
   },
   "outputs": [
    {
     "data": {
      "text/html": [
       "<div>\n",
       "<style scoped>\n",
       "    .dataframe tbody tr th:only-of-type {\n",
       "        vertical-align: middle;\n",
       "    }\n",
       "\n",
       "    .dataframe tbody tr th {\n",
       "        vertical-align: top;\n",
       "    }\n",
       "\n",
       "    .dataframe thead th {\n",
       "        text-align: right;\n",
       "    }\n",
       "</style>\n",
       "<table border=\"1\" class=\"dataframe\">\n",
       "  <thead>\n",
       "    <tr style=\"text-align: right;\">\n",
       "      <th></th>\n",
       "      <th>Parti libéral suisse</th>\n",
       "    </tr>\n",
       "    <tr>\n",
       "      <th>periodes</th>\n",
       "      <th></th>\n",
       "    </tr>\n",
       "  </thead>\n",
       "  <tbody>\n",
       "    <tr>\n",
       "      <th>1901-1920</th>\n",
       "      <td>9</td>\n",
       "    </tr>\n",
       "    <tr>\n",
       "      <th>1921-1940</th>\n",
       "      <td>12</td>\n",
       "    </tr>\n",
       "    <tr>\n",
       "      <th>1941-1960</th>\n",
       "      <td>12</td>\n",
       "    </tr>\n",
       "    <tr>\n",
       "      <th>1961-1980</th>\n",
       "      <td>1</td>\n",
       "    </tr>\n",
       "    <tr>\n",
       "      <th>1981-2000</th>\n",
       "      <td>0</td>\n",
       "    </tr>\n",
       "  </tbody>\n",
       "</table>\n",
       "</div>"
      ],
      "text/plain": [
       "           Parti libéral suisse\n",
       "periodes                       \n",
       "1901-1920                     9\n",
       "1921-1940                    12\n",
       "1941-1960                    12\n",
       "1961-1980                     1\n",
       "1981-2000                     0"
      ]
     },
     "execution_count": 48,
     "metadata": {},
     "output_type": "execute_result"
    }
   ],
   "source": [
    "### Regrouper et compter avec un fitre sur le parti socialiste suisse\n",
    "pp_pls = pd.DataFrame(cdf_p[cdf_p.ppCode == 'Parti libéral suisse'].groupby('periodes',observed=False).size())\n",
    "pp_pls.columns = ['Parti libéral suisse']\n",
    "pp_pls.tail()\n"
   ]
  },
  {
   "cell_type": "code",
   "execution_count": 49,
   "id": "bce509f7-7cac-4983-9342-a63d544c4d59",
   "metadata": {
    "execution": {
     "iopub.execute_input": "2025-06-16T21:08:31.944411Z",
     "iopub.status.busy": "2025-06-16T21:08:31.943393Z",
     "iopub.status.idle": "2025-06-16T21:08:31.973674Z",
     "shell.execute_reply": "2025-06-16T21:08:31.971868Z",
     "shell.execute_reply.started": "2025-06-16T21:08:31.944329Z"
    },
    "scrolled": true
   },
   "outputs": [
    {
     "data": {
      "text/html": [
       "<div>\n",
       "<style scoped>\n",
       "    .dataframe tbody tr th:only-of-type {\n",
       "        vertical-align: middle;\n",
       "    }\n",
       "\n",
       "    .dataframe tbody tr th {\n",
       "        vertical-align: top;\n",
       "    }\n",
       "\n",
       "    .dataframe thead th {\n",
       "        text-align: right;\n",
       "    }\n",
       "</style>\n",
       "<table border=\"1\" class=\"dataframe\">\n",
       "  <thead>\n",
       "    <tr style=\"text-align: right;\">\n",
       "      <th></th>\n",
       "      <th>Le Centre</th>\n",
       "    </tr>\n",
       "    <tr>\n",
       "      <th>periodes</th>\n",
       "      <th></th>\n",
       "    </tr>\n",
       "  </thead>\n",
       "  <tbody>\n",
       "    <tr>\n",
       "      <th>1901-1920</th>\n",
       "      <td>0</td>\n",
       "    </tr>\n",
       "    <tr>\n",
       "      <th>1921-1940</th>\n",
       "      <td>0</td>\n",
       "    </tr>\n",
       "    <tr>\n",
       "      <th>1941-1960</th>\n",
       "      <td>0</td>\n",
       "    </tr>\n",
       "    <tr>\n",
       "      <th>1961-1980</th>\n",
       "      <td>0</td>\n",
       "    </tr>\n",
       "    <tr>\n",
       "      <th>1981-2000</th>\n",
       "      <td>0</td>\n",
       "    </tr>\n",
       "  </tbody>\n",
       "</table>\n",
       "</div>"
      ],
      "text/plain": [
       "           Le Centre\n",
       "periodes            \n",
       "1901-1920          0\n",
       "1921-1940          0\n",
       "1941-1960          0\n",
       "1961-1980          0\n",
       "1981-2000          0"
      ]
     },
     "execution_count": 49,
     "metadata": {},
     "output_type": "execute_result"
    }
   ],
   "source": [
    "### Regrouper et compter avec un fitre sur le parti socialiste suisse\n",
    "pp_LC = pd.DataFrame(cdf_p[cdf_p.ppCode == 'Le Centre'].groupby('periodes',observed=False).size())\n",
    "pp_LC.columns = ['Le Centre']\n",
    "pp_LC.tail()\n"
   ]
  },
  {
   "cell_type": "code",
   "execution_count": 50,
   "id": "0ea150ac-4bf8-4b46-9389-7e0da1bfa3c7",
   "metadata": {
    "execution": {
     "iopub.execute_input": "2025-06-16T21:09:41.201600Z",
     "iopub.status.busy": "2025-06-16T21:09:41.200614Z",
     "iopub.status.idle": "2025-06-16T21:09:41.229269Z",
     "shell.execute_reply": "2025-06-16T21:09:41.227301Z",
     "shell.execute_reply.started": "2025-06-16T21:09:41.201519Z"
    },
    "scrolled": true
   },
   "outputs": [
    {
     "data": {
      "text/html": [
       "<div>\n",
       "<style scoped>\n",
       "    .dataframe tbody tr th:only-of-type {\n",
       "        vertical-align: middle;\n",
       "    }\n",
       "\n",
       "    .dataframe tbody tr th {\n",
       "        vertical-align: top;\n",
       "    }\n",
       "\n",
       "    .dataframe thead th {\n",
       "        text-align: right;\n",
       "    }\n",
       "</style>\n",
       "<table border=\"1\" class=\"dataframe\">\n",
       "  <thead>\n",
       "    <tr style=\"text-align: right;\">\n",
       "      <th></th>\n",
       "      <th>Parti des paysans, artisans et indépendants</th>\n",
       "    </tr>\n",
       "    <tr>\n",
       "      <th>periodes</th>\n",
       "      <th></th>\n",
       "    </tr>\n",
       "  </thead>\n",
       "  <tbody>\n",
       "    <tr>\n",
       "      <th>1901-1920</th>\n",
       "      <td>11</td>\n",
       "    </tr>\n",
       "    <tr>\n",
       "      <th>1921-1940</th>\n",
       "      <td>3</td>\n",
       "    </tr>\n",
       "    <tr>\n",
       "      <th>1941-1960</th>\n",
       "      <td>0</td>\n",
       "    </tr>\n",
       "    <tr>\n",
       "      <th>1961-1980</th>\n",
       "      <td>0</td>\n",
       "    </tr>\n",
       "    <tr>\n",
       "      <th>1981-2000</th>\n",
       "      <td>0</td>\n",
       "    </tr>\n",
       "  </tbody>\n",
       "</table>\n",
       "</div>"
      ],
      "text/plain": [
       "           Parti des paysans, artisans et indépendants\n",
       "periodes                                              \n",
       "1901-1920                                           11\n",
       "1921-1940                                            3\n",
       "1941-1960                                            0\n",
       "1961-1980                                            0\n",
       "1981-2000                                            0"
      ]
     },
     "execution_count": 50,
     "metadata": {},
     "output_type": "execute_result"
    }
   ],
   "source": [
    "### Regrouper et compter avec un fitre sur le parti socialiste suisse\n",
    "pp_ppai = pd.DataFrame(cdf_p[cdf_p.ppCode == 'Parti des paysans, artisans et indépendants'].groupby('periodes',observed=False).size())\n",
    "pp_ppai.columns = ['Parti des paysans, artisans et indépendants']\n",
    "pp_ppai.tail()\n"
   ]
  },
  {
   "cell_type": "code",
   "execution_count": 51,
   "id": "4c1d207c-75ec-4e76-acb8-0037eb5cf82f",
   "metadata": {
    "execution": {
     "iopub.execute_input": "2025-06-16T21:10:32.621015Z",
     "iopub.status.busy": "2025-06-16T21:10:32.619970Z",
     "iopub.status.idle": "2025-06-16T21:10:32.653500Z",
     "shell.execute_reply": "2025-06-16T21:10:32.649137Z",
     "shell.execute_reply.started": "2025-06-16T21:10:32.620930Z"
    },
    "scrolled": true
   },
   "outputs": [
    {
     "data": {
      "text/html": [
       "<div>\n",
       "<style scoped>\n",
       "    .dataframe tbody tr th:only-of-type {\n",
       "        vertical-align: middle;\n",
       "    }\n",
       "\n",
       "    .dataframe tbody tr th {\n",
       "        vertical-align: top;\n",
       "    }\n",
       "\n",
       "    .dataframe thead th {\n",
       "        text-align: right;\n",
       "    }\n",
       "</style>\n",
       "<table border=\"1\" class=\"dataframe\">\n",
       "  <thead>\n",
       "    <tr style=\"text-align: right;\">\n",
       "      <th></th>\n",
       "      <th>Parti évangélique suisse</th>\n",
       "    </tr>\n",
       "    <tr>\n",
       "      <th>periodes</th>\n",
       "      <th></th>\n",
       "    </tr>\n",
       "  </thead>\n",
       "  <tbody>\n",
       "    <tr>\n",
       "      <th>1901-1920</th>\n",
       "      <td>2</td>\n",
       "    </tr>\n",
       "    <tr>\n",
       "      <th>1921-1940</th>\n",
       "      <td>2</td>\n",
       "    </tr>\n",
       "    <tr>\n",
       "      <th>1941-1960</th>\n",
       "      <td>5</td>\n",
       "    </tr>\n",
       "    <tr>\n",
       "      <th>1961-1980</th>\n",
       "      <td>3</td>\n",
       "    </tr>\n",
       "    <tr>\n",
       "      <th>1981-2000</th>\n",
       "      <td>0</td>\n",
       "    </tr>\n",
       "  </tbody>\n",
       "</table>\n",
       "</div>"
      ],
      "text/plain": [
       "           Parti évangélique suisse\n",
       "periodes                           \n",
       "1901-1920                         2\n",
       "1921-1940                         2\n",
       "1941-1960                         5\n",
       "1961-1980                         3\n",
       "1981-2000                         0"
      ]
     },
     "execution_count": 51,
     "metadata": {},
     "output_type": "execute_result"
    }
   ],
   "source": [
    "### Regrouper et compter avec un fitre sur le parti socialiste suisse\n",
    "pp_pev = pd.DataFrame(cdf_p[cdf_p.ppCode == 'Parti évangélique suisse'].groupby('periodes',observed=False).size())\n",
    "pp_pev.columns = ['Parti évangélique suisse']\n",
    "pp_pev.tail()\n"
   ]
  },
  {
   "cell_type": "code",
   "execution_count": 52,
   "id": "923aa915-c0bc-46d9-b8d0-b4ccc656db6c",
   "metadata": {
    "execution": {
     "iopub.execute_input": "2025-06-16T21:11:18.028931Z",
     "iopub.status.busy": "2025-06-16T21:11:18.027917Z",
     "iopub.status.idle": "2025-06-16T21:11:18.056886Z",
     "shell.execute_reply": "2025-06-16T21:11:18.054799Z",
     "shell.execute_reply.started": "2025-06-16T21:11:18.028851Z"
    },
    "scrolled": true
   },
   "outputs": [
    {
     "data": {
      "text/html": [
       "<div>\n",
       "<style scoped>\n",
       "    .dataframe tbody tr th:only-of-type {\n",
       "        vertical-align: middle;\n",
       "    }\n",
       "\n",
       "    .dataframe tbody tr th {\n",
       "        vertical-align: top;\n",
       "    }\n",
       "\n",
       "    .dataframe thead th {\n",
       "        text-align: right;\n",
       "    }\n",
       "</style>\n",
       "<table border=\"1\" class=\"dataframe\">\n",
       "  <thead>\n",
       "    <tr style=\"text-align: right;\">\n",
       "      <th></th>\n",
       "      <th>Alliance des indépendants</th>\n",
       "    </tr>\n",
       "    <tr>\n",
       "      <th>periodes</th>\n",
       "      <th></th>\n",
       "    </tr>\n",
       "  </thead>\n",
       "  <tbody>\n",
       "    <tr>\n",
       "      <th>1901-1920</th>\n",
       "      <td>15</td>\n",
       "    </tr>\n",
       "    <tr>\n",
       "      <th>1921-1940</th>\n",
       "      <td>7</td>\n",
       "    </tr>\n",
       "    <tr>\n",
       "      <th>1941-1960</th>\n",
       "      <td>6</td>\n",
       "    </tr>\n",
       "    <tr>\n",
       "      <th>1961-1980</th>\n",
       "      <td>1</td>\n",
       "    </tr>\n",
       "    <tr>\n",
       "      <th>1981-2000</th>\n",
       "      <td>0</td>\n",
       "    </tr>\n",
       "  </tbody>\n",
       "</table>\n",
       "</div>"
      ],
      "text/plain": [
       "           Alliance des indépendants\n",
       "periodes                            \n",
       "1901-1920                         15\n",
       "1921-1940                          7\n",
       "1941-1960                          6\n",
       "1961-1980                          1\n",
       "1981-2000                          0"
      ]
     },
     "execution_count": 52,
     "metadata": {},
     "output_type": "execute_result"
    }
   ],
   "source": [
    "### Regrouper et compter avec un fitre sur le parti socialiste suisse\n",
    "pp_all = pd.DataFrame(cdf_p[cdf_p.ppCode == 'Alliance des indépendants'].groupby('periodes',observed=False).size())\n",
    "pp_all.columns = ['Alliance des indépendants']\n",
    "pp_all.tail()\n"
   ]
  },
  {
   "cell_type": "code",
   "execution_count": 53,
   "id": "d0a5270c-fe37-4572-bb12-bb4a8eb3a788",
   "metadata": {
    "execution": {
     "iopub.execute_input": "2025-06-16T21:12:20.750469Z",
     "iopub.status.busy": "2025-06-16T21:12:20.749442Z",
     "iopub.status.idle": "2025-06-16T21:12:20.776987Z",
     "shell.execute_reply": "2025-06-16T21:12:20.775573Z",
     "shell.execute_reply.started": "2025-06-16T21:12:20.750385Z"
    },
    "scrolled": true
   },
   "outputs": [
    {
     "data": {
      "text/html": [
       "<div>\n",
       "<style scoped>\n",
       "    .dataframe tbody tr th:only-of-type {\n",
       "        vertical-align: middle;\n",
       "    }\n",
       "\n",
       "    .dataframe tbody tr th {\n",
       "        vertical-align: top;\n",
       "    }\n",
       "\n",
       "    .dataframe thead th {\n",
       "        text-align: right;\n",
       "    }\n",
       "</style>\n",
       "<table border=\"1\" class=\"dataframe\">\n",
       "  <thead>\n",
       "    <tr style=\"text-align: right;\">\n",
       "      <th></th>\n",
       "      <th>Parti suisse du travail</th>\n",
       "    </tr>\n",
       "    <tr>\n",
       "      <th>periodes</th>\n",
       "      <th></th>\n",
       "    </tr>\n",
       "  </thead>\n",
       "  <tbody>\n",
       "    <tr>\n",
       "      <th>1901-1920</th>\n",
       "      <td>4</td>\n",
       "    </tr>\n",
       "    <tr>\n",
       "      <th>1921-1940</th>\n",
       "      <td>1</td>\n",
       "    </tr>\n",
       "    <tr>\n",
       "      <th>1941-1960</th>\n",
       "      <td>4</td>\n",
       "    </tr>\n",
       "    <tr>\n",
       "      <th>1961-1980</th>\n",
       "      <td>0</td>\n",
       "    </tr>\n",
       "    <tr>\n",
       "      <th>1981-2000</th>\n",
       "      <td>0</td>\n",
       "    </tr>\n",
       "  </tbody>\n",
       "</table>\n",
       "</div>"
      ],
      "text/plain": [
       "           Parti suisse du travail\n",
       "periodes                          \n",
       "1901-1920                        4\n",
       "1921-1940                        1\n",
       "1941-1960                        4\n",
       "1961-1980                        0\n",
       "1981-2000                        0"
      ]
     },
     "execution_count": 53,
     "metadata": {},
     "output_type": "execute_result"
    }
   ],
   "source": [
    "### Regrouper et compter avec un fitre sur le parti socialiste suisse\n",
    "pp_pop = pd.DataFrame(cdf_p[cdf_p.ppCode == 'Parti suisse du travail'].groupby('periodes',observed=False).size())\n",
    "pp_pop.columns = ['Parti suisse du travail']\n",
    "pp_pop.tail()\n"
   ]
  },
  {
   "cell_type": "code",
   "execution_count": 54,
   "id": "33788379-3769-4707-8d36-bae574322c59",
   "metadata": {
    "execution": {
     "iopub.execute_input": "2025-06-16T21:12:59.603678Z",
     "iopub.status.busy": "2025-06-16T21:12:59.602713Z",
     "iopub.status.idle": "2025-06-16T21:12:59.632052Z",
     "shell.execute_reply": "2025-06-16T21:12:59.629736Z",
     "shell.execute_reply.started": "2025-06-16T21:12:59.603598Z"
    },
    "scrolled": true
   },
   "outputs": [
    {
     "data": {
      "text/html": [
       "<div>\n",
       "<style scoped>\n",
       "    .dataframe tbody tr th:only-of-type {\n",
       "        vertical-align: middle;\n",
       "    }\n",
       "\n",
       "    .dataframe tbody tr th {\n",
       "        vertical-align: top;\n",
       "    }\n",
       "\n",
       "    .dataframe thead th {\n",
       "        text-align: right;\n",
       "    }\n",
       "</style>\n",
       "<table border=\"1\" class=\"dataframe\">\n",
       "  <thead>\n",
       "    <tr style=\"text-align: right;\">\n",
       "      <th></th>\n",
       "      <th>Parti démocratique suisse</th>\n",
       "    </tr>\n",
       "    <tr>\n",
       "      <th>periodes</th>\n",
       "      <th></th>\n",
       "    </tr>\n",
       "  </thead>\n",
       "  <tbody>\n",
       "    <tr>\n",
       "      <th>1901-1920</th>\n",
       "      <td>3</td>\n",
       "    </tr>\n",
       "    <tr>\n",
       "      <th>1921-1940</th>\n",
       "      <td>1</td>\n",
       "    </tr>\n",
       "    <tr>\n",
       "      <th>1941-1960</th>\n",
       "      <td>0</td>\n",
       "    </tr>\n",
       "    <tr>\n",
       "      <th>1961-1980</th>\n",
       "      <td>0</td>\n",
       "    </tr>\n",
       "    <tr>\n",
       "      <th>1981-2000</th>\n",
       "      <td>0</td>\n",
       "    </tr>\n",
       "  </tbody>\n",
       "</table>\n",
       "</div>"
      ],
      "text/plain": [
       "           Parti démocratique suisse\n",
       "periodes                            \n",
       "1901-1920                          3\n",
       "1921-1940                          1\n",
       "1941-1960                          0\n",
       "1961-1980                          0\n",
       "1981-2000                          0"
      ]
     },
     "execution_count": 54,
     "metadata": {},
     "output_type": "execute_result"
    }
   ],
   "source": [
    "### Regrouper et compter avec un fitre sur le parti socialiste suisse\n",
    "pp_pds = pd.DataFrame(cdf_p[cdf_p.ppCode == 'Parti démocratique suisse'].groupby('periodes',observed=False).size())\n",
    "pp_pds.columns = ['Parti démocratique suisse']\n",
    "pp_pds.tail()\n"
   ]
  },
  {
   "cell_type": "code",
   "execution_count": 55,
   "id": "7d8a780a-7dc6-4891-bc47-ecea1c1064b2",
   "metadata": {
    "execution": {
     "iopub.execute_input": "2025-06-16T21:14:01.952351Z",
     "iopub.status.busy": "2025-06-16T21:14:01.950970Z",
     "iopub.status.idle": "2025-06-16T21:14:01.978457Z",
     "shell.execute_reply": "2025-06-16T21:14:01.976188Z",
     "shell.execute_reply.started": "2025-06-16T21:14:01.952171Z"
    },
    "scrolled": true
   },
   "outputs": [
    {
     "data": {
      "text/html": [
       "<div>\n",
       "<style scoped>\n",
       "    .dataframe tbody tr th:only-of-type {\n",
       "        vertical-align: middle;\n",
       "    }\n",
       "\n",
       "    .dataframe tbody tr th {\n",
       "        vertical-align: top;\n",
       "    }\n",
       "\n",
       "    .dataframe thead th {\n",
       "        text-align: right;\n",
       "    }\n",
       "</style>\n",
       "<table border=\"1\" class=\"dataframe\">\n",
       "  <thead>\n",
       "    <tr style=\"text-align: right;\">\n",
       "      <th></th>\n",
       "      <th>Parti bourgeois démocratique</th>\n",
       "    </tr>\n",
       "    <tr>\n",
       "      <th>periodes</th>\n",
       "      <th></th>\n",
       "    </tr>\n",
       "  </thead>\n",
       "  <tbody>\n",
       "    <tr>\n",
       "      <th>1901-1920</th>\n",
       "      <td>0</td>\n",
       "    </tr>\n",
       "    <tr>\n",
       "      <th>1921-1940</th>\n",
       "      <td>1</td>\n",
       "    </tr>\n",
       "    <tr>\n",
       "      <th>1941-1960</th>\n",
       "      <td>9</td>\n",
       "    </tr>\n",
       "    <tr>\n",
       "      <th>1961-1980</th>\n",
       "      <td>3</td>\n",
       "    </tr>\n",
       "    <tr>\n",
       "      <th>1981-2000</th>\n",
       "      <td>0</td>\n",
       "    </tr>\n",
       "  </tbody>\n",
       "</table>\n",
       "</div>"
      ],
      "text/plain": [
       "           Parti bourgeois démocratique\n",
       "periodes                               \n",
       "1901-1920                             0\n",
       "1921-1940                             1\n",
       "1941-1960                             9\n",
       "1961-1980                             3\n",
       "1981-2000                             0"
      ]
     },
     "execution_count": 55,
     "metadata": {},
     "output_type": "execute_result"
    }
   ],
   "source": [
    "### Regrouper et compter avec un fitre sur le parti socialiste suisse\n",
    "pp_pbd = pd.DataFrame(cdf_p[cdf_p.ppCode == 'Parti bourgeois démocratique'].groupby('periodes',observed=False).size())\n",
    "pp_pbd.columns = ['Parti bourgeois démocratique']\n",
    "pp_pbd.tail()"
   ]
  },
  {
   "cell_type": "code",
   "execution_count": 56,
   "id": "cc309a25-47ea-4c01-a62c-5ee65892eb72",
   "metadata": {
    "execution": {
     "iopub.execute_input": "2025-06-16T21:14:52.394072Z",
     "iopub.status.busy": "2025-06-16T21:14:52.393017Z",
     "iopub.status.idle": "2025-06-16T21:14:52.420188Z",
     "shell.execute_reply": "2025-06-16T21:14:52.418714Z",
     "shell.execute_reply.started": "2025-06-16T21:14:52.393989Z"
    },
    "scrolled": true
   },
   "outputs": [
    {
     "data": {
      "text/html": [
       "<div>\n",
       "<style scoped>\n",
       "    .dataframe tbody tr th:only-of-type {\n",
       "        vertical-align: middle;\n",
       "    }\n",
       "\n",
       "    .dataframe tbody tr th {\n",
       "        vertical-align: top;\n",
       "    }\n",
       "\n",
       "    .dataframe thead th {\n",
       "        text-align: right;\n",
       "    }\n",
       "</style>\n",
       "<table border=\"1\" class=\"dataframe\">\n",
       "  <thead>\n",
       "    <tr style=\"text-align: right;\">\n",
       "      <th></th>\n",
       "      <th>Union démocratique fédérale</th>\n",
       "    </tr>\n",
       "    <tr>\n",
       "      <th>periodes</th>\n",
       "      <th></th>\n",
       "    </tr>\n",
       "  </thead>\n",
       "  <tbody>\n",
       "    <tr>\n",
       "      <th>1901-1920</th>\n",
       "      <td>0</td>\n",
       "    </tr>\n",
       "    <tr>\n",
       "      <th>1921-1940</th>\n",
       "      <td>0</td>\n",
       "    </tr>\n",
       "    <tr>\n",
       "      <th>1941-1960</th>\n",
       "      <td>4</td>\n",
       "    </tr>\n",
       "    <tr>\n",
       "      <th>1961-1980</th>\n",
       "      <td>1</td>\n",
       "    </tr>\n",
       "    <tr>\n",
       "      <th>1981-2000</th>\n",
       "      <td>0</td>\n",
       "    </tr>\n",
       "  </tbody>\n",
       "</table>\n",
       "</div>"
      ],
      "text/plain": [
       "           Union démocratique fédérale\n",
       "periodes                              \n",
       "1901-1920                            0\n",
       "1921-1940                            0\n",
       "1941-1960                            4\n",
       "1961-1980                            1\n",
       "1981-2000                            0"
      ]
     },
     "execution_count": 56,
     "metadata": {},
     "output_type": "execute_result"
    }
   ],
   "source": [
    "### Regrouper et compter avec un fitre sur le parti socialiste suisse\n",
    "pp_udf = pd.DataFrame(cdf_p[cdf_p.ppCode == 'Union démocratique fédérale'].groupby('periodes',observed=False).size())\n",
    "pp_udf.columns = ['Union démocratique fédérale']\n",
    "pp_udf.tail()"
   ]
  },
  {
   "cell_type": "code",
   "execution_count": 57,
   "id": "00140bb7-becf-49a2-9730-0cdff22320cb",
   "metadata": {
    "execution": {
     "iopub.execute_input": "2025-06-16T21:15:34.799142Z",
     "iopub.status.busy": "2025-06-16T21:15:34.797094Z",
     "iopub.status.idle": "2025-06-16T21:15:34.826788Z",
     "shell.execute_reply": "2025-06-16T21:15:34.824425Z",
     "shell.execute_reply.started": "2025-06-16T21:15:34.799050Z"
    },
    "scrolled": true
   },
   "outputs": [
    {
     "data": {
      "text/html": [
       "<div>\n",
       "<style scoped>\n",
       "    .dataframe tbody tr th:only-of-type {\n",
       "        vertical-align: middle;\n",
       "    }\n",
       "\n",
       "    .dataframe tbody tr th {\n",
       "        vertical-align: top;\n",
       "    }\n",
       "\n",
       "    .dataframe thead th {\n",
       "        text-align: right;\n",
       "    }\n",
       "</style>\n",
       "<table border=\"1\" class=\"dataframe\">\n",
       "  <thead>\n",
       "    <tr style=\"text-align: right;\">\n",
       "      <th></th>\n",
       "      <th>Les Verts</th>\n",
       "    </tr>\n",
       "    <tr>\n",
       "      <th>periodes</th>\n",
       "      <th></th>\n",
       "    </tr>\n",
       "  </thead>\n",
       "  <tbody>\n",
       "    <tr>\n",
       "      <th>1901-1920</th>\n",
       "      <td>0</td>\n",
       "    </tr>\n",
       "    <tr>\n",
       "      <th>1921-1940</th>\n",
       "      <td>7</td>\n",
       "    </tr>\n",
       "    <tr>\n",
       "      <th>1941-1960</th>\n",
       "      <td>37</td>\n",
       "    </tr>\n",
       "    <tr>\n",
       "      <th>1961-1980</th>\n",
       "      <td>24</td>\n",
       "    </tr>\n",
       "    <tr>\n",
       "      <th>1981-2000</th>\n",
       "      <td>10</td>\n",
       "    </tr>\n",
       "  </tbody>\n",
       "</table>\n",
       "</div>"
      ],
      "text/plain": [
       "           Les Verts\n",
       "periodes            \n",
       "1901-1920          0\n",
       "1921-1940          7\n",
       "1941-1960         37\n",
       "1961-1980         24\n",
       "1981-2000         10"
      ]
     },
     "execution_count": 57,
     "metadata": {},
     "output_type": "execute_result"
    }
   ],
   "source": [
    "### Regrouper et compter avec un fitre sur le parti socialiste suisse\n",
    "pp_v = pd.DataFrame(cdf_p[cdf_p.ppCode == 'Les Verts'].groupby('periodes',observed=False).size())\n",
    "pp_v.columns = ['Les Verts']\n",
    "pp_v.tail()"
   ]
  },
  {
   "cell_type": "code",
   "execution_count": 58,
   "id": "2b030a2c-f1ca-41fe-846b-16cdf58de38c",
   "metadata": {
    "execution": {
     "iopub.execute_input": "2025-06-16T21:16:09.098395Z",
     "iopub.status.busy": "2025-06-16T21:16:09.097341Z",
     "iopub.status.idle": "2025-06-16T21:16:09.128718Z",
     "shell.execute_reply": "2025-06-16T21:16:09.125952Z",
     "shell.execute_reply.started": "2025-06-16T21:16:09.098306Z"
    },
    "scrolled": true
   },
   "outputs": [
    {
     "data": {
      "text/html": [
       "<div>\n",
       "<style scoped>\n",
       "    .dataframe tbody tr th:only-of-type {\n",
       "        vertical-align: middle;\n",
       "    }\n",
       "\n",
       "    .dataframe tbody tr th {\n",
       "        vertical-align: top;\n",
       "    }\n",
       "\n",
       "    .dataframe thead th {\n",
       "        text-align: right;\n",
       "    }\n",
       "</style>\n",
       "<table border=\"1\" class=\"dataframe\">\n",
       "  <thead>\n",
       "    <tr style=\"text-align: right;\">\n",
       "      <th></th>\n",
       "      <th>Les Vertlibéraux</th>\n",
       "    </tr>\n",
       "    <tr>\n",
       "      <th>periodes</th>\n",
       "      <th></th>\n",
       "    </tr>\n",
       "  </thead>\n",
       "  <tbody>\n",
       "    <tr>\n",
       "      <th>1901-1920</th>\n",
       "      <td>0</td>\n",
       "    </tr>\n",
       "    <tr>\n",
       "      <th>1921-1940</th>\n",
       "      <td>0</td>\n",
       "    </tr>\n",
       "    <tr>\n",
       "      <th>1941-1960</th>\n",
       "      <td>0</td>\n",
       "    </tr>\n",
       "    <tr>\n",
       "      <th>1961-1980</th>\n",
       "      <td>0</td>\n",
       "    </tr>\n",
       "    <tr>\n",
       "      <th>1981-2000</th>\n",
       "      <td>0</td>\n",
       "    </tr>\n",
       "  </tbody>\n",
       "</table>\n",
       "</div>"
      ],
      "text/plain": [
       "           Les Vertlibéraux\n",
       "periodes                   \n",
       "1901-1920                 0\n",
       "1921-1940                 0\n",
       "1941-1960                 0\n",
       "1961-1980                 0\n",
       "1981-2000                 0"
      ]
     },
     "execution_count": 58,
     "metadata": {},
     "output_type": "execute_result"
    }
   ],
   "source": [
    "### Regrouper et compter avec un fitre sur le parti socialiste suisse\n",
    "pp_vl = pd.DataFrame(cdf_p[cdf_p.ppCode == 'Les Vertlibéraux'].groupby('periodes',observed=False).size())\n",
    "pp_vl.columns = ['Les Vertlibéraux']\n",
    "pp_vl.tail()"
   ]
  },
  {
   "cell_type": "code",
   "execution_count": 60,
   "id": "05a4c6c7-dc10-434d-b35c-9204b491bece",
   "metadata": {
    "execution": {
     "iopub.execute_input": "2025-06-16T21:20:57.577946Z",
     "iopub.status.busy": "2025-06-16T21:20:57.576206Z",
     "iopub.status.idle": "2025-06-16T21:20:57.626836Z",
     "shell.execute_reply": "2025-06-16T21:20:57.624897Z",
     "shell.execute_reply.started": "2025-06-16T21:20:57.577845Z"
    }
   },
   "outputs": [],
   "source": [
    "### Fusionner les deux tableaux en utilisant l'index comme clé de jointure\n",
    "from functools import reduce\n",
    "\n",
    "dfs = [pp_prd, pp_pss, pp_pdc, pp_udc, pp_plr, pp_pls, pp_LC,\n",
    "       pp_ppai, pp_pev, pp_all, pp_pop, pp_pds, pp_pbd, pp_udf,\n",
    "       pp_v, pp_vl]\n",
    "\n",
    "merged = reduce(lambda left, right: pd.merge(left, right, left_index=True, right_index=True), dfs)"
   ]
  },
  {
   "cell_type": "code",
   "execution_count": 61,
   "id": "60190e17-c1df-4a22-9ec9-be6b77108c46",
   "metadata": {
    "execution": {
     "iopub.execute_input": "2025-06-16T21:21:05.600438Z",
     "iopub.status.busy": "2025-06-16T21:21:05.599407Z",
     "iopub.status.idle": "2025-06-16T21:21:05.633105Z",
     "shell.execute_reply": "2025-06-16T21:21:05.631348Z",
     "shell.execute_reply.started": "2025-06-16T21:21:05.600351Z"
    }
   },
   "outputs": [
    {
     "data": {
      "text/html": [
       "<div>\n",
       "<style scoped>\n",
       "    .dataframe tbody tr th:only-of-type {\n",
       "        vertical-align: middle;\n",
       "    }\n",
       "\n",
       "    .dataframe tbody tr th {\n",
       "        vertical-align: top;\n",
       "    }\n",
       "\n",
       "    .dataframe thead th {\n",
       "        text-align: right;\n",
       "    }\n",
       "</style>\n",
       "<table border=\"1\" class=\"dataframe\">\n",
       "  <thead>\n",
       "    <tr style=\"text-align: right;\">\n",
       "      <th></th>\n",
       "      <th>Parti radical-démocratique</th>\n",
       "      <th>Parti socialiste suisse</th>\n",
       "      <th>Parti démocrate-chrétien</th>\n",
       "      <th>Union démocratique du centre</th>\n",
       "      <th>Parti libéral-radical</th>\n",
       "      <th>Parti libéral suisse</th>\n",
       "      <th>Le Centre</th>\n",
       "      <th>Parti des paysans, artisans et indépendants</th>\n",
       "      <th>Parti évangélique suisse</th>\n",
       "      <th>Alliance des indépendants</th>\n",
       "      <th>Parti suisse du travail</th>\n",
       "      <th>Parti démocratique suisse</th>\n",
       "      <th>Parti bourgeois démocratique</th>\n",
       "      <th>Union démocratique fédérale</th>\n",
       "      <th>Les Verts</th>\n",
       "      <th>Les Vertlibéraux</th>\n",
       "    </tr>\n",
       "    <tr>\n",
       "      <th>periodes</th>\n",
       "      <th></th>\n",
       "      <th></th>\n",
       "      <th></th>\n",
       "      <th></th>\n",
       "      <th></th>\n",
       "      <th></th>\n",
       "      <th></th>\n",
       "      <th></th>\n",
       "      <th></th>\n",
       "      <th></th>\n",
       "      <th></th>\n",
       "      <th></th>\n",
       "      <th></th>\n",
       "      <th></th>\n",
       "      <th></th>\n",
       "      <th></th>\n",
       "    </tr>\n",
       "  </thead>\n",
       "  <tbody>\n",
       "    <tr>\n",
       "      <th>1901-1920</th>\n",
       "      <td>55</td>\n",
       "      <td>43</td>\n",
       "      <td>32</td>\n",
       "      <td>2</td>\n",
       "      <td>1</td>\n",
       "      <td>9</td>\n",
       "      <td>0</td>\n",
       "      <td>11</td>\n",
       "      <td>2</td>\n",
       "      <td>15</td>\n",
       "      <td>4</td>\n",
       "      <td>3</td>\n",
       "      <td>0</td>\n",
       "      <td>0</td>\n",
       "      <td>0</td>\n",
       "      <td>0</td>\n",
       "    </tr>\n",
       "    <tr>\n",
       "      <th>1921-1940</th>\n",
       "      <td>61</td>\n",
       "      <td>50</td>\n",
       "      <td>49</td>\n",
       "      <td>27</td>\n",
       "      <td>0</td>\n",
       "      <td>12</td>\n",
       "      <td>0</td>\n",
       "      <td>3</td>\n",
       "      <td>2</td>\n",
       "      <td>7</td>\n",
       "      <td>1</td>\n",
       "      <td>1</td>\n",
       "      <td>1</td>\n",
       "      <td>0</td>\n",
       "      <td>7</td>\n",
       "      <td>0</td>\n",
       "    </tr>\n",
       "    <tr>\n",
       "      <th>1941-1960</th>\n",
       "      <td>44</td>\n",
       "      <td>95</td>\n",
       "      <td>61</td>\n",
       "      <td>67</td>\n",
       "      <td>25</td>\n",
       "      <td>12</td>\n",
       "      <td>0</td>\n",
       "      <td>0</td>\n",
       "      <td>5</td>\n",
       "      <td>6</td>\n",
       "      <td>4</td>\n",
       "      <td>0</td>\n",
       "      <td>9</td>\n",
       "      <td>4</td>\n",
       "      <td>37</td>\n",
       "      <td>0</td>\n",
       "    </tr>\n",
       "    <tr>\n",
       "      <th>1961-1980</th>\n",
       "      <td>3</td>\n",
       "      <td>47</td>\n",
       "      <td>22</td>\n",
       "      <td>70</td>\n",
       "      <td>35</td>\n",
       "      <td>1</td>\n",
       "      <td>0</td>\n",
       "      <td>0</td>\n",
       "      <td>3</td>\n",
       "      <td>1</td>\n",
       "      <td>0</td>\n",
       "      <td>0</td>\n",
       "      <td>3</td>\n",
       "      <td>1</td>\n",
       "      <td>24</td>\n",
       "      <td>0</td>\n",
       "    </tr>\n",
       "    <tr>\n",
       "      <th>1981-2000</th>\n",
       "      <td>0</td>\n",
       "      <td>22</td>\n",
       "      <td>4</td>\n",
       "      <td>16</td>\n",
       "      <td>4</td>\n",
       "      <td>0</td>\n",
       "      <td>0</td>\n",
       "      <td>0</td>\n",
       "      <td>0</td>\n",
       "      <td>0</td>\n",
       "      <td>0</td>\n",
       "      <td>0</td>\n",
       "      <td>0</td>\n",
       "      <td>0</td>\n",
       "      <td>10</td>\n",
       "      <td>0</td>\n",
       "    </tr>\n",
       "  </tbody>\n",
       "</table>\n",
       "</div>"
      ],
      "text/plain": [
       "           Parti radical-démocratique  Parti socialiste suisse  \\\n",
       "periodes                                                         \n",
       "1901-1920                          55                       43   \n",
       "1921-1940                          61                       50   \n",
       "1941-1960                          44                       95   \n",
       "1961-1980                           3                       47   \n",
       "1981-2000                           0                       22   \n",
       "\n",
       "           Parti démocrate-chrétien  Union démocratique du centre  \\\n",
       "periodes                                                            \n",
       "1901-1920                        32                             2   \n",
       "1921-1940                        49                            27   \n",
       "1941-1960                        61                            67   \n",
       "1961-1980                        22                            70   \n",
       "1981-2000                         4                            16   \n",
       "\n",
       "           Parti libéral-radical  Parti libéral suisse  Le Centre  \\\n",
       "periodes                                                            \n",
       "1901-1920                      1                     9          0   \n",
       "1921-1940                      0                    12          0   \n",
       "1941-1960                     25                    12          0   \n",
       "1961-1980                     35                     1          0   \n",
       "1981-2000                      4                     0          0   \n",
       "\n",
       "           Parti des paysans, artisans et indépendants  \\\n",
       "periodes                                                 \n",
       "1901-1920                                           11   \n",
       "1921-1940                                            3   \n",
       "1941-1960                                            0   \n",
       "1961-1980                                            0   \n",
       "1981-2000                                            0   \n",
       "\n",
       "           Parti évangélique suisse  Alliance des indépendants  \\\n",
       "periodes                                                         \n",
       "1901-1920                         2                         15   \n",
       "1921-1940                         2                          7   \n",
       "1941-1960                         5                          6   \n",
       "1961-1980                         3                          1   \n",
       "1981-2000                         0                          0   \n",
       "\n",
       "           Parti suisse du travail  Parti démocratique suisse  \\\n",
       "periodes                                                        \n",
       "1901-1920                        4                          3   \n",
       "1921-1940                        1                          1   \n",
       "1941-1960                        4                          0   \n",
       "1961-1980                        0                          0   \n",
       "1981-2000                        0                          0   \n",
       "\n",
       "           Parti bourgeois démocratique  Union démocratique fédérale  \\\n",
       "periodes                                                               \n",
       "1901-1920                             0                            0   \n",
       "1921-1940                             1                            0   \n",
       "1941-1960                             9                            4   \n",
       "1961-1980                             3                            1   \n",
       "1981-2000                             0                            0   \n",
       "\n",
       "           Les Verts  Les Vertlibéraux  \n",
       "periodes                                \n",
       "1901-1920          0                 0  \n",
       "1921-1940          7                 0  \n",
       "1941-1960         37                 0  \n",
       "1961-1980         24                 0  \n",
       "1981-2000         10                 0  "
      ]
     },
     "execution_count": 61,
     "metadata": {},
     "output_type": "execute_result"
    }
   ],
   "source": [
    "### Transformer l'index de séquence à chaîne de caractères\n",
    "# ce qui est indispensable pour l'affichage dans un graphique\n",
    "merged.index = merged.index.map(str)\n",
    "merged.tail()"
   ]
  },
  {
   "cell_type": "code",
   "execution_count": 74,
   "id": "d188f96f-feca-464b-b338-f87e3c9cb23b",
   "metadata": {
    "execution": {
     "iopub.execute_input": "2025-06-16T21:31:43.413633Z",
     "iopub.status.busy": "2025-06-16T21:31:43.412634Z",
     "iopub.status.idle": "2025-06-16T21:31:44.446383Z",
     "shell.execute_reply": "2025-06-16T21:31:44.444731Z",
     "shell.execute_reply.started": "2025-06-16T21:31:43.413551Z"
    }
   },
   "outputs": [
    {
     "data": {
      "image/png": "[encoded data removed]",
      "text/plain": [
       "<Figure size 2000x600 with 1 Axes>"
      ]
     },
     "metadata": {},
     "output_type": "display_data"
    }
   ],
   "source": [
    "### Documentation\n",
    "# https://pandas.pydata.org/pandas-docs/stable/reference/api/pandas.DataFrame.plot.bar.html\n",
    "ax = merged.plot.bar(stacked=True, rot=70, fontsize=9, figsize=(20,6), color=['LightSteelBlue', 'LightCoral', 'red', 'Lightgreen', 'Darkgreen', 'orange', 'darkblue', 'yellow', 'grey', 'black', 'violet', 'pink', 'blue', 'brown', 'beige','turquoise'])\n",
    "plt.savefig('Images/naissance_parti_20ans.png')\n",
    "plt.show()"
   ]
  },
  {
   "cell_type": "markdown",
   "id": "ba5a7825-df2b-4e94-9f90-2ffb03267ee3",
   "metadata": {},
   "source": [
    "### Codage par période de dix ans\n",
    "\n",
    "Comme on voit bien dans le graphique précédent qu'il y a deux périodes avec des effectifs radicalements différents, \n",
    "on restraint la période analysée à l'époque contemporaine et on affine avec un découpage par périodes de dix ans "
   ]
  },
  {
   "cell_type": "code",
   "execution_count": 72,
   "id": "999af2f6-438d-4dbb-91b5-ad4ee449c067",
   "metadata": {
    "execution": {
     "iopub.execute_input": "2025-06-16T21:29:16.385058Z",
     "iopub.status.busy": "2025-06-16T21:29:16.384070Z",
     "iopub.status.idle": "2025-06-16T21:29:16.399520Z",
     "shell.execute_reply": "2025-06-16T21:29:16.396822Z",
     "shell.execute_reply.started": "2025-06-16T21:29:16.384977Z"
    },
    "tags": []
   },
   "outputs": [
    {
     "name": "stdout",
     "output_type": "stream",
     "text": [
      "[1781, 1791, 1801, 1811, 1821] [1961, 1971, 1981, 1991, 2001]\n"
     ]
    }
   ],
   "source": [
    "l_10 = list(range(1781, 2010, 10))\n",
    "print(l_10[:5],l_10[-5:])"
   ]
  },
  {
   "cell_type": "code",
   "execution_count": 73,
   "id": "59fbb2a2-39c4-404b-b1c0-10be66742fae",
   "metadata": {
    "execution": {
     "iopub.execute_input": "2025-06-16T21:29:25.921862Z",
     "iopub.status.busy": "2025-06-16T21:29:25.920821Z",
     "iopub.status.idle": "2025-06-16T21:29:25.957342Z",
     "shell.execute_reply": "2025-06-16T21:29:25.955963Z",
     "shell.execute_reply.started": "2025-06-16T21:29:25.921777Z"
    }
   },
   "outputs": [
    {
     "data": {
      "text/html": [
       "<div>\n",
       "<style scoped>\n",
       "    .dataframe tbody tr th:only-of-type {\n",
       "        vertical-align: middle;\n",
       "    }\n",
       "\n",
       "    .dataframe tbody tr th {\n",
       "        vertical-align: top;\n",
       "    }\n",
       "\n",
       "    .dataframe thead th {\n",
       "        text-align: right;\n",
       "    }\n",
       "</style>\n",
       "<table border=\"1\" class=\"dataframe\">\n",
       "  <thead>\n",
       "    <tr style=\"text-align: right;\">\n",
       "      <th></th>\n",
       "      <th>personUri</th>\n",
       "      <th>personLabel</th>\n",
       "      <th>birthYear</th>\n",
       "      <th>politicalpartyUri</th>\n",
       "      <th>ppCode</th>\n",
       "      <th>periodes</th>\n",
       "      <th>per_10</th>\n",
       "    </tr>\n",
       "  </thead>\n",
       "  <tbody>\n",
       "    <tr>\n",
       "      <th>0</th>\n",
       "      <td>http://www.wikidata.org/entity/Q1771134</td>\n",
       "      <td>Markus Ritter</td>\n",
       "      <td>1967</td>\n",
       "      <td>http://www.wikidata.org/entity/Q100934025</td>\n",
       "      <td>Le centre</td>\n",
       "      <td>1961-1980</td>\n",
       "      <td>1961-1970</td>\n",
       "    </tr>\n",
       "    <tr>\n",
       "      <th>1</th>\n",
       "      <td>http://www.wikidata.org/entity/Q1673126</td>\n",
       "      <td>Walter König</td>\n",
       "      <td>1908</td>\n",
       "      <td>http://www.wikidata.org/entity/Q303745</td>\n",
       "      <td>Parti socialiste suisse</td>\n",
       "      <td>1901-1920</td>\n",
       "      <td>1901-1910</td>\n",
       "    </tr>\n",
       "    <tr>\n",
       "      <th>2</th>\n",
       "      <td>http://www.wikidata.org/entity/Q1582102</td>\n",
       "      <td>Hans Roth</td>\n",
       "      <td>1913</td>\n",
       "      <td>http://www.wikidata.org/entity/Q477228</td>\n",
       "      <td>Parti des paysans, artisans et indépendants</td>\n",
       "      <td>1901-1920</td>\n",
       "      <td>1911-1920</td>\n",
       "    </tr>\n",
       "  </tbody>\n",
       "</table>\n",
       "</div>"
      ],
      "text/plain": [
       "                                 personUri    personLabel  birthYear  \\\n",
       "0  http://www.wikidata.org/entity/Q1771134  Markus Ritter       1967   \n",
       "1  http://www.wikidata.org/entity/Q1673126   Walter König       1908   \n",
       "2  http://www.wikidata.org/entity/Q1582102      Hans Roth       1913   \n",
       "\n",
       "                           politicalpartyUri  \\\n",
       "0  http://www.wikidata.org/entity/Q100934025   \n",
       "1     http://www.wikidata.org/entity/Q303745   \n",
       "2     http://www.wikidata.org/entity/Q477228   \n",
       "\n",
       "                                        ppCode   periodes     per_10  \n",
       "0                                    Le centre  1961-1980  1961-1970  \n",
       "1                      Parti socialiste suisse  1901-1920  1901-1910  \n",
       "2  Parti des paysans, artisans et indépendants  1901-1920  1911-1920  "
      ]
     },
     "execution_count": 73,
     "metadata": {},
     "output_type": "execute_result"
    }
   ],
   "source": [
    "### Découpage par décennies\n",
    "## fonction pd.cut : https://pandas.pydata.org/pandas-docs/stable/reference/api/pandas.cut.html\n",
    "\n",
    "cdf_p['per_10'] = pd.cut(cdf_p['birthYear'], l_10, right=False)\n",
    "\n",
    "### Transformer le code ajouté pour qu'il soit plus lisible\n",
    "# noter qu'on a arrondi les valeurs\n",
    "cdf_p['per_10'] = cdf_p['per_10'].apply(lambda x : str(int(x.left))+'-'+ str(int(x.right)-1))\n",
    "\n",
    "# Inspection\n",
    "cdf_p.head(3)"
   ]
  },
  {
   "cell_type": "code",
   "execution_count": 43,
   "id": "1c28f1d0-f1e2-4dfc-9892-2b3204544f45",
   "metadata": {},
   "outputs": [
    {
     "data": {
      "text/html": [
       "<div>\n",
       "<style scoped>\n",
       "    .dataframe tbody tr th:only-of-type {\n",
       "        vertical-align: middle;\n",
       "    }\n",
       "\n",
       "    .dataframe tbody tr th {\n",
       "        vertical-align: top;\n",
       "    }\n",
       "\n",
       "    .dataframe thead th {\n",
       "        text-align: right;\n",
       "    }\n",
       "</style>\n",
       "<table border=\"1\" class=\"dataframe\">\n",
       "  <thead>\n",
       "    <tr style=\"text-align: right;\">\n",
       "      <th></th>\n",
       "      <th>gen_m</th>\n",
       "    </tr>\n",
       "    <tr>\n",
       "      <th>per_10</th>\n",
       "      <th></th>\n",
       "    </tr>\n",
       "  </thead>\n",
       "  <tbody>\n",
       "    <tr>\n",
       "      <th>1951-1960</th>\n",
       "      <td>3178</td>\n",
       "    </tr>\n",
       "    <tr>\n",
       "      <th>1961-1970</th>\n",
       "      <td>2296</td>\n",
       "    </tr>\n",
       "    <tr>\n",
       "      <th>1971-1980</th>\n",
       "      <td>1400</td>\n",
       "    </tr>\n",
       "    <tr>\n",
       "      <th>1981-1990</th>\n",
       "      <td>541</td>\n",
       "    </tr>\n",
       "    <tr>\n",
       "      <th>1991-2000</th>\n",
       "      <td>355</td>\n",
       "    </tr>\n",
       "  </tbody>\n",
       "</table>\n",
       "</div>"
      ],
      "text/plain": [
       "           gen_m\n",
       "per_10          \n",
       "1951-1960   3178\n",
       "1961-1970   2296\n",
       "1971-1980   1400\n",
       "1981-1990    541\n",
       "1991-2000    355"
      ]
     },
     "execution_count": 43,
     "metadata": {},
     "output_type": "execute_result"
    }
   ],
   "source": [
    "### On regroupe par genre comme ci-dessus\n",
    "gender_m_10 = pd.DataFrame(cdf_p[(cdf_p.genCode == 'M') & (cdf_p.birthYear > 1850)].groupby('per_10').size())\n",
    "gender_m_10.columns = ['gen_m']\n",
    "gender_m_10.tail()\n"
   ]
  },
  {
   "cell_type": "code",
   "execution_count": 44,
   "id": "0e28a9c3-ab14-40db-bf3a-469dbcb93500",
   "metadata": {},
   "outputs": [
    {
     "data": {
      "text/html": [
       "<div>\n",
       "<style scoped>\n",
       "    .dataframe tbody tr th:only-of-type {\n",
       "        vertical-align: middle;\n",
       "    }\n",
       "\n",
       "    .dataframe tbody tr th {\n",
       "        vertical-align: top;\n",
       "    }\n",
       "\n",
       "    .dataframe thead th {\n",
       "        text-align: right;\n",
       "    }\n",
       "</style>\n",
       "<table border=\"1\" class=\"dataframe\">\n",
       "  <thead>\n",
       "    <tr style=\"text-align: right;\">\n",
       "      <th></th>\n",
       "      <th>gen_f</th>\n",
       "    </tr>\n",
       "    <tr>\n",
       "      <th>per_10</th>\n",
       "      <th></th>\n",
       "    </tr>\n",
       "  </thead>\n",
       "  <tbody>\n",
       "    <tr>\n",
       "      <th>1951-1960</th>\n",
       "      <td>374</td>\n",
       "    </tr>\n",
       "    <tr>\n",
       "      <th>1961-1970</th>\n",
       "      <td>409</td>\n",
       "    </tr>\n",
       "    <tr>\n",
       "      <th>1971-1980</th>\n",
       "      <td>362</td>\n",
       "    </tr>\n",
       "    <tr>\n",
       "      <th>1981-1990</th>\n",
       "      <td>219</td>\n",
       "    </tr>\n",
       "    <tr>\n",
       "      <th>1991-2000</th>\n",
       "      <td>85</td>\n",
       "    </tr>\n",
       "  </tbody>\n",
       "</table>\n",
       "</div>"
      ],
      "text/plain": [
       "           gen_f\n",
       "per_10          \n",
       "1951-1960    374\n",
       "1961-1970    409\n",
       "1971-1980    362\n",
       "1981-1990    219\n",
       "1991-2000     85"
      ]
     },
     "execution_count": 44,
     "metadata": {},
     "output_type": "execute_result"
    }
   ],
   "source": [
    "### Idem\n",
    "gender_f_10 = pd.DataFrame(cdf_p[(cdf_p.genCode == 'F')& (cdf_p.birthYear > 1850)].groupby('per_10').size())\n",
    "gender_f_10.columns = ['gen_f']\n",
    "gender_f_10.tail()\n"
   ]
  },
  {
   "cell_type": "code",
   "execution_count": 45,
   "id": "ebcbeed3-851b-416e-9f30-d1251ac5e579",
   "metadata": {},
   "outputs": [
    {
     "data": {
      "text/html": [
       "<div>\n",
       "<style scoped>\n",
       "    .dataframe tbody tr th:only-of-type {\n",
       "        vertical-align: middle;\n",
       "    }\n",
       "\n",
       "    .dataframe tbody tr th {\n",
       "        vertical-align: top;\n",
       "    }\n",
       "\n",
       "    .dataframe thead th {\n",
       "        text-align: right;\n",
       "    }\n",
       "</style>\n",
       "<table border=\"1\" class=\"dataframe\">\n",
       "  <thead>\n",
       "    <tr style=\"text-align: right;\">\n",
       "      <th></th>\n",
       "      <th>gen_m</th>\n",
       "      <th>gen_f</th>\n",
       "    </tr>\n",
       "    <tr>\n",
       "      <th>per_10</th>\n",
       "      <th></th>\n",
       "      <th></th>\n",
       "    </tr>\n",
       "  </thead>\n",
       "  <tbody>\n",
       "    <tr>\n",
       "      <th>1951-1960</th>\n",
       "      <td>3178</td>\n",
       "      <td>374</td>\n",
       "    </tr>\n",
       "    <tr>\n",
       "      <th>1961-1970</th>\n",
       "      <td>2296</td>\n",
       "      <td>409</td>\n",
       "    </tr>\n",
       "    <tr>\n",
       "      <th>1971-1980</th>\n",
       "      <td>1400</td>\n",
       "      <td>362</td>\n",
       "    </tr>\n",
       "    <tr>\n",
       "      <th>1981-1990</th>\n",
       "      <td>541</td>\n",
       "      <td>219</td>\n",
       "    </tr>\n",
       "    <tr>\n",
       "      <th>1991-2000</th>\n",
       "      <td>355</td>\n",
       "      <td>85</td>\n",
       "    </tr>\n",
       "  </tbody>\n",
       "</table>\n",
       "</div>"
      ],
      "text/plain": [
       "           gen_m  gen_f\n",
       "per_10                 \n",
       "1951-1960   3178    374\n",
       "1961-1970   2296    409\n",
       "1971-1980   1400    362\n",
       "1981-1990    541    219\n",
       "1991-2000    355     85"
      ]
     },
     "execution_count": 45,
     "metadata": {},
     "output_type": "execute_result"
    }
   ],
   "source": [
    "merged_10 = pd.merge(gender_m_10, gender_f_10, left_index=True, right_index=True)\n",
    "merged_10.tail()"
   ]
  },
  {
   "cell_type": "code",
   "execution_count": 46,
   "id": "ae8f6224-9c2b-47ce-ace0-c1d4a05c4869",
   "metadata": {},
   "outputs": [
    {
     "data": {
      "text/html": [
       "<div>\n",
       "<style scoped>\n",
       "    .dataframe tbody tr th:only-of-type {\n",
       "        vertical-align: middle;\n",
       "    }\n",
       "\n",
       "    .dataframe tbody tr th {\n",
       "        vertical-align: top;\n",
       "    }\n",
       "\n",
       "    .dataframe thead th {\n",
       "        text-align: right;\n",
       "    }\n",
       "</style>\n",
       "<table border=\"1\" class=\"dataframe\">\n",
       "  <thead>\n",
       "    <tr style=\"text-align: right;\">\n",
       "      <th></th>\n",
       "      <th>gen_m</th>\n",
       "      <th>gen_f</th>\n",
       "      <th>tot</th>\n",
       "    </tr>\n",
       "    <tr>\n",
       "      <th>per_10</th>\n",
       "      <th></th>\n",
       "      <th></th>\n",
       "      <th></th>\n",
       "    </tr>\n",
       "  </thead>\n",
       "  <tbody>\n",
       "    <tr>\n",
       "      <th>1951-1960</th>\n",
       "      <td>3178</td>\n",
       "      <td>374</td>\n",
       "      <td>3552</td>\n",
       "    </tr>\n",
       "    <tr>\n",
       "      <th>1961-1970</th>\n",
       "      <td>2296</td>\n",
       "      <td>409</td>\n",
       "      <td>2705</td>\n",
       "    </tr>\n",
       "    <tr>\n",
       "      <th>1971-1980</th>\n",
       "      <td>1400</td>\n",
       "      <td>362</td>\n",
       "      <td>1762</td>\n",
       "    </tr>\n",
       "    <tr>\n",
       "      <th>1981-1990</th>\n",
       "      <td>541</td>\n",
       "      <td>219</td>\n",
       "      <td>760</td>\n",
       "    </tr>\n",
       "    <tr>\n",
       "      <th>1991-2000</th>\n",
       "      <td>355</td>\n",
       "      <td>85</td>\n",
       "      <td>440</td>\n",
       "    </tr>\n",
       "  </tbody>\n",
       "</table>\n",
       "</div>"
      ],
      "text/plain": [
       "           gen_m  gen_f   tot\n",
       "per_10                       \n",
       "1951-1960   3178    374  3552\n",
       "1961-1970   2296    409  2705\n",
       "1971-1980   1400    362  1762\n",
       "1981-1990    541    219   760\n",
       "1991-2000    355     85   440"
      ]
     },
     "execution_count": 46,
     "metadata": {},
     "output_type": "execute_result"
    }
   ],
   "source": [
    "### On transforme le type de valeur de l'index\n",
    "# et on ajoute une colonne avec le total\n",
    "merged_10.index = merged_10.index.map(str)\n",
    "merged_10['tot']=merged_10['gen_m']+merged_10['gen_f']\n",
    "merged_10.tail()"
   ]
  },
  {
   "cell_type": "code",
   "execution_count": 47,
   "id": "5569f274-e09d-4be4-a3bc-352f99d58997",
   "metadata": {},
   "outputs": [
    {
     "data": {
      "text/plain": [
       "[0.98, 0.95, 0.95]"
      ]
     },
     "execution_count": 47,
     "metadata": {},
     "output_type": "execute_result"
    }
   ],
   "source": [
    "### On prépare les valeurs pour l'affichage des fréquences (proportion par rapport au total)\n",
    "\n",
    "# liste qui contient toutes les valeurs à la suite\n",
    "m_f = merged_10.gen_m.to_list()+merged_10.gen_f.to_list()\n",
    "\n",
    "# liste d'égale longueur que la précédente qui contient \n",
    "# les valeurs de l'index, i.e. les périodes\n",
    "tot = merged_10.tot.to_list()*2\n",
    "\n",
    "# liste qui contient les valeurs des fréquences\n",
    "lp = [round(v/t, 2) for v,t in zip(m_f, tot)]\n",
    "lp[:3]"
   ]
  },
  {
   "cell_type": "code",
   "execution_count": 48,
   "id": "928a67b9-19f2-44e7-b4eb-7b20b534f73c",
   "metadata": {},
   "outputs": [
    {
     "data": {
      "image/png": "[encoded data removed]",
      "text/plain": [
       "<Figure size 2000x800 with 1 Axes>"
      ]
     },
     "metadata": {},
     "output_type": "display_data"
    }
   ],
   "source": [
    "### Graphique avec la distribution par période et genre (M,F)\n",
    "# Noter que les effectifs du genre 'Autres' étant très faibles,\n",
    "# on ne les analyse pas de manière sérielle mais on peut les analyser qualitatiement\n",
    "\n",
    "ax = merged_10.plot.bar(stacked=True, y=['gen_m', 'gen_f'], \\\n",
    "                        rot=70, fontsize=9, figsize=(20,8), color=['LightSteelBlue', 'LightCoral'])\n",
    "\n",
    "\n",
    "### https://www.pythoncharts.com/matplotlib/stacked-bar-charts-labels/\n",
    "\n",
    "\n",
    "## On ajoute une étiquette concernant la valeur de fréquence\n",
    "# à chaque rectangle dans le graphe, en utilisant la list 'lp' préparée précédemment\n",
    "# Il y a autant de triangles que les valeurs d'index x le nombre de variables\n",
    "\n",
    "for bar,v in zip(ax.patches,lp): \n",
    "\n",
    "    ax.text(\n",
    "      # Met les étiquette aux centre des rectangles\n",
    "      bar.get_x() + bar.get_width() / 2,\n",
    "        \n",
    "      # Ajoute les coordonnées verticales\n",
    "      bar.get_height()/2 + bar.get_y(), \n",
    "      \n",
    "      # Ajoute les valeurs\n",
    "      v,\n",
    "\n",
    "      # centre et met du style aux étiquettes\n",
    "      ha='center',\n",
    "      color='black',\n",
    "      weight='bold',\n",
    "      size=10\n",
    "  )\n",
    "\n",
    "plt.ylabel('Effectifs par période avec proportion des genres')\n",
    "plt.xlabel('Périodes')\n",
    "plt.title('Distribution des naissances par périodes de dix ans, proportion des genres par période')\n",
    "\n",
    "## On peut enregistrer l'image dans un fichier (noter le dossier créé préalablement)\n",
    "# qu'on pourra ensuite introduire dans un travail et commenter\n",
    "\n",
    "# Doc.: https://matplotlib.org/stable/api/_as_gen/matplotlib.pyplot.savefig.html\n",
    "plt.savefig('images/naissances_distribution_10ans_genre.jpg', bbox_inches='tight',\n",
    "                       pad_inches=0.2)\n",
    "plt.show()"
   ]
  }
 ],
 "metadata": {
  "kernelspec": {
   "display_name": "p3_analyse",
   "language": "python",
   "name": "p3_analyse"
  },
  "language_info": {
   "codemirror_mode": {
    "name": "ipython",
    "version": 3
   },
   "file_extension": ".py",
   "mimetype": "text/x-python",
   "name": "python",
   "nbconvert_exporter": "python",
   "pygments_lexer": "ipython3",
   "version": "3.12.5"
  }
 },
 "nbformat": 4,
 "nbformat_minor": 5
}
