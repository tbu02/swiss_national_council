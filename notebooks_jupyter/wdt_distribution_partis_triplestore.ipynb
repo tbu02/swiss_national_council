{
 "cells": [
  {
   "cell_type": "markdown",
   "id": "9150426b-5190-4539-8204-61253a0f1bd4",
   "metadata": {},
   "source": [
    "# Distribution des partis politiques dans le temps \n",
    "\n",
    "Dans ce carnet est proposée une analyse de la distribution dans le temps des années de naissance de la population retenue, et la mise en évidence de générations.\n",
    "\n",
    "On met aussi en évidence l'évolution dans le temps des partis politiques"
   ]
  },
  {
   "cell_type": "code",
   "execution_count": 1,
   "id": "231af92f-a7b1-479a-a734-0b8a9c0722e8",
   "metadata": {
    "execution": {
     "iopub.execute_input": "2025-06-23T16:44:25.479922Z",
     "iopub.status.busy": "2025-06-23T16:44:25.478846Z",
     "iopub.status.idle": "2025-06-23T16:44:27.113294Z",
     "shell.execute_reply": "2025-06-23T16:44:27.110818Z",
     "shell.execute_reply.started": "2025-06-23T16:44:25.479839Z"
    },
    "tags": []
   },
   "outputs": [],
   "source": [
    "### Librairie à installer dans l'environnement conda (si on exécute en local)\n",
    "# qui sera choisi pour exécuter le carnet\n",
    "from SPARQLWrapper import SPARQLWrapper, JSON, TURTLE, XML, RDFXML\n",
    "import pandas as pd\n",
    "\n",
    "import matplotlib.pyplot as plt\n",
    "import numpy as np"
   ]
  },
  {
   "cell_type": "code",
   "execution_count": 2,
   "id": "e6ce0f0e-db36-47cd-8015-a5bf33f0f7fa",
   "metadata": {
    "execution": {
     "iopub.execute_input": "2025-06-23T16:44:27.115809Z",
     "iopub.status.busy": "2025-06-23T16:44:27.115236Z",
     "iopub.status.idle": "2025-06-23T16:44:27.127287Z",
     "shell.execute_reply": "2025-06-23T16:44:27.123878Z",
     "shell.execute_reply.started": "2025-06-23T16:44:27.115777Z"
    },
    "tags": []
   },
   "outputs": [],
   "source": [
    "### Librairies déjà installées avec Python\n",
    "import pprint\n",
    "import csv\n",
    "import sys\n",
    "\n",
    "import sqlite3 as sql\n",
    "\n",
    "import time\n",
    "import datetime\n",
    "from dateutil import parser\n",
    "\n",
    "from importlib import reload\n",
    "from shutil import copyfile\n"
   ]
  },
  {
   "cell_type": "code",
   "execution_count": 3,
   "id": "9b90838d-2160-49e3-8adb-a67ff2cd112e",
   "metadata": {
    "execution": {
     "iopub.execute_input": "2025-06-23T16:44:27.129988Z",
     "iopub.status.busy": "2025-06-23T16:44:27.129515Z",
     "iopub.status.idle": "2025-06-23T16:44:27.171243Z",
     "shell.execute_reply": "2025-06-23T16:44:27.168456Z",
     "shell.execute_reply.started": "2025-06-23T16:44:27.129943Z"
    }
   },
   "outputs": [],
   "source": [
    "### Importer un module de fonctions crées ad hoc\n",
    "##  ATTENTION : le fichier 'sparql_functions.py' doit se trouver \n",
    "#   dans un dossier qui se situe dans le chemin ('path') de recherche\n",
    "#   vu par le présent carnet Jupyter afin que\n",
    "#   l'importation fonctionne correctement\n",
    "\n",
    "# Add parent directory to the path\n",
    "sys.path.insert(0, '..')\n",
    "\n",
    "### If you want to add the parent-parent directory,\n",
    "sys.path.insert(0, '../..')\n",
    "\n",
    "\n",
    "import sparql_functions as spqf"
   ]
  },
  {
   "cell_type": "markdown",
   "id": "3fe8665b-f64c-42bb-8786-4aee3673867c",
   "metadata": {},
   "source": [
    "## SPARQL Query qui récupère les données\n",
    "\n",
    "On exécute la requête grâce à une fonction de la librairie locale qui réalise la mise en forme"
   ]
  },
  {
   "cell_type": "code",
   "execution_count": 4,
   "id": "cf08874b-9ba0-4f5c-8eee-aebd9f0d0d26",
   "metadata": {
    "execution": {
     "iopub.execute_input": "2025-06-23T16:44:27.422530Z",
     "iopub.status.busy": "2025-06-23T16:44:27.421550Z",
     "iopub.status.idle": "2025-06-23T16:44:27.438009Z",
     "shell.execute_reply": "2025-06-23T16:44:27.434947Z",
     "shell.execute_reply.started": "2025-06-23T16:44:27.422418Z"
    }
   },
   "outputs": [],
   "source": [
    "## define SPARQL enpoint\n",
    "endpoint = \"https://ag1klf98suhepl85.allegrograph.cloud/repositories/Swiss_national_council\""
   ]
  },
  {
   "cell_type": "code",
   "execution_count": 5,
   "id": "164e80e8-1834-473a-a605-a3c1a660eff3",
   "metadata": {
    "execution": {
     "iopub.execute_input": "2025-06-23T16:44:27.902172Z",
     "iopub.status.busy": "2025-06-23T16:44:27.901181Z",
     "iopub.status.idle": "2025-06-23T16:44:27.917264Z",
     "shell.execute_reply": "2025-06-23T16:44:27.913149Z",
     "shell.execute_reply.started": "2025-06-23T16:44:27.902051Z"
    }
   },
   "outputs": [],
   "source": [
    "query = \"\"\"\n",
    "PREFIX wd: <http://www.wikidata.org/entity/>\n",
    "PREFIX wdt: <http://www.wikidata.org/prop/direct/>\n",
    "PREFIX rdfs: <http://www.w3.org/2000/01/rdf-schema#>\n",
    "\n",
    "\n",
    "SELECT  ?s (MAX(?label) as ?label) (xsd:integer(MAX(?birthDate)) as ?birthDate) (MAX(?politicalparty) as ?politicalparty)\n",
    "WHERE {\n",
    "    GRAPH <https://github.com/tbu02/swiss_national_council/blob/main/Graphiques/wikidata_imported_data.md>\n",
    "        {?s wdt:P102 ?politicalparty;\n",
    "            rdfs:label ?label;\n",
    "            wdt:P569 ?birthDate.\n",
    "          }\n",
    "}\n",
    "GROUP BY ?s\n",
    "\"\"\""
   ]
  },
  {
   "cell_type": "code",
   "execution_count": 6,
   "id": "70f2370f-e287-404f-ba7b-aaf79021047e",
   "metadata": {
    "execution": {
     "iopub.execute_input": "2025-06-23T16:44:28.345250Z",
     "iopub.status.busy": "2025-06-23T16:44:28.342752Z",
     "iopub.status.idle": "2025-06-23T16:44:31.711043Z",
     "shell.execute_reply": "2025-06-23T16:44:31.707143Z",
     "shell.execute_reply.started": "2025-06-23T16:44:28.345004Z"
    }
   },
   "outputs": [],
   "source": [
    "### Executer la requête avec les fonctions de la librairie locale\n",
    "qr = spqf.get_json_sparql_result(endpoint,query)"
   ]
  },
  {
   "cell_type": "code",
   "execution_count": 7,
   "id": "21bfd9f5-4c63-4b8c-af10-f9ddec203db2",
   "metadata": {
    "execution": {
     "iopub.execute_input": "2025-06-23T16:44:31.718036Z",
     "iopub.status.busy": "2025-06-23T16:44:31.715840Z",
     "iopub.status.idle": "2025-06-23T16:44:31.745636Z",
     "shell.execute_reply": "2025-06-23T16:44:31.742778Z",
     "shell.execute_reply.started": "2025-06-23T16:44:31.717967Z"
    }
   },
   "outputs": [
    {
     "name": "stdout",
     "output_type": "stream",
     "text": [
      "1648\n"
     ]
    },
    {
     "data": {
      "text/plain": [
       "[['http://www.wikidata.org/entity/Q1771134',\n",
       "  'Markus Ritter',\n",
       "  '1967',\n",
       "  'http://www.wikidata.org/entity/Q100934025'],\n",
       " ['http://www.wikidata.org/entity/Q1673126',\n",
       "  'Walter König',\n",
       "  '1908',\n",
       "  'http://www.wikidata.org/entity/Q303745'],\n",
       " ['http://www.wikidata.org/entity/Q1582102',\n",
       "  'Hans Roth',\n",
       "  '1913',\n",
       "  'http://www.wikidata.org/entity/Q477228']]"
      ]
     },
     "execution_count": 7,
     "metadata": {},
     "output_type": "execute_result"
    }
   ],
   "source": [
    "r = [l for l in spqf.sparql_result_to_list(qr)]\n",
    "print(len(r))\n",
    "r[:3]"
   ]
  },
  {
   "cell_type": "code",
   "execution_count": 8,
   "id": "236bbba5-a4df-4a7b-b215-44c9bc3f355f",
   "metadata": {
    "execution": {
     "iopub.execute_input": "2025-06-23T16:44:31.749681Z",
     "iopub.status.busy": "2025-06-23T16:44:31.748812Z",
     "iopub.status.idle": "2025-06-23T16:44:31.828443Z",
     "shell.execute_reply": "2025-06-23T16:44:31.824975Z",
     "shell.execute_reply.started": "2025-06-23T16:44:31.749608Z"
    }
   },
   "outputs": [
    {
     "data": {
      "text/html": [
       "<div>\n",
       "<style scoped>\n",
       "    .dataframe tbody tr th:only-of-type {\n",
       "        vertical-align: middle;\n",
       "    }\n",
       "\n",
       "    .dataframe tbody tr th {\n",
       "        vertical-align: top;\n",
       "    }\n",
       "\n",
       "    .dataframe thead th {\n",
       "        text-align: right;\n",
       "    }\n",
       "</style>\n",
       "<table border=\"1\" class=\"dataframe\">\n",
       "  <thead>\n",
       "    <tr style=\"text-align: right;\">\n",
       "      <th></th>\n",
       "      <th>personUri</th>\n",
       "      <th>personLabel</th>\n",
       "      <th>birthYear</th>\n",
       "      <th>politicalpartyUri</th>\n",
       "    </tr>\n",
       "  </thead>\n",
       "  <tbody>\n",
       "    <tr>\n",
       "      <th>0</th>\n",
       "      <td>http://www.wikidata.org/entity/Q1771134</td>\n",
       "      <td>Markus Ritter</td>\n",
       "      <td>1967</td>\n",
       "      <td>http://www.wikidata.org/entity/Q100934025</td>\n",
       "    </tr>\n",
       "    <tr>\n",
       "      <th>1</th>\n",
       "      <td>http://www.wikidata.org/entity/Q1673126</td>\n",
       "      <td>Walter König</td>\n",
       "      <td>1908</td>\n",
       "      <td>http://www.wikidata.org/entity/Q303745</td>\n",
       "    </tr>\n",
       "    <tr>\n",
       "      <th>2</th>\n",
       "      <td>http://www.wikidata.org/entity/Q1582102</td>\n",
       "      <td>Hans Roth</td>\n",
       "      <td>1913</td>\n",
       "      <td>http://www.wikidata.org/entity/Q477228</td>\n",
       "    </tr>\n",
       "    <tr>\n",
       "      <th>3</th>\n",
       "      <td>http://www.wikidata.org/entity/Q1065795</td>\n",
       "      <td>Charles Poncet</td>\n",
       "      <td>1946</td>\n",
       "      <td>http://www.wikidata.org/entity/Q667785</td>\n",
       "    </tr>\n",
       "    <tr>\n",
       "      <th>4</th>\n",
       "      <td>http://www.wikidata.org/entity/Q59843752</td>\n",
       "      <td>Guglielmo Canevascini</td>\n",
       "      <td>1886</td>\n",
       "      <td>http://www.wikidata.org/entity/Q303745</td>\n",
       "    </tr>\n",
       "  </tbody>\n",
       "</table>\n",
       "</div>"
      ],
      "text/plain": [
       "                                  personUri            personLabel birthYear  \\\n",
       "0   http://www.wikidata.org/entity/Q1771134          Markus Ritter      1967   \n",
       "1   http://www.wikidata.org/entity/Q1673126           Walter König      1908   \n",
       "2   http://www.wikidata.org/entity/Q1582102              Hans Roth      1913   \n",
       "3   http://www.wikidata.org/entity/Q1065795         Charles Poncet      1946   \n",
       "4  http://www.wikidata.org/entity/Q59843752  Guglielmo Canevascini      1886   \n",
       "\n",
       "                           politicalpartyUri  \n",
       "0  http://www.wikidata.org/entity/Q100934025  \n",
       "1     http://www.wikidata.org/entity/Q303745  \n",
       "2     http://www.wikidata.org/entity/Q477228  \n",
       "3     http://www.wikidata.org/entity/Q667785  \n",
       "4     http://www.wikidata.org/entity/Q303745  "
      ]
     },
     "execution_count": 8,
     "metadata": {},
     "output_type": "execute_result"
    }
   ],
   "source": [
    "### Créer un DataFrame à partir du résultat\n",
    "df_p = pd.DataFrame(r)\n",
    "df_p.columns = ['personUri', 'personLabel', 'birthYear', 'politicalpartyUri']\n",
    "df_p.head()"
   ]
  },
  {
   "cell_type": "code",
   "execution_count": 9,
   "id": "eb664e6b-7fd0-4757-8bff-db79a0d52f97",
   "metadata": {
    "execution": {
     "iopub.execute_input": "2025-06-23T16:44:31.836628Z",
     "iopub.status.busy": "2025-06-23T16:44:31.833913Z",
     "iopub.status.idle": "2025-06-23T16:44:31.926344Z",
     "shell.execute_reply": "2025-06-23T16:44:31.924397Z",
     "shell.execute_reply.started": "2025-06-23T16:44:31.836504Z"
    },
    "tags": []
   },
   "outputs": [
    {
     "name": "stdout",
     "output_type": "stream",
     "text": [
      "<class 'pandas.core.frame.DataFrame'>\n",
      "RangeIndex: 1648 entries, 0 to 1647\n",
      "Data columns (total 4 columns):\n",
      " #   Column             Non-Null Count  Dtype \n",
      "---  ------             --------------  ----- \n",
      " 0   personUri          1648 non-null   object\n",
      " 1   personLabel        1648 non-null   object\n",
      " 2   birthYear          1648 non-null   object\n",
      " 3   politicalpartyUri  1648 non-null   object\n",
      "dtypes: object(4)\n",
      "memory usage: 51.6+ KB\n"
     ]
    }
   ],
   "source": [
    "df_p.info()"
   ]
  },
  {
   "cell_type": "markdown",
   "id": "4912fbea-fc0a-443c-a015-034431fbf194",
   "metadata": {},
   "source": [
    "### Vérifier les partis présents directement sur la base de données\n",
    "\n",
    "\n",
    "Voir les requêtes correspondantes dans le [SPARQL notebook qui créé la population](../../sparqlbooks/wikidata_import_population.sparqlbook)"
   ]
  },
  {
   "cell_type": "markdown",
   "id": "2de05023-549c-4de3-8dd8-1c78afaf6227",
   "metadata": {},
   "source": [
    "### Ajouter une colonne au DataFrame avec le code du parti politique "
   ]
  },
  {
   "cell_type": "code",
   "execution_count": 90,
   "id": "0a674d8c-3a47-4c0a-9af4-7b68d6512e7a",
   "metadata": {
    "execution": {
     "iopub.execute_input": "2025-06-23T19:30:39.422697Z",
     "iopub.status.busy": "2025-06-23T19:30:39.421760Z",
     "iopub.status.idle": "2025-06-23T19:30:39.445498Z",
     "shell.execute_reply": "2025-06-23T19:30:39.442638Z",
     "shell.execute_reply.started": "2025-06-23T19:30:39.422618Z"
    }
   },
   "outputs": [],
   "source": [
    "### On créé d'abord une fonction qui effectue le travail\n",
    "\n",
    "## l'argument de la fonction 'pp_uri' est un nom choisi librement\n",
    "# il est ensuite appelé dans la fonction comme variable\n",
    "# et contient la valeur introduite lors de l'utilisation de la fonction \n",
    "def code_politicalparty(pp_uri):\n",
    "    if pp_uri == 'http://www.wikidata.org/entity/Q13850128':\n",
    "        a = 'Parti radical-démocratique'\n",
    "    elif pp_uri =='http://www.wikidata.org/entity/Q303745':\n",
    "        a = 'Parti_socialiste_suisse'\n",
    "    elif pp_uri =='http://www.wikidata.org/entity/Q659461':\n",
    "        a = 'Parti_démocrate_chrétien'\n",
    "    elif pp_uri =='http://www.wikidata.org/entity/Q385258':\n",
    "        a = 'Union_démocratique_du_centre'\n",
    "    elif pp_uri =='http://www.wikidata.org/entity/Q202638':\n",
    "        a = 'Parti_libéral_radical'\n",
    "    elif pp_uri =='http://www.wikidata.org/entity/Q667785':\n",
    "        a = 'Parti libéral suisse'\n",
    "    elif pp_uri =='http://www.wikidata.org/entity/Q100934025':\n",
    "        a = 'Le_centre'\n",
    "    elif pp_uri =='http://www.wikidata.org/entity/Q477228':\n",
    "        a = 'Parti des paysans, artisans et indépendants'\n",
    "    elif pp_uri =='http://www.wikidata.org/entity/Q667718':\n",
    "        a = 'Parti évangélique suisse'\n",
    "    elif pp_uri =='http://www.wikidata.org/entity/Q550295':\n",
    "        a = 'Alliance des indépendants'\n",
    "    elif pp_uri =='http://www.wikidata.org/entity/Q661771':\n",
    "        a = 'Parti suisse du travail'\n",
    "    elif pp_uri =='http://www.wikidata.org/entity/Q681843':\n",
    "        a = 'Parti démocratique suisse'\n",
    "    elif pp_uri =='http://www.wikidata.org/entity/Q151768':\n",
    "        a = 'Parti bourgeois démocratique'\n",
    "    elif pp_uri =='http://www.wikidata.org/entity/Q667836':\n",
    "        a = 'Union démocratique fédérale'\n",
    "    elif pp_uri =='http://www.wikidata.org/entity/Q659739':\n",
    "        a = 'Les_Verts'\n",
    "    elif pp_uri =='http://www.wikidata.org/entity/Q545900': \n",
    "        a = 'Vertlibéraux'\n",
    "    else:\n",
    "        a = 'Autres'\n",
    "    return a    "
   ]
  },
  {
   "cell_type": "code",
   "execution_count": 91,
   "id": "449fc512-efbd-4dcb-9e47-219f80ed8a4e",
   "metadata": {
    "execution": {
     "iopub.execute_input": "2025-06-23T19:30:47.940141Z",
     "iopub.status.busy": "2025-06-23T19:30:47.939270Z",
     "iopub.status.idle": "2025-06-23T19:30:47.952049Z",
     "shell.execute_reply": "2025-06-23T19:30:47.949597Z",
     "shell.execute_reply.started": "2025-06-23T19:30:47.940032Z"
    }
   },
   "outputs": [
    {
     "name": "stdout",
     "output_type": "stream",
     "text": [
      "Parti_socialiste_suisse\n"
     ]
    }
   ],
   "source": [
    "### On teste la fonction\n",
    "print(code_politicalparty('http://www.wikidata.org/entity/Q303745'))"
   ]
  },
  {
   "cell_type": "code",
   "execution_count": 92,
   "id": "199ee5a4-1cdb-4a0f-962a-7675ec3f26f2",
   "metadata": {
    "execution": {
     "iopub.execute_input": "2025-06-23T19:30:48.480977Z",
     "iopub.status.busy": "2025-06-23T19:30:48.479981Z",
     "iopub.status.idle": "2025-06-23T19:30:48.524737Z",
     "shell.execute_reply": "2025-06-23T19:30:48.523050Z",
     "shell.execute_reply.started": "2025-06-23T19:30:48.480892Z"
    }
   },
   "outputs": [],
   "source": [
    "### On ajoute une nouvelle colonne et y on met pour chaque ligne le résultat de la fonction\n",
    "df_p['ppCode'] = df_p.apply(lambda x: code_politicalparty(x['politicalpartyUri']), axis=1)"
   ]
  },
  {
   "cell_type": "code",
   "execution_count": 93,
   "id": "db6fb789-227b-40ef-9c11-78edf1b9d12c",
   "metadata": {
    "execution": {
     "iopub.execute_input": "2025-06-23T19:30:52.222524Z",
     "iopub.status.busy": "2025-06-23T19:30:52.220229Z",
     "iopub.status.idle": "2025-06-23T19:30:52.251963Z",
     "shell.execute_reply": "2025-06-23T19:30:52.249996Z",
     "shell.execute_reply.started": "2025-06-23T19:30:52.222440Z"
    }
   },
   "outputs": [
    {
     "data": {
      "text/html": [
       "<div>\n",
       "<style scoped>\n",
       "    .dataframe tbody tr th:only-of-type {\n",
       "        vertical-align: middle;\n",
       "    }\n",
       "\n",
       "    .dataframe tbody tr th {\n",
       "        vertical-align: top;\n",
       "    }\n",
       "\n",
       "    .dataframe thead th {\n",
       "        text-align: right;\n",
       "    }\n",
       "</style>\n",
       "<table border=\"1\" class=\"dataframe\">\n",
       "  <thead>\n",
       "    <tr style=\"text-align: right;\">\n",
       "      <th></th>\n",
       "      <th>personUri</th>\n",
       "      <th>personLabel</th>\n",
       "      <th>birthYear</th>\n",
       "      <th>politicalpartyUri</th>\n",
       "      <th>ppCode</th>\n",
       "    </tr>\n",
       "  </thead>\n",
       "  <tbody>\n",
       "    <tr>\n",
       "      <th>15</th>\n",
       "      <td>http://www.wikidata.org/entity/Q125702</td>\n",
       "      <td>Hugo Fasel</td>\n",
       "      <td>1955</td>\n",
       "      <td>http://www.wikidata.org/entity/Q667725</td>\n",
       "      <td>Autres</td>\n",
       "    </tr>\n",
       "    <tr>\n",
       "      <th>25</th>\n",
       "      <td>http://www.wikidata.org/entity/Q1782235</td>\n",
       "      <td>Konrad Müller</td>\n",
       "      <td>1892</td>\n",
       "      <td>http://www.wikidata.org/entity/Q1084147</td>\n",
       "      <td>Autres</td>\n",
       "    </tr>\n",
       "    <tr>\n",
       "      <th>37</th>\n",
       "      <td>http://www.wikidata.org/entity/Q15436200</td>\n",
       "      <td>Friedrich Fritschi</td>\n",
       "      <td>1851</td>\n",
       "      <td>http://www.wikidata.org/entity/Q674695</td>\n",
       "      <td>Autres</td>\n",
       "    </tr>\n",
       "    <tr>\n",
       "      <th>80</th>\n",
       "      <td>http://www.wikidata.org/entity/Q120924</td>\n",
       "      <td>Werner Carobbio</td>\n",
       "      <td>1936</td>\n",
       "      <td>http://www.wikidata.org/entity/Q3366732</td>\n",
       "      <td>Autres</td>\n",
       "    </tr>\n",
       "    <tr>\n",
       "      <th>108</th>\n",
       "      <td>http://www.wikidata.org/entity/Q72063373</td>\n",
       "      <td>Stéfanie Prezioso</td>\n",
       "      <td>1969</td>\n",
       "      <td>http://www.wikidata.org/entity/Q20012603</td>\n",
       "      <td>Autres</td>\n",
       "    </tr>\n",
       "  </tbody>\n",
       "</table>\n",
       "</div>"
      ],
      "text/plain": [
       "                                    personUri         personLabel  birthYear  \\\n",
       "15     http://www.wikidata.org/entity/Q125702          Hugo Fasel       1955   \n",
       "25    http://www.wikidata.org/entity/Q1782235       Konrad Müller       1892   \n",
       "37   http://www.wikidata.org/entity/Q15436200  Friedrich Fritschi       1851   \n",
       "80     http://www.wikidata.org/entity/Q120924     Werner Carobbio       1936   \n",
       "108  http://www.wikidata.org/entity/Q72063373   Stéfanie Prezioso       1969   \n",
       "\n",
       "                            politicalpartyUri  ppCode  \n",
       "15     http://www.wikidata.org/entity/Q667725  Autres  \n",
       "25    http://www.wikidata.org/entity/Q1084147  Autres  \n",
       "37     http://www.wikidata.org/entity/Q674695  Autres  \n",
       "80    http://www.wikidata.org/entity/Q3366732  Autres  \n",
       "108  http://www.wikidata.org/entity/Q20012603  Autres  "
      ]
     },
     "execution_count": 93,
     "metadata": {},
     "output_type": "execute_result"
    }
   ],
   "source": [
    "### On inspecte les cinq premières lignes qui ont la valeur 'A' = autre\n",
    "df_p[df_p['ppCode']=='Autres'][:5]"
   ]
  },
  {
   "cell_type": "markdown",
   "id": "c741c989-50ea-4f3d-a28d-89959d2c739a",
   "metadata": {},
   "source": [
    "## Effectifs par année"
   ]
  },
  {
   "cell_type": "code",
   "execution_count": 94,
   "id": "136263a8-722c-460e-bcc0-1aef61051025",
   "metadata": {
    "execution": {
     "iopub.execute_input": "2025-06-23T19:31:00.541654Z",
     "iopub.status.busy": "2025-06-23T19:31:00.538166Z",
     "iopub.status.idle": "2025-06-23T19:31:00.569549Z",
     "shell.execute_reply": "2025-06-23T19:31:00.565752Z",
     "shell.execute_reply.started": "2025-06-23T19:31:00.541484Z"
    }
   },
   "outputs": [
    {
     "name": "stdout",
     "output_type": "stream",
     "text": [
      "<class 'pandas.core.series.Series'>\n",
      "RangeIndex: 1648 entries, 0 to 1647\n",
      "Series name: birthYear\n",
      "Non-Null Count  Dtype\n",
      "--------------  -----\n",
      "1648 non-null   int64\n",
      "dtypes: int64(1)\n",
      "memory usage: 13.0 KB\n"
     ]
    }
   ],
   "source": [
    "### On inspecte les valeurs de la colonne 'birthYear' \n",
    "# et on observe que le type de données est 'object', ici texte\n",
    "df_p['birthYear'].info()"
   ]
  },
  {
   "cell_type": "code",
   "execution_count": 95,
   "id": "fc39e9a0-2c3b-4fe5-be24-603b6a61a566",
   "metadata": {
    "execution": {
     "iopub.execute_input": "2025-06-23T19:31:01.290994Z",
     "iopub.status.busy": "2025-06-23T19:31:01.290016Z",
     "iopub.status.idle": "2025-06-23T19:31:01.303873Z",
     "shell.execute_reply": "2025-06-23T19:31:01.301367Z",
     "shell.execute_reply.started": "2025-06-23T19:31:01.290917Z"
    }
   },
   "outputs": [],
   "source": [
    "### On transforme le type de valeur de la colonne BirthYear\n",
    "# de objet à entier\n",
    "df_p['birthYear'] = df_p['birthYear'].astype(int)"
   ]
  },
  {
   "cell_type": "code",
   "execution_count": 96,
   "id": "d9f288a0-21e0-45f3-82d6-77e480ad9731",
   "metadata": {
    "execution": {
     "iopub.execute_input": "2025-06-23T19:31:01.802376Z",
     "iopub.status.busy": "2025-06-23T19:31:01.799475Z",
     "iopub.status.idle": "2025-06-23T19:31:01.833527Z",
     "shell.execute_reply": "2025-06-23T19:31:01.831261Z",
     "shell.execute_reply.started": "2025-06-23T19:31:01.802281Z"
    }
   },
   "outputs": [
    {
     "data": {
      "text/html": [
       "<div>\n",
       "<style scoped>\n",
       "    .dataframe tbody tr th:only-of-type {\n",
       "        vertical-align: middle;\n",
       "    }\n",
       "\n",
       "    .dataframe tbody tr th {\n",
       "        vertical-align: top;\n",
       "    }\n",
       "\n",
       "    .dataframe thead th {\n",
       "        text-align: right;\n",
       "    }\n",
       "</style>\n",
       "<table border=\"1\" class=\"dataframe\">\n",
       "  <thead>\n",
       "    <tr style=\"text-align: right;\">\n",
       "      <th></th>\n",
       "      <th>year</th>\n",
       "      <th>effectif</th>\n",
       "    </tr>\n",
       "  </thead>\n",
       "  <tbody>\n",
       "    <tr>\n",
       "      <th>0</th>\n",
       "      <td>1794</td>\n",
       "      <td>1</td>\n",
       "    </tr>\n",
       "    <tr>\n",
       "      <th>1</th>\n",
       "      <td>1796</td>\n",
       "      <td>1</td>\n",
       "    </tr>\n",
       "    <tr>\n",
       "      <th>2</th>\n",
       "      <td>1800</td>\n",
       "      <td>3</td>\n",
       "    </tr>\n",
       "    <tr>\n",
       "      <th>3</th>\n",
       "      <td>1801</td>\n",
       "      <td>3</td>\n",
       "    </tr>\n",
       "    <tr>\n",
       "      <th>4</th>\n",
       "      <td>1802</td>\n",
       "      <td>1</td>\n",
       "    </tr>\n",
       "    <tr>\n",
       "      <th>...</th>\n",
       "      <td>...</td>\n",
       "      <td>...</td>\n",
       "    </tr>\n",
       "    <tr>\n",
       "      <th>189</th>\n",
       "      <td>1990</td>\n",
       "      <td>4</td>\n",
       "    </tr>\n",
       "    <tr>\n",
       "      <th>190</th>\n",
       "      <td>1991</td>\n",
       "      <td>3</td>\n",
       "    </tr>\n",
       "    <tr>\n",
       "      <th>191</th>\n",
       "      <td>1992</td>\n",
       "      <td>3</td>\n",
       "    </tr>\n",
       "    <tr>\n",
       "      <th>192</th>\n",
       "      <td>1994</td>\n",
       "      <td>2</td>\n",
       "    </tr>\n",
       "    <tr>\n",
       "      <th>193</th>\n",
       "      <td>1996</td>\n",
       "      <td>1</td>\n",
       "    </tr>\n",
       "  </tbody>\n",
       "</table>\n",
       "<p>194 rows × 2 columns</p>\n",
       "</div>"
      ],
      "text/plain": [
       "     year  effectif\n",
       "0    1794         1\n",
       "1    1796         1\n",
       "2    1800         3\n",
       "3    1801         3\n",
       "4    1802         1\n",
       "..    ...       ...\n",
       "189  1990         4\n",
       "190  1991         3\n",
       "191  1992         3\n",
       "192  1994         2\n",
       "193  1996         1\n",
       "\n",
       "[194 rows x 2 columns]"
      ]
     },
     "execution_count": 96,
     "metadata": {},
     "output_type": "execute_result"
    }
   ],
   "source": [
    "### On transforme en DataFrame le résultat du regroupement par année\n",
    "# noter qu'un ajoute un filtre pour que l'année maximale de naissance soit 200\n",
    "years_count = pd.DataFrame(df_p[df_p['birthYear'] < 2001].groupby('birthYear').size())\\\n",
    "                .reset_index(drop=False)\n",
    "years_count.columns=['year','effectif']\n",
    "years_count"
   ]
  },
  {
   "cell_type": "code",
   "execution_count": 97,
   "id": "7fdc507e-f074-4c4a-bda5-ca2a6c69f387",
   "metadata": {
    "execution": {
     "iopub.execute_input": "2025-06-23T19:31:02.449216Z",
     "iopub.status.busy": "2025-06-23T19:31:02.448199Z",
     "iopub.status.idle": "2025-06-23T19:31:03.598611Z",
     "shell.execute_reply": "2025-06-23T19:31:03.596872Z",
     "shell.execute_reply.started": "2025-06-23T19:31:02.449136Z"
    }
   },
   "outputs": [
    {
     "data": {
      "image/png": "[encoded data removed]",
      "text/plain": [
       "<Figure size 1600x800 with 1 Axes>"
      ]
     },
     "metadata": {},
     "output_type": "display_data"
    }
   ],
   "source": [
    "### Représentation graphique des effectifs par année\n",
    "\n",
    "ax = years_count.plot(x='year', y='effectif', kind='bar',rot=60, fontsize=8, figsize=(16,8))\n",
    "\n",
    "\n",
    "max_xticks = 20\n",
    "xloc = plt.MaxNLocator(max_xticks)\n",
    "ax.xaxis.set_major_locator(xloc)\n",
    "\n",
    "plt.ylabel('Effectif')\n",
    "plt.xlabel('Années')\n",
    "plt.title('Nombre de naissances par année')\n",
    "\n",
    "plt.show()"
   ]
  },
  {
   "cell_type": "markdown",
   "id": "ab845937-6017-44df-bec9-d78867a706a2",
   "metadata": {},
   "source": [
    "## Regrouper les effectifs par périodes de 20 ans"
   ]
  },
  {
   "cell_type": "code",
   "execution_count": 98,
   "id": "dcd067cb-f58d-44a1-bdb6-991bbcc3811c",
   "metadata": {
    "execution": {
     "iopub.execute_input": "2025-06-23T19:31:05.323369Z",
     "iopub.status.busy": "2025-06-23T19:31:05.321220Z",
     "iopub.status.idle": "2025-06-23T19:31:05.335971Z",
     "shell.execute_reply": "2025-06-23T19:31:05.334165Z",
     "shell.execute_reply.started": "2025-06-23T19:31:05.323280Z"
    }
   },
   "outputs": [],
   "source": [
    "### Créer une copie indépendante du DataFrame (attention aux copies de variables qui sont seulement des alias) \n",
    "cdf_p = df_p[df_p['birthYear'] < 2001].copy(deep=True)"
   ]
  },
  {
   "cell_type": "code",
   "execution_count": 99,
   "id": "f7002b54-5b9a-41ff-b207-3d209bfea3b2",
   "metadata": {
    "execution": {
     "iopub.execute_input": "2025-06-23T19:31:06.837799Z",
     "iopub.status.busy": "2025-06-23T19:31:06.835736Z",
     "iopub.status.idle": "2025-06-23T19:31:06.865834Z",
     "shell.execute_reply": "2025-06-23T19:31:06.863103Z",
     "shell.execute_reply.started": "2025-06-23T19:31:06.837712Z"
    }
   },
   "outputs": [
    {
     "data": {
      "text/html": [
       "<div>\n",
       "<style scoped>\n",
       "    .dataframe tbody tr th:only-of-type {\n",
       "        vertical-align: middle;\n",
       "    }\n",
       "\n",
       "    .dataframe tbody tr th {\n",
       "        vertical-align: top;\n",
       "    }\n",
       "\n",
       "    .dataframe thead th {\n",
       "        text-align: right;\n",
       "    }\n",
       "</style>\n",
       "<table border=\"1\" class=\"dataframe\">\n",
       "  <thead>\n",
       "    <tr style=\"text-align: right;\">\n",
       "      <th></th>\n",
       "      <th>personUri</th>\n",
       "      <th>personLabel</th>\n",
       "      <th>birthYear</th>\n",
       "      <th>politicalpartyUri</th>\n",
       "      <th>ppCode</th>\n",
       "    </tr>\n",
       "  </thead>\n",
       "  <tbody>\n",
       "    <tr>\n",
       "      <th>0</th>\n",
       "      <td>http://www.wikidata.org/entity/Q1771134</td>\n",
       "      <td>Markus Ritter</td>\n",
       "      <td>1967</td>\n",
       "      <td>http://www.wikidata.org/entity/Q100934025</td>\n",
       "      <td>Le_centre</td>\n",
       "    </tr>\n",
       "    <tr>\n",
       "      <th>1</th>\n",
       "      <td>http://www.wikidata.org/entity/Q1673126</td>\n",
       "      <td>Walter König</td>\n",
       "      <td>1908</td>\n",
       "      <td>http://www.wikidata.org/entity/Q303745</td>\n",
       "      <td>Parti_socialiste_suisse</td>\n",
       "    </tr>\n",
       "    <tr>\n",
       "      <th>2</th>\n",
       "      <td>http://www.wikidata.org/entity/Q1582102</td>\n",
       "      <td>Hans Roth</td>\n",
       "      <td>1913</td>\n",
       "      <td>http://www.wikidata.org/entity/Q477228</td>\n",
       "      <td>Parti des paysans, artisans et indépendants</td>\n",
       "    </tr>\n",
       "  </tbody>\n",
       "</table>\n",
       "</div>"
      ],
      "text/plain": [
       "                                 personUri    personLabel  birthYear  \\\n",
       "0  http://www.wikidata.org/entity/Q1771134  Markus Ritter       1967   \n",
       "1  http://www.wikidata.org/entity/Q1673126   Walter König       1908   \n",
       "2  http://www.wikidata.org/entity/Q1582102      Hans Roth       1913   \n",
       "\n",
       "                           politicalpartyUri  \\\n",
       "0  http://www.wikidata.org/entity/Q100934025   \n",
       "1     http://www.wikidata.org/entity/Q303745   \n",
       "2     http://www.wikidata.org/entity/Q477228   \n",
       "\n",
       "                                        ppCode  \n",
       "0                                    Le_centre  \n",
       "1                      Parti_socialiste_suisse  \n",
       "2  Parti des paysans, artisans et indépendants  "
      ]
     },
     "execution_count": 99,
     "metadata": {},
     "output_type": "execute_result"
    }
   ],
   "source": [
    "cdf_p.head(3)"
   ]
  },
  {
   "cell_type": "code",
   "execution_count": 100,
   "id": "15117967-9901-423a-a898-d5b710399439",
   "metadata": {
    "execution": {
     "iopub.execute_input": "2025-06-23T19:31:08.137992Z",
     "iopub.status.busy": "2025-06-23T19:31:08.136947Z",
     "iopub.status.idle": "2025-06-23T19:31:08.153361Z",
     "shell.execute_reply": "2025-06-23T19:31:08.150976Z",
     "shell.execute_reply.started": "2025-06-23T19:31:08.137915Z"
    }
   },
   "outputs": [
    {
     "name": "stdout",
     "output_type": "stream",
     "text": [
      "1794 1996\n"
     ]
    }
   ],
   "source": [
    "### Année minimale et maximale dans la population\n",
    "print(min(cdf_p['birthYear']), max(cdf_p['birthYear']))"
   ]
  },
  {
   "cell_type": "markdown",
   "id": "c60b84a9-99a7-46b0-8ae9-11bf26128fe7",
   "metadata": {},
   "source": [
    "### Codage par période de vingt ans"
   ]
  },
  {
   "cell_type": "code",
   "execution_count": 101,
   "id": "7c29f5c0-bf9f-444d-be57-2d39bf882e23",
   "metadata": {
    "execution": {
     "iopub.execute_input": "2025-06-23T19:31:10.021777Z",
     "iopub.status.busy": "2025-06-23T19:31:10.018721Z",
     "iopub.status.idle": "2025-06-23T19:31:10.037995Z",
     "shell.execute_reply": "2025-06-23T19:31:10.034958Z",
     "shell.execute_reply.started": "2025-06-23T19:31:10.021650Z"
    },
    "tags": []
   },
   "outputs": [
    {
     "name": "stdout",
     "output_type": "stream",
     "text": [
      "[1781, 1801, 1821, 1841, 1861] [1921, 1941, 1961, 1981, 2001]\n"
     ]
    }
   ],
   "source": [
    "### Créer une liste d'années pour séparer en périodes de 20 ans\n",
    "# noter que la dernière année sera exclue, \n",
    "# elle donc doit être supérieure à la valeur maximale \n",
    "l_25 = list(range(1781, 2020, 20))\n",
    "print(l_25[:5],l_25[-5:])"
   ]
  },
  {
   "cell_type": "code",
   "execution_count": 102,
   "id": "06ab381e-f317-4767-9790-a9fcbfcb1853",
   "metadata": {
    "execution": {
     "iopub.execute_input": "2025-06-23T19:31:11.078766Z",
     "iopub.status.busy": "2025-06-23T19:31:11.077728Z",
     "iopub.status.idle": "2025-06-23T19:31:11.114122Z",
     "shell.execute_reply": "2025-06-23T19:31:11.112499Z",
     "shell.execute_reply.started": "2025-06-23T19:31:11.078690Z"
    }
   },
   "outputs": [
    {
     "data": {
      "text/html": [
       "<div>\n",
       "<style scoped>\n",
       "    .dataframe tbody tr th:only-of-type {\n",
       "        vertical-align: middle;\n",
       "    }\n",
       "\n",
       "    .dataframe tbody tr th {\n",
       "        vertical-align: top;\n",
       "    }\n",
       "\n",
       "    .dataframe thead th {\n",
       "        text-align: right;\n",
       "    }\n",
       "</style>\n",
       "<table border=\"1\" class=\"dataframe\">\n",
       "  <thead>\n",
       "    <tr style=\"text-align: right;\">\n",
       "      <th></th>\n",
       "      <th>personUri</th>\n",
       "      <th>personLabel</th>\n",
       "      <th>birthYear</th>\n",
       "      <th>politicalpartyUri</th>\n",
       "      <th>ppCode</th>\n",
       "      <th>periodes</th>\n",
       "    </tr>\n",
       "  </thead>\n",
       "  <tbody>\n",
       "    <tr>\n",
       "      <th>0</th>\n",
       "      <td>http://www.wikidata.org/entity/Q1771134</td>\n",
       "      <td>Markus Ritter</td>\n",
       "      <td>1967</td>\n",
       "      <td>http://www.wikidata.org/entity/Q100934025</td>\n",
       "      <td>Le_centre</td>\n",
       "      <td>1961-1980</td>\n",
       "    </tr>\n",
       "    <tr>\n",
       "      <th>1</th>\n",
       "      <td>http://www.wikidata.org/entity/Q1673126</td>\n",
       "      <td>Walter König</td>\n",
       "      <td>1908</td>\n",
       "      <td>http://www.wikidata.org/entity/Q303745</td>\n",
       "      <td>Parti_socialiste_suisse</td>\n",
       "      <td>1901-1920</td>\n",
       "    </tr>\n",
       "    <tr>\n",
       "      <th>2</th>\n",
       "      <td>http://www.wikidata.org/entity/Q1582102</td>\n",
       "      <td>Hans Roth</td>\n",
       "      <td>1913</td>\n",
       "      <td>http://www.wikidata.org/entity/Q477228</td>\n",
       "      <td>Parti des paysans, artisans et indépendants</td>\n",
       "      <td>1901-1920</td>\n",
       "    </tr>\n",
       "    <tr>\n",
       "      <th>3</th>\n",
       "      <td>http://www.wikidata.org/entity/Q1065795</td>\n",
       "      <td>Charles Poncet</td>\n",
       "      <td>1946</td>\n",
       "      <td>http://www.wikidata.org/entity/Q667785</td>\n",
       "      <td>Parti libéral suisse</td>\n",
       "      <td>1941-1960</td>\n",
       "    </tr>\n",
       "    <tr>\n",
       "      <th>4</th>\n",
       "      <td>http://www.wikidata.org/entity/Q59843752</td>\n",
       "      <td>Guglielmo Canevascini</td>\n",
       "      <td>1886</td>\n",
       "      <td>http://www.wikidata.org/entity/Q303745</td>\n",
       "      <td>Parti_socialiste_suisse</td>\n",
       "      <td>1881-1900</td>\n",
       "    </tr>\n",
       "  </tbody>\n",
       "</table>\n",
       "</div>"
      ],
      "text/plain": [
       "                                  personUri            personLabel  birthYear  \\\n",
       "0   http://www.wikidata.org/entity/Q1771134          Markus Ritter       1967   \n",
       "1   http://www.wikidata.org/entity/Q1673126           Walter König       1908   \n",
       "2   http://www.wikidata.org/entity/Q1582102              Hans Roth       1913   \n",
       "3   http://www.wikidata.org/entity/Q1065795         Charles Poncet       1946   \n",
       "4  http://www.wikidata.org/entity/Q59843752  Guglielmo Canevascini       1886   \n",
       "\n",
       "                           politicalpartyUri  \\\n",
       "0  http://www.wikidata.org/entity/Q100934025   \n",
       "1     http://www.wikidata.org/entity/Q303745   \n",
       "2     http://www.wikidata.org/entity/Q477228   \n",
       "3     http://www.wikidata.org/entity/Q667785   \n",
       "4     http://www.wikidata.org/entity/Q303745   \n",
       "\n",
       "                                        ppCode   periodes  \n",
       "0                                    Le_centre  1961-1980  \n",
       "1                      Parti_socialiste_suisse  1901-1920  \n",
       "2  Parti des paysans, artisans et indépendants  1901-1920  \n",
       "3                         Parti libéral suisse  1941-1960  \n",
       "4                      Parti_socialiste_suisse  1881-1900  "
      ]
     },
     "execution_count": 102,
     "metadata": {},
     "output_type": "execute_result"
    }
   ],
   "source": [
    "### fonction pd.cut : https://pandas.pydata.org/pandas-docs/stable/reference/api/pandas.cut.html\n",
    "# On ajoute une nouvelle colonne qui contient la période sur la base de la liste précédente\n",
    "# et de la valeur de l'année\n",
    "\n",
    "cdf_p['periodes'] = pd.cut(cdf_p['birthYear'], l_25, right=False)\n",
    "\n",
    "### Transformer le code ajouté pour qu'il soit plus lisible\n",
    "# noter qu'on a arrondi les valeurs\n",
    "cdf_p['periodes'] = cdf_p['periodes'].apply(lambda x : str(int(x.left))+'-'+ str(int(x.right)-1))\n",
    "\n",
    "# Inspection\n",
    "cdf_p.head(5)"
   ]
  },
  {
   "cell_type": "code",
   "execution_count": 103,
   "id": "4e943cfe-40d8-49c0-afa1-a55f964f657a",
   "metadata": {
    "execution": {
     "iopub.execute_input": "2025-06-23T19:31:18.151870Z",
     "iopub.status.busy": "2025-06-23T19:31:18.150794Z",
     "iopub.status.idle": "2025-06-23T19:31:18.174394Z",
     "shell.execute_reply": "2025-06-23T19:31:18.172525Z",
     "shell.execute_reply.started": "2025-06-23T19:31:18.151749Z"
    }
   },
   "outputs": [
    {
     "data": {
      "text/plain": [
       "periodes\n",
       "1781-1800      5\n",
       "1801-1820     42\n",
       "1821-1840     70\n",
       "1841-1860    117\n",
       "1861-1880    122\n",
       "1881-1900    172\n",
       "1901-1920    185\n",
       "1921-1940    229\n",
       "1941-1960    394\n",
       "1961-1980    253\n",
       "1981-2000     59\n",
       "dtype: int64"
      ]
     },
     "execution_count": 103,
     "metadata": {},
     "output_type": "execute_result"
    }
   ],
   "source": [
    "### compter les naissances par périodes de 20 ans\n",
    "cdf_p.groupby(by='periodes',observed=False).size()"
   ]
  },
  {
   "cell_type": "code",
   "execution_count": 104,
   "id": "9a1dd793-210a-42c3-b68b-d0e1756277d1",
   "metadata": {
    "execution": {
     "iopub.execute_input": "2025-06-23T19:31:19.467857Z",
     "iopub.status.busy": "2025-06-23T19:31:19.466908Z",
     "iopub.status.idle": "2025-06-23T19:31:20.098783Z",
     "shell.execute_reply": "2025-06-23T19:31:20.097107Z",
     "shell.execute_reply.started": "2025-06-23T19:31:19.467780Z"
    }
   },
   "outputs": [
    {
     "data": {
      "image/png": "[encoded data removed]",
      "text/plain": [
       "<Figure size 1600x800 with 1 Axes>"
      ]
     },
     "metadata": {},
     "output_type": "display_data"
    }
   ],
   "source": [
    "ax = cdf_p.groupby(by='periodes', observed=False).size().plot(kind='bar',rot=60, fontsize=8, figsize=(16,8))\n",
    "plt.ylabel('Effectif')\n",
    "plt.xlabel('Périodes')\n",
    "plt.title('Naissances par périodes de vingt ans')\n",
    "plt.show()"
   ]
  },
  {
   "cell_type": "markdown",
   "id": "7d3da8ee-300d-4fb8-be6e-384e1e4186ef",
   "metadata": {},
   "source": [
    "## Ajouter la représentation des partis politiques"
   ]
  },
  {
   "cell_type": "code",
   "execution_count": 105,
   "id": "e95d55b5",
   "metadata": {
    "execution": {
     "iopub.execute_input": "2025-06-23T19:31:24.326809Z",
     "iopub.status.busy": "2025-06-23T19:31:24.325940Z",
     "iopub.status.idle": "2025-06-23T19:31:24.363513Z",
     "shell.execute_reply": "2025-06-23T19:31:24.359575Z",
     "shell.execute_reply.started": "2025-06-23T19:31:24.326740Z"
    }
   },
   "outputs": [
    {
     "data": {
      "text/html": [
       "<div>\n",
       "<style scoped>\n",
       "    .dataframe tbody tr th:only-of-type {\n",
       "        vertical-align: middle;\n",
       "    }\n",
       "\n",
       "    .dataframe tbody tr th {\n",
       "        vertical-align: top;\n",
       "    }\n",
       "\n",
       "    .dataframe thead th {\n",
       "        text-align: right;\n",
       "    }\n",
       "</style>\n",
       "<table border=\"1\" class=\"dataframe\">\n",
       "  <thead>\n",
       "    <tr style=\"text-align: right;\">\n",
       "      <th></th>\n",
       "      <th>Parti radical-démocratique</th>\n",
       "    </tr>\n",
       "    <tr>\n",
       "      <th>periodes</th>\n",
       "      <th></th>\n",
       "    </tr>\n",
       "  </thead>\n",
       "  <tbody>\n",
       "    <tr>\n",
       "      <th>1901-1920</th>\n",
       "      <td>55</td>\n",
       "    </tr>\n",
       "    <tr>\n",
       "      <th>1921-1940</th>\n",
       "      <td>61</td>\n",
       "    </tr>\n",
       "    <tr>\n",
       "      <th>1941-1960</th>\n",
       "      <td>44</td>\n",
       "    </tr>\n",
       "    <tr>\n",
       "      <th>1961-1980</th>\n",
       "      <td>3</td>\n",
       "    </tr>\n",
       "    <tr>\n",
       "      <th>1981-2000</th>\n",
       "      <td>0</td>\n",
       "    </tr>\n",
       "  </tbody>\n",
       "</table>\n",
       "</div>"
      ],
      "text/plain": [
       "           Parti radical-démocratique\n",
       "periodes                             \n",
       "1901-1920                          55\n",
       "1921-1940                          61\n",
       "1941-1960                          44\n",
       "1961-1980                           3\n",
       "1981-2000                           0"
      ]
     },
     "execution_count": 105,
     "metadata": {},
     "output_type": "execute_result"
    }
   ],
   "source": [
    "### Regrouper et compter avec un fitre sur le parti radical-démocratique\n",
    "pp_prd = pd.DataFrame(cdf_p[cdf_p.ppCode == 'Parti radical-démocratique'].groupby('periodes',observed=False).size())\n",
    "pp_prd.columns = ['Parti radical-démocratique']\n",
    "pp_prd.tail()\n"
   ]
  },
  {
   "cell_type": "code",
   "execution_count": 106,
   "id": "45957dac-e3f3-4d41-8fe0-a59d4f2c33b8",
   "metadata": {
    "execution": {
     "iopub.execute_input": "2025-06-23T19:31:26.127717Z",
     "iopub.status.busy": "2025-06-23T19:31:26.127146Z",
     "iopub.status.idle": "2025-06-23T19:31:26.151525Z",
     "shell.execute_reply": "2025-06-23T19:31:26.149307Z",
     "shell.execute_reply.started": "2025-06-23T19:31:26.127670Z"
    },
    "scrolled": true
   },
   "outputs": [
    {
     "data": {
      "text/html": [
       "<div>\n",
       "<style scoped>\n",
       "    .dataframe tbody tr th:only-of-type {\n",
       "        vertical-align: middle;\n",
       "    }\n",
       "\n",
       "    .dataframe tbody tr th {\n",
       "        vertical-align: top;\n",
       "    }\n",
       "\n",
       "    .dataframe thead th {\n",
       "        text-align: right;\n",
       "    }\n",
       "</style>\n",
       "<table border=\"1\" class=\"dataframe\">\n",
       "  <thead>\n",
       "    <tr style=\"text-align: right;\">\n",
       "      <th></th>\n",
       "      <th>Parti_socialiste_suisse</th>\n",
       "    </tr>\n",
       "    <tr>\n",
       "      <th>periodes</th>\n",
       "      <th></th>\n",
       "    </tr>\n",
       "  </thead>\n",
       "  <tbody>\n",
       "    <tr>\n",
       "      <th>1901-1920</th>\n",
       "      <td>43</td>\n",
       "    </tr>\n",
       "    <tr>\n",
       "      <th>1921-1940</th>\n",
       "      <td>50</td>\n",
       "    </tr>\n",
       "    <tr>\n",
       "      <th>1941-1960</th>\n",
       "      <td>95</td>\n",
       "    </tr>\n",
       "    <tr>\n",
       "      <th>1961-1980</th>\n",
       "      <td>47</td>\n",
       "    </tr>\n",
       "    <tr>\n",
       "      <th>1981-2000</th>\n",
       "      <td>22</td>\n",
       "    </tr>\n",
       "  </tbody>\n",
       "</table>\n",
       "</div>"
      ],
      "text/plain": [
       "           Parti_socialiste_suisse\n",
       "periodes                          \n",
       "1901-1920                       43\n",
       "1921-1940                       50\n",
       "1941-1960                       95\n",
       "1961-1980                       47\n",
       "1981-2000                       22"
      ]
     },
     "execution_count": 106,
     "metadata": {},
     "output_type": "execute_result"
    }
   ],
   "source": [
    "### Regrouper et compter avec un fitre sur le parti socialiste suisse\n",
    "pp_pss = pd.DataFrame(cdf_p[cdf_p.ppCode == 'Parti_socialiste_suisse'].groupby('periodes',observed=False).size())\n",
    "pp_pss.columns = ['Parti_socialiste_suisse']\n",
    "pp_pss.tail()\n"
   ]
  },
  {
   "cell_type": "code",
   "execution_count": 107,
   "id": "37eba34a-39e8-4f0c-bb9c-0e877a75de7b",
   "metadata": {
    "execution": {
     "iopub.execute_input": "2025-06-23T19:31:28.580409Z",
     "iopub.status.busy": "2025-06-23T19:31:28.578524Z",
     "iopub.status.idle": "2025-06-23T19:31:28.606981Z",
     "shell.execute_reply": "2025-06-23T19:31:28.606206Z",
     "shell.execute_reply.started": "2025-06-23T19:31:28.580253Z"
    },
    "scrolled": true
   },
   "outputs": [
    {
     "data": {
      "text/html": [
       "<div>\n",
       "<style scoped>\n",
       "    .dataframe tbody tr th:only-of-type {\n",
       "        vertical-align: middle;\n",
       "    }\n",
       "\n",
       "    .dataframe tbody tr th {\n",
       "        vertical-align: top;\n",
       "    }\n",
       "\n",
       "    .dataframe thead th {\n",
       "        text-align: right;\n",
       "    }\n",
       "</style>\n",
       "<table border=\"1\" class=\"dataframe\">\n",
       "  <thead>\n",
       "    <tr style=\"text-align: right;\">\n",
       "      <th></th>\n",
       "      <th>Parti_démocrate_chrétien</th>\n",
       "    </tr>\n",
       "    <tr>\n",
       "      <th>periodes</th>\n",
       "      <th></th>\n",
       "    </tr>\n",
       "  </thead>\n",
       "  <tbody>\n",
       "    <tr>\n",
       "      <th>1901-1920</th>\n",
       "      <td>32</td>\n",
       "    </tr>\n",
       "    <tr>\n",
       "      <th>1921-1940</th>\n",
       "      <td>49</td>\n",
       "    </tr>\n",
       "    <tr>\n",
       "      <th>1941-1960</th>\n",
       "      <td>61</td>\n",
       "    </tr>\n",
       "    <tr>\n",
       "      <th>1961-1980</th>\n",
       "      <td>22</td>\n",
       "    </tr>\n",
       "    <tr>\n",
       "      <th>1981-2000</th>\n",
       "      <td>4</td>\n",
       "    </tr>\n",
       "  </tbody>\n",
       "</table>\n",
       "</div>"
      ],
      "text/plain": [
       "           Parti_démocrate_chrétien\n",
       "periodes                           \n",
       "1901-1920                        32\n",
       "1921-1940                        49\n",
       "1941-1960                        61\n",
       "1961-1980                        22\n",
       "1981-2000                         4"
      ]
     },
     "execution_count": 107,
     "metadata": {},
     "output_type": "execute_result"
    }
   ],
   "source": [
    "### Regrouper et compter avec un fitre sur le parti socialiste suisse\n",
    "pp_pdc = pd.DataFrame(cdf_p[cdf_p.ppCode == 'Parti_démocrate_chrétien'].groupby('periodes',observed=False).size())\n",
    "pp_pdc.columns = ['Parti_démocrate_chrétien']\n",
    "pp_pdc.tail()\n"
   ]
  },
  {
   "cell_type": "code",
   "execution_count": 108,
   "id": "5b53563c-5321-43da-b3ba-27486ecbde43",
   "metadata": {
    "execution": {
     "iopub.execute_input": "2025-06-23T19:31:30.757884Z",
     "iopub.status.busy": "2025-06-23T19:31:30.756627Z",
     "iopub.status.idle": "2025-06-23T19:31:30.783319Z",
     "shell.execute_reply": "2025-06-23T19:31:30.782375Z",
     "shell.execute_reply.started": "2025-06-23T19:31:30.757798Z"
    },
    "scrolled": true
   },
   "outputs": [
    {
     "data": {
      "text/html": [
       "<div>\n",
       "<style scoped>\n",
       "    .dataframe tbody tr th:only-of-type {\n",
       "        vertical-align: middle;\n",
       "    }\n",
       "\n",
       "    .dataframe tbody tr th {\n",
       "        vertical-align: top;\n",
       "    }\n",
       "\n",
       "    .dataframe thead th {\n",
       "        text-align: right;\n",
       "    }\n",
       "</style>\n",
       "<table border=\"1\" class=\"dataframe\">\n",
       "  <thead>\n",
       "    <tr style=\"text-align: right;\">\n",
       "      <th></th>\n",
       "      <th>Union_démocratique_du_centre</th>\n",
       "    </tr>\n",
       "    <tr>\n",
       "      <th>periodes</th>\n",
       "      <th></th>\n",
       "    </tr>\n",
       "  </thead>\n",
       "  <tbody>\n",
       "    <tr>\n",
       "      <th>1901-1920</th>\n",
       "      <td>2</td>\n",
       "    </tr>\n",
       "    <tr>\n",
       "      <th>1921-1940</th>\n",
       "      <td>27</td>\n",
       "    </tr>\n",
       "    <tr>\n",
       "      <th>1941-1960</th>\n",
       "      <td>67</td>\n",
       "    </tr>\n",
       "    <tr>\n",
       "      <th>1961-1980</th>\n",
       "      <td>70</td>\n",
       "    </tr>\n",
       "    <tr>\n",
       "      <th>1981-2000</th>\n",
       "      <td>16</td>\n",
       "    </tr>\n",
       "  </tbody>\n",
       "</table>\n",
       "</div>"
      ],
      "text/plain": [
       "           Union_démocratique_du_centre\n",
       "periodes                               \n",
       "1901-1920                             2\n",
       "1921-1940                            27\n",
       "1941-1960                            67\n",
       "1961-1980                            70\n",
       "1981-2000                            16"
      ]
     },
     "execution_count": 108,
     "metadata": {},
     "output_type": "execute_result"
    }
   ],
   "source": [
    "### Regrouper et compter avec un fitre sur le parti socialiste suisse\n",
    "pp_udc = pd.DataFrame(cdf_p[cdf_p.ppCode == 'Union_démocratique_du_centre'].groupby('periodes',observed=False).size())\n",
    "pp_udc.columns = ['Union_démocratique_du_centre']\n",
    "pp_udc.tail()\n"
   ]
  },
  {
   "cell_type": "code",
   "execution_count": 109,
   "id": "9b2ead2b-c6a7-4c0d-b861-653c00837b1b",
   "metadata": {
    "execution": {
     "iopub.execute_input": "2025-06-23T19:31:32.827827Z",
     "iopub.status.busy": "2025-06-23T19:31:32.825931Z",
     "iopub.status.idle": "2025-06-23T19:31:32.850186Z",
     "shell.execute_reply": "2025-06-23T19:31:32.849244Z",
     "shell.execute_reply.started": "2025-06-23T19:31:32.827742Z"
    },
    "scrolled": true
   },
   "outputs": [
    {
     "data": {
      "text/html": [
       "<div>\n",
       "<style scoped>\n",
       "    .dataframe tbody tr th:only-of-type {\n",
       "        vertical-align: middle;\n",
       "    }\n",
       "\n",
       "    .dataframe tbody tr th {\n",
       "        vertical-align: top;\n",
       "    }\n",
       "\n",
       "    .dataframe thead th {\n",
       "        text-align: right;\n",
       "    }\n",
       "</style>\n",
       "<table border=\"1\" class=\"dataframe\">\n",
       "  <thead>\n",
       "    <tr style=\"text-align: right;\">\n",
       "      <th></th>\n",
       "      <th>Parti_libéral_radical</th>\n",
       "    </tr>\n",
       "    <tr>\n",
       "      <th>periodes</th>\n",
       "      <th></th>\n",
       "    </tr>\n",
       "  </thead>\n",
       "  <tbody>\n",
       "    <tr>\n",
       "      <th>1901-1920</th>\n",
       "      <td>1</td>\n",
       "    </tr>\n",
       "    <tr>\n",
       "      <th>1921-1940</th>\n",
       "      <td>0</td>\n",
       "    </tr>\n",
       "    <tr>\n",
       "      <th>1941-1960</th>\n",
       "      <td>25</td>\n",
       "    </tr>\n",
       "    <tr>\n",
       "      <th>1961-1980</th>\n",
       "      <td>35</td>\n",
       "    </tr>\n",
       "    <tr>\n",
       "      <th>1981-2000</th>\n",
       "      <td>4</td>\n",
       "    </tr>\n",
       "  </tbody>\n",
       "</table>\n",
       "</div>"
      ],
      "text/plain": [
       "           Parti_libéral_radical\n",
       "periodes                        \n",
       "1901-1920                      1\n",
       "1921-1940                      0\n",
       "1941-1960                     25\n",
       "1961-1980                     35\n",
       "1981-2000                      4"
      ]
     },
     "execution_count": 109,
     "metadata": {},
     "output_type": "execute_result"
    }
   ],
   "source": [
    "### Regrouper et compter avec un fitre sur le parti socialiste suisse\n",
    "pp_plr = pd.DataFrame(cdf_p[cdf_p.ppCode == 'Parti_libéral_radical'].groupby('periodes',observed=False).size())\n",
    "pp_plr.columns = ['Parti_libéral_radical']\n",
    "pp_plr.tail()\n"
   ]
  },
  {
   "cell_type": "code",
   "execution_count": 110,
   "id": "d2d12daf-e06e-4ea0-852d-585c1fedfda5",
   "metadata": {
    "execution": {
     "iopub.execute_input": "2025-06-23T19:31:35.902414Z",
     "iopub.status.busy": "2025-06-23T19:31:35.900456Z",
     "iopub.status.idle": "2025-06-23T19:31:35.932542Z",
     "shell.execute_reply": "2025-06-23T19:31:35.930862Z",
     "shell.execute_reply.started": "2025-06-23T19:31:35.902301Z"
    },
    "scrolled": true
   },
   "outputs": [
    {
     "data": {
      "text/html": [
       "<div>\n",
       "<style scoped>\n",
       "    .dataframe tbody tr th:only-of-type {\n",
       "        vertical-align: middle;\n",
       "    }\n",
       "\n",
       "    .dataframe tbody tr th {\n",
       "        vertical-align: top;\n",
       "    }\n",
       "\n",
       "    .dataframe thead th {\n",
       "        text-align: right;\n",
       "    }\n",
       "</style>\n",
       "<table border=\"1\" class=\"dataframe\">\n",
       "  <thead>\n",
       "    <tr style=\"text-align: right;\">\n",
       "      <th></th>\n",
       "      <th>Parti libéral suisse</th>\n",
       "    </tr>\n",
       "    <tr>\n",
       "      <th>periodes</th>\n",
       "      <th></th>\n",
       "    </tr>\n",
       "  </thead>\n",
       "  <tbody>\n",
       "    <tr>\n",
       "      <th>1901-1920</th>\n",
       "      <td>9</td>\n",
       "    </tr>\n",
       "    <tr>\n",
       "      <th>1921-1940</th>\n",
       "      <td>12</td>\n",
       "    </tr>\n",
       "    <tr>\n",
       "      <th>1941-1960</th>\n",
       "      <td>12</td>\n",
       "    </tr>\n",
       "    <tr>\n",
       "      <th>1961-1980</th>\n",
       "      <td>1</td>\n",
       "    </tr>\n",
       "    <tr>\n",
       "      <th>1981-2000</th>\n",
       "      <td>0</td>\n",
       "    </tr>\n",
       "  </tbody>\n",
       "</table>\n",
       "</div>"
      ],
      "text/plain": [
       "           Parti libéral suisse\n",
       "periodes                       \n",
       "1901-1920                     9\n",
       "1921-1940                    12\n",
       "1941-1960                    12\n",
       "1961-1980                     1\n",
       "1981-2000                     0"
      ]
     },
     "execution_count": 110,
     "metadata": {},
     "output_type": "execute_result"
    }
   ],
   "source": [
    "### Regrouper et compter avec un fitre sur le parti socialiste suisse\n",
    "pp_pls = pd.DataFrame(cdf_p[cdf_p.ppCode == 'Parti libéral suisse'].groupby('periodes',observed=False).size())\n",
    "pp_pls.columns = ['Parti libéral suisse']\n",
    "pp_pls.tail()\n"
   ]
  },
  {
   "cell_type": "code",
   "execution_count": 111,
   "id": "bce509f7-7cac-4983-9342-a63d544c4d59",
   "metadata": {
    "execution": {
     "iopub.execute_input": "2025-06-23T19:31:38.036797Z",
     "iopub.status.busy": "2025-06-23T19:31:38.034922Z",
     "iopub.status.idle": "2025-06-23T19:31:38.065211Z",
     "shell.execute_reply": "2025-06-23T19:31:38.062300Z",
     "shell.execute_reply.started": "2025-06-23T19:31:38.036716Z"
    },
    "scrolled": true
   },
   "outputs": [
    {
     "data": {
      "text/html": [
       "<div>\n",
       "<style scoped>\n",
       "    .dataframe tbody tr th:only-of-type {\n",
       "        vertical-align: middle;\n",
       "    }\n",
       "\n",
       "    .dataframe tbody tr th {\n",
       "        vertical-align: top;\n",
       "    }\n",
       "\n",
       "    .dataframe thead th {\n",
       "        text-align: right;\n",
       "    }\n",
       "</style>\n",
       "<table border=\"1\" class=\"dataframe\">\n",
       "  <thead>\n",
       "    <tr style=\"text-align: right;\">\n",
       "      <th></th>\n",
       "      <th>Le_centre</th>\n",
       "    </tr>\n",
       "    <tr>\n",
       "      <th>periodes</th>\n",
       "      <th></th>\n",
       "    </tr>\n",
       "  </thead>\n",
       "  <tbody>\n",
       "    <tr>\n",
       "      <th>1901-1920</th>\n",
       "      <td>0</td>\n",
       "    </tr>\n",
       "    <tr>\n",
       "      <th>1921-1940</th>\n",
       "      <td>0</td>\n",
       "    </tr>\n",
       "    <tr>\n",
       "      <th>1941-1960</th>\n",
       "      <td>5</td>\n",
       "    </tr>\n",
       "    <tr>\n",
       "      <th>1961-1980</th>\n",
       "      <td>18</td>\n",
       "    </tr>\n",
       "    <tr>\n",
       "      <th>1981-2000</th>\n",
       "      <td>1</td>\n",
       "    </tr>\n",
       "  </tbody>\n",
       "</table>\n",
       "</div>"
      ],
      "text/plain": [
       "           Le_centre\n",
       "periodes            \n",
       "1901-1920          0\n",
       "1921-1940          0\n",
       "1941-1960          5\n",
       "1961-1980         18\n",
       "1981-2000          1"
      ]
     },
     "execution_count": 111,
     "metadata": {},
     "output_type": "execute_result"
    }
   ],
   "source": [
    "### Regrouper et compter avec un fitre sur le parti socialiste suisse\n",
    "pp_LC = pd.DataFrame(cdf_p[cdf_p.ppCode == 'Le_centre'].groupby('periodes',observed=False).size())\n",
    "pp_LC.columns = ['Le_centre']\n",
    "pp_LC.tail()\n"
   ]
  },
  {
   "cell_type": "code",
   "execution_count": 112,
   "id": "0ea150ac-4bf8-4b46-9389-7e0da1bfa3c7",
   "metadata": {
    "execution": {
     "iopub.execute_input": "2025-06-23T19:31:43.414784Z",
     "iopub.status.busy": "2025-06-23T19:31:43.413831Z",
     "iopub.status.idle": "2025-06-23T19:31:43.443799Z",
     "shell.execute_reply": "2025-06-23T19:31:43.441548Z",
     "shell.execute_reply.started": "2025-06-23T19:31:43.414708Z"
    },
    "scrolled": true
   },
   "outputs": [
    {
     "data": {
      "text/html": [
       "<div>\n",
       "<style scoped>\n",
       "    .dataframe tbody tr th:only-of-type {\n",
       "        vertical-align: middle;\n",
       "    }\n",
       "\n",
       "    .dataframe tbody tr th {\n",
       "        vertical-align: top;\n",
       "    }\n",
       "\n",
       "    .dataframe thead th {\n",
       "        text-align: right;\n",
       "    }\n",
       "</style>\n",
       "<table border=\"1\" class=\"dataframe\">\n",
       "  <thead>\n",
       "    <tr style=\"text-align: right;\">\n",
       "      <th></th>\n",
       "      <th>Parti des paysans, artisans et indépendants</th>\n",
       "    </tr>\n",
       "    <tr>\n",
       "      <th>periodes</th>\n",
       "      <th></th>\n",
       "    </tr>\n",
       "  </thead>\n",
       "  <tbody>\n",
       "    <tr>\n",
       "      <th>1901-1920</th>\n",
       "      <td>11</td>\n",
       "    </tr>\n",
       "    <tr>\n",
       "      <th>1921-1940</th>\n",
       "      <td>3</td>\n",
       "    </tr>\n",
       "    <tr>\n",
       "      <th>1941-1960</th>\n",
       "      <td>0</td>\n",
       "    </tr>\n",
       "    <tr>\n",
       "      <th>1961-1980</th>\n",
       "      <td>0</td>\n",
       "    </tr>\n",
       "    <tr>\n",
       "      <th>1981-2000</th>\n",
       "      <td>0</td>\n",
       "    </tr>\n",
       "  </tbody>\n",
       "</table>\n",
       "</div>"
      ],
      "text/plain": [
       "           Parti des paysans, artisans et indépendants\n",
       "periodes                                              \n",
       "1901-1920                                           11\n",
       "1921-1940                                            3\n",
       "1941-1960                                            0\n",
       "1961-1980                                            0\n",
       "1981-2000                                            0"
      ]
     },
     "execution_count": 112,
     "metadata": {},
     "output_type": "execute_result"
    }
   ],
   "source": [
    "### Regrouper et compter avec un fitre sur le parti socialiste suisse\n",
    "pp_ppai = pd.DataFrame(cdf_p[cdf_p.ppCode == 'Parti des paysans, artisans et indépendants'].groupby('periodes',observed=False).size())\n",
    "pp_ppai.columns = ['Parti des paysans, artisans et indépendants']\n",
    "pp_ppai.tail()\n"
   ]
  },
  {
   "cell_type": "code",
   "execution_count": 113,
   "id": "4c1d207c-75ec-4e76-acb8-0037eb5cf82f",
   "metadata": {
    "execution": {
     "iopub.execute_input": "2025-06-23T19:31:44.731801Z",
     "iopub.status.busy": "2025-06-23T19:31:44.730634Z",
     "iopub.status.idle": "2025-06-23T19:31:44.763867Z",
     "shell.execute_reply": "2025-06-23T19:31:44.761559Z",
     "shell.execute_reply.started": "2025-06-23T19:31:44.731717Z"
    },
    "scrolled": true
   },
   "outputs": [
    {
     "data": {
      "text/html": [
       "<div>\n",
       "<style scoped>\n",
       "    .dataframe tbody tr th:only-of-type {\n",
       "        vertical-align: middle;\n",
       "    }\n",
       "\n",
       "    .dataframe tbody tr th {\n",
       "        vertical-align: top;\n",
       "    }\n",
       "\n",
       "    .dataframe thead th {\n",
       "        text-align: right;\n",
       "    }\n",
       "</style>\n",
       "<table border=\"1\" class=\"dataframe\">\n",
       "  <thead>\n",
       "    <tr style=\"text-align: right;\">\n",
       "      <th></th>\n",
       "      <th>Parti évangélique suisse</th>\n",
       "    </tr>\n",
       "    <tr>\n",
       "      <th>periodes</th>\n",
       "      <th></th>\n",
       "    </tr>\n",
       "  </thead>\n",
       "  <tbody>\n",
       "    <tr>\n",
       "      <th>1901-1920</th>\n",
       "      <td>2</td>\n",
       "    </tr>\n",
       "    <tr>\n",
       "      <th>1921-1940</th>\n",
       "      <td>2</td>\n",
       "    </tr>\n",
       "    <tr>\n",
       "      <th>1941-1960</th>\n",
       "      <td>5</td>\n",
       "    </tr>\n",
       "    <tr>\n",
       "      <th>1961-1980</th>\n",
       "      <td>3</td>\n",
       "    </tr>\n",
       "    <tr>\n",
       "      <th>1981-2000</th>\n",
       "      <td>0</td>\n",
       "    </tr>\n",
       "  </tbody>\n",
       "</table>\n",
       "</div>"
      ],
      "text/plain": [
       "           Parti évangélique suisse\n",
       "periodes                           \n",
       "1901-1920                         2\n",
       "1921-1940                         2\n",
       "1941-1960                         5\n",
       "1961-1980                         3\n",
       "1981-2000                         0"
      ]
     },
     "execution_count": 113,
     "metadata": {},
     "output_type": "execute_result"
    }
   ],
   "source": [
    "### Regrouper et compter avec un fitre sur le parti socialiste suisse\n",
    "pp_pev = pd.DataFrame(cdf_p[cdf_p.ppCode == 'Parti évangélique suisse'].groupby('periodes',observed=False).size())\n",
    "pp_pev.columns = ['Parti évangélique suisse']\n",
    "pp_pev.tail()\n"
   ]
  },
  {
   "cell_type": "code",
   "execution_count": 114,
   "id": "923aa915-c0bc-46d9-b8d0-b4ccc656db6c",
   "metadata": {
    "execution": {
     "iopub.execute_input": "2025-06-23T19:31:45.587636Z",
     "iopub.status.busy": "2025-06-23T19:31:45.586721Z",
     "iopub.status.idle": "2025-06-23T19:31:45.619227Z",
     "shell.execute_reply": "2025-06-23T19:31:45.617140Z",
     "shell.execute_reply.started": "2025-06-23T19:31:45.587561Z"
    },
    "scrolled": true
   },
   "outputs": [
    {
     "data": {
      "text/html": [
       "<div>\n",
       "<style scoped>\n",
       "    .dataframe tbody tr th:only-of-type {\n",
       "        vertical-align: middle;\n",
       "    }\n",
       "\n",
       "    .dataframe tbody tr th {\n",
       "        vertical-align: top;\n",
       "    }\n",
       "\n",
       "    .dataframe thead th {\n",
       "        text-align: right;\n",
       "    }\n",
       "</style>\n",
       "<table border=\"1\" class=\"dataframe\">\n",
       "  <thead>\n",
       "    <tr style=\"text-align: right;\">\n",
       "      <th></th>\n",
       "      <th>Alliance des indépendants</th>\n",
       "    </tr>\n",
       "    <tr>\n",
       "      <th>periodes</th>\n",
       "      <th></th>\n",
       "    </tr>\n",
       "  </thead>\n",
       "  <tbody>\n",
       "    <tr>\n",
       "      <th>1901-1920</th>\n",
       "      <td>15</td>\n",
       "    </tr>\n",
       "    <tr>\n",
       "      <th>1921-1940</th>\n",
       "      <td>7</td>\n",
       "    </tr>\n",
       "    <tr>\n",
       "      <th>1941-1960</th>\n",
       "      <td>6</td>\n",
       "    </tr>\n",
       "    <tr>\n",
       "      <th>1961-1980</th>\n",
       "      <td>1</td>\n",
       "    </tr>\n",
       "    <tr>\n",
       "      <th>1981-2000</th>\n",
       "      <td>0</td>\n",
       "    </tr>\n",
       "  </tbody>\n",
       "</table>\n",
       "</div>"
      ],
      "text/plain": [
       "           Alliance des indépendants\n",
       "periodes                            \n",
       "1901-1920                         15\n",
       "1921-1940                          7\n",
       "1941-1960                          6\n",
       "1961-1980                          1\n",
       "1981-2000                          0"
      ]
     },
     "execution_count": 114,
     "metadata": {},
     "output_type": "execute_result"
    }
   ],
   "source": [
    "### Regrouper et compter avec un fitre sur le parti socialiste suisse\n",
    "pp_all = pd.DataFrame(cdf_p[cdf_p.ppCode == 'Alliance des indépendants'].groupby('periodes',observed=False).size())\n",
    "pp_all.columns = ['Alliance des indépendants']\n",
    "pp_all.tail()\n"
   ]
  },
  {
   "cell_type": "code",
   "execution_count": 115,
   "id": "d0a5270c-fe37-4572-bb12-bb4a8eb3a788",
   "metadata": {
    "execution": {
     "iopub.execute_input": "2025-06-23T19:31:47.149389Z",
     "iopub.status.busy": "2025-06-23T19:31:47.147360Z",
     "iopub.status.idle": "2025-06-23T19:31:47.177581Z",
     "shell.execute_reply": "2025-06-23T19:31:47.175804Z",
     "shell.execute_reply.started": "2025-06-23T19:31:47.149234Z"
    },
    "scrolled": true
   },
   "outputs": [
    {
     "data": {
      "text/html": [
       "<div>\n",
       "<style scoped>\n",
       "    .dataframe tbody tr th:only-of-type {\n",
       "        vertical-align: middle;\n",
       "    }\n",
       "\n",
       "    .dataframe tbody tr th {\n",
       "        vertical-align: top;\n",
       "    }\n",
       "\n",
       "    .dataframe thead th {\n",
       "        text-align: right;\n",
       "    }\n",
       "</style>\n",
       "<table border=\"1\" class=\"dataframe\">\n",
       "  <thead>\n",
       "    <tr style=\"text-align: right;\">\n",
       "      <th></th>\n",
       "      <th>Parti suisse du travail</th>\n",
       "    </tr>\n",
       "    <tr>\n",
       "      <th>periodes</th>\n",
       "      <th></th>\n",
       "    </tr>\n",
       "  </thead>\n",
       "  <tbody>\n",
       "    <tr>\n",
       "      <th>1901-1920</th>\n",
       "      <td>4</td>\n",
       "    </tr>\n",
       "    <tr>\n",
       "      <th>1921-1940</th>\n",
       "      <td>1</td>\n",
       "    </tr>\n",
       "    <tr>\n",
       "      <th>1941-1960</th>\n",
       "      <td>4</td>\n",
       "    </tr>\n",
       "    <tr>\n",
       "      <th>1961-1980</th>\n",
       "      <td>0</td>\n",
       "    </tr>\n",
       "    <tr>\n",
       "      <th>1981-2000</th>\n",
       "      <td>0</td>\n",
       "    </tr>\n",
       "  </tbody>\n",
       "</table>\n",
       "</div>"
      ],
      "text/plain": [
       "           Parti suisse du travail\n",
       "periodes                          \n",
       "1901-1920                        4\n",
       "1921-1940                        1\n",
       "1941-1960                        4\n",
       "1961-1980                        0\n",
       "1981-2000                        0"
      ]
     },
     "execution_count": 115,
     "metadata": {},
     "output_type": "execute_result"
    }
   ],
   "source": [
    "### Regrouper et compter avec un fitre sur le parti socialiste suisse\n",
    "pp_pop = pd.DataFrame(cdf_p[cdf_p.ppCode == 'Parti suisse du travail'].groupby('periodes',observed=False).size())\n",
    "pp_pop.columns = ['Parti suisse du travail']\n",
    "pp_pop.tail()\n"
   ]
  },
  {
   "cell_type": "code",
   "execution_count": 116,
   "id": "33788379-3769-4707-8d36-bae574322c59",
   "metadata": {
    "execution": {
     "iopub.execute_input": "2025-06-23T19:31:49.642905Z",
     "iopub.status.busy": "2025-06-23T19:31:49.641955Z",
     "iopub.status.idle": "2025-06-23T19:31:49.674195Z",
     "shell.execute_reply": "2025-06-23T19:31:49.671664Z",
     "shell.execute_reply.started": "2025-06-23T19:31:49.642830Z"
    },
    "scrolled": true
   },
   "outputs": [
    {
     "data": {
      "text/html": [
       "<div>\n",
       "<style scoped>\n",
       "    .dataframe tbody tr th:only-of-type {\n",
       "        vertical-align: middle;\n",
       "    }\n",
       "\n",
       "    .dataframe tbody tr th {\n",
       "        vertical-align: top;\n",
       "    }\n",
       "\n",
       "    .dataframe thead th {\n",
       "        text-align: right;\n",
       "    }\n",
       "</style>\n",
       "<table border=\"1\" class=\"dataframe\">\n",
       "  <thead>\n",
       "    <tr style=\"text-align: right;\">\n",
       "      <th></th>\n",
       "      <th>Parti démocratique suisse</th>\n",
       "    </tr>\n",
       "    <tr>\n",
       "      <th>periodes</th>\n",
       "      <th></th>\n",
       "    </tr>\n",
       "  </thead>\n",
       "  <tbody>\n",
       "    <tr>\n",
       "      <th>1901-1920</th>\n",
       "      <td>3</td>\n",
       "    </tr>\n",
       "    <tr>\n",
       "      <th>1921-1940</th>\n",
       "      <td>1</td>\n",
       "    </tr>\n",
       "    <tr>\n",
       "      <th>1941-1960</th>\n",
       "      <td>0</td>\n",
       "    </tr>\n",
       "    <tr>\n",
       "      <th>1961-1980</th>\n",
       "      <td>0</td>\n",
       "    </tr>\n",
       "    <tr>\n",
       "      <th>1981-2000</th>\n",
       "      <td>0</td>\n",
       "    </tr>\n",
       "  </tbody>\n",
       "</table>\n",
       "</div>"
      ],
      "text/plain": [
       "           Parti démocratique suisse\n",
       "periodes                            \n",
       "1901-1920                          3\n",
       "1921-1940                          1\n",
       "1941-1960                          0\n",
       "1961-1980                          0\n",
       "1981-2000                          0"
      ]
     },
     "execution_count": 116,
     "metadata": {},
     "output_type": "execute_result"
    }
   ],
   "source": [
    "### Regrouper et compter avec un fitre sur le parti socialiste suisse\n",
    "pp_pds = pd.DataFrame(cdf_p[cdf_p.ppCode == 'Parti démocratique suisse'].groupby('periodes',observed=False).size())\n",
    "pp_pds.columns = ['Parti démocratique suisse']\n",
    "pp_pds.tail()\n"
   ]
  },
  {
   "cell_type": "code",
   "execution_count": 117,
   "id": "7d8a780a-7dc6-4891-bc47-ecea1c1064b2",
   "metadata": {
    "execution": {
     "iopub.execute_input": "2025-06-23T19:31:51.212501Z",
     "iopub.status.busy": "2025-06-23T19:31:51.209599Z",
     "iopub.status.idle": "2025-06-23T19:31:51.237242Z",
     "shell.execute_reply": "2025-06-23T19:31:51.235768Z",
     "shell.execute_reply.started": "2025-06-23T19:31:51.212416Z"
    },
    "scrolled": true
   },
   "outputs": [
    {
     "data": {
      "text/html": [
       "<div>\n",
       "<style scoped>\n",
       "    .dataframe tbody tr th:only-of-type {\n",
       "        vertical-align: middle;\n",
       "    }\n",
       "\n",
       "    .dataframe tbody tr th {\n",
       "        vertical-align: top;\n",
       "    }\n",
       "\n",
       "    .dataframe thead th {\n",
       "        text-align: right;\n",
       "    }\n",
       "</style>\n",
       "<table border=\"1\" class=\"dataframe\">\n",
       "  <thead>\n",
       "    <tr style=\"text-align: right;\">\n",
       "      <th></th>\n",
       "      <th>Parti bourgeois démocratique</th>\n",
       "    </tr>\n",
       "    <tr>\n",
       "      <th>periodes</th>\n",
       "      <th></th>\n",
       "    </tr>\n",
       "  </thead>\n",
       "  <tbody>\n",
       "    <tr>\n",
       "      <th>1901-1920</th>\n",
       "      <td>0</td>\n",
       "    </tr>\n",
       "    <tr>\n",
       "      <th>1921-1940</th>\n",
       "      <td>1</td>\n",
       "    </tr>\n",
       "    <tr>\n",
       "      <th>1941-1960</th>\n",
       "      <td>9</td>\n",
       "    </tr>\n",
       "    <tr>\n",
       "      <th>1961-1980</th>\n",
       "      <td>3</td>\n",
       "    </tr>\n",
       "    <tr>\n",
       "      <th>1981-2000</th>\n",
       "      <td>0</td>\n",
       "    </tr>\n",
       "  </tbody>\n",
       "</table>\n",
       "</div>"
      ],
      "text/plain": [
       "           Parti bourgeois démocratique\n",
       "periodes                               \n",
       "1901-1920                             0\n",
       "1921-1940                             1\n",
       "1941-1960                             9\n",
       "1961-1980                             3\n",
       "1981-2000                             0"
      ]
     },
     "execution_count": 117,
     "metadata": {},
     "output_type": "execute_result"
    }
   ],
   "source": [
    "### Regrouper et compter avec un fitre sur le parti socialiste suisse\n",
    "pp_pbd = pd.DataFrame(cdf_p[cdf_p.ppCode == 'Parti bourgeois démocratique'].groupby('periodes',observed=False).size())\n",
    "pp_pbd.columns = ['Parti bourgeois démocratique']\n",
    "pp_pbd.tail()"
   ]
  },
  {
   "cell_type": "code",
   "execution_count": 118,
   "id": "cc309a25-47ea-4c01-a62c-5ee65892eb72",
   "metadata": {
    "execution": {
     "iopub.execute_input": "2025-06-23T19:31:52.687130Z",
     "iopub.status.busy": "2025-06-23T19:31:52.683728Z",
     "iopub.status.idle": "2025-06-23T19:31:52.716940Z",
     "shell.execute_reply": "2025-06-23T19:31:52.714941Z",
     "shell.execute_reply.started": "2025-06-23T19:31:52.686983Z"
    },
    "scrolled": true
   },
   "outputs": [
    {
     "data": {
      "text/html": [
       "<div>\n",
       "<style scoped>\n",
       "    .dataframe tbody tr th:only-of-type {\n",
       "        vertical-align: middle;\n",
       "    }\n",
       "\n",
       "    .dataframe tbody tr th {\n",
       "        vertical-align: top;\n",
       "    }\n",
       "\n",
       "    .dataframe thead th {\n",
       "        text-align: right;\n",
       "    }\n",
       "</style>\n",
       "<table border=\"1\" class=\"dataframe\">\n",
       "  <thead>\n",
       "    <tr style=\"text-align: right;\">\n",
       "      <th></th>\n",
       "      <th>Union démocratique fédérale</th>\n",
       "    </tr>\n",
       "    <tr>\n",
       "      <th>periodes</th>\n",
       "      <th></th>\n",
       "    </tr>\n",
       "  </thead>\n",
       "  <tbody>\n",
       "    <tr>\n",
       "      <th>1901-1920</th>\n",
       "      <td>0</td>\n",
       "    </tr>\n",
       "    <tr>\n",
       "      <th>1921-1940</th>\n",
       "      <td>0</td>\n",
       "    </tr>\n",
       "    <tr>\n",
       "      <th>1941-1960</th>\n",
       "      <td>4</td>\n",
       "    </tr>\n",
       "    <tr>\n",
       "      <th>1961-1980</th>\n",
       "      <td>1</td>\n",
       "    </tr>\n",
       "    <tr>\n",
       "      <th>1981-2000</th>\n",
       "      <td>0</td>\n",
       "    </tr>\n",
       "  </tbody>\n",
       "</table>\n",
       "</div>"
      ],
      "text/plain": [
       "           Union démocratique fédérale\n",
       "periodes                              \n",
       "1901-1920                            0\n",
       "1921-1940                            0\n",
       "1941-1960                            4\n",
       "1961-1980                            1\n",
       "1981-2000                            0"
      ]
     },
     "execution_count": 118,
     "metadata": {},
     "output_type": "execute_result"
    }
   ],
   "source": [
    "### Regrouper et compter avec un fitre sur le parti socialiste suisse\n",
    "pp_udf = pd.DataFrame(cdf_p[cdf_p.ppCode == 'Union démocratique fédérale'].groupby('periodes',observed=False).size())\n",
    "pp_udf.columns = ['Union démocratique fédérale']\n",
    "pp_udf.tail()"
   ]
  },
  {
   "cell_type": "code",
   "execution_count": 119,
   "id": "00140bb7-becf-49a2-9730-0cdff22320cb",
   "metadata": {
    "execution": {
     "iopub.execute_input": "2025-06-23T19:32:01.979550Z",
     "iopub.status.busy": "2025-06-23T19:32:01.977649Z",
     "iopub.status.idle": "2025-06-23T19:32:02.006642Z",
     "shell.execute_reply": "2025-06-23T19:32:02.005239Z",
     "shell.execute_reply.started": "2025-06-23T19:32:01.979467Z"
    },
    "scrolled": true
   },
   "outputs": [
    {
     "data": {
      "text/html": [
       "<div>\n",
       "<style scoped>\n",
       "    .dataframe tbody tr th:only-of-type {\n",
       "        vertical-align: middle;\n",
       "    }\n",
       "\n",
       "    .dataframe tbody tr th {\n",
       "        vertical-align: top;\n",
       "    }\n",
       "\n",
       "    .dataframe thead th {\n",
       "        text-align: right;\n",
       "    }\n",
       "</style>\n",
       "<table border=\"1\" class=\"dataframe\">\n",
       "  <thead>\n",
       "    <tr style=\"text-align: right;\">\n",
       "      <th></th>\n",
       "      <th>Les_Verts</th>\n",
       "    </tr>\n",
       "    <tr>\n",
       "      <th>periodes</th>\n",
       "      <th></th>\n",
       "    </tr>\n",
       "  </thead>\n",
       "  <tbody>\n",
       "    <tr>\n",
       "      <th>1901-1920</th>\n",
       "      <td>0</td>\n",
       "    </tr>\n",
       "    <tr>\n",
       "      <th>1921-1940</th>\n",
       "      <td>7</td>\n",
       "    </tr>\n",
       "    <tr>\n",
       "      <th>1941-1960</th>\n",
       "      <td>37</td>\n",
       "    </tr>\n",
       "    <tr>\n",
       "      <th>1961-1980</th>\n",
       "      <td>24</td>\n",
       "    </tr>\n",
       "    <tr>\n",
       "      <th>1981-2000</th>\n",
       "      <td>10</td>\n",
       "    </tr>\n",
       "  </tbody>\n",
       "</table>\n",
       "</div>"
      ],
      "text/plain": [
       "           Les_Verts\n",
       "periodes            \n",
       "1901-1920          0\n",
       "1921-1940          7\n",
       "1941-1960         37\n",
       "1961-1980         24\n",
       "1981-2000         10"
      ]
     },
     "execution_count": 119,
     "metadata": {},
     "output_type": "execute_result"
    }
   ],
   "source": [
    "### Regrouper et compter avec un fitre sur le parti socialiste suisse\n",
    "pp_v = pd.DataFrame(cdf_p[cdf_p.ppCode == 'Les_Verts'].groupby('periodes',observed=False).size())\n",
    "pp_v.columns = ['Les_Verts']\n",
    "pp_v.tail()"
   ]
  },
  {
   "cell_type": "code",
   "execution_count": 120,
   "id": "2b030a2c-f1ca-41fe-846b-16cdf58de38c",
   "metadata": {
    "execution": {
     "iopub.execute_input": "2025-06-23T19:32:05.308688Z",
     "iopub.status.busy": "2025-06-23T19:32:05.305870Z",
     "iopub.status.idle": "2025-06-23T19:32:05.339868Z",
     "shell.execute_reply": "2025-06-23T19:32:05.337271Z",
     "shell.execute_reply.started": "2025-06-23T19:32:05.308590Z"
    },
    "scrolled": true
   },
   "outputs": [
    {
     "data": {
      "text/html": [
       "<div>\n",
       "<style scoped>\n",
       "    .dataframe tbody tr th:only-of-type {\n",
       "        vertical-align: middle;\n",
       "    }\n",
       "\n",
       "    .dataframe tbody tr th {\n",
       "        vertical-align: top;\n",
       "    }\n",
       "\n",
       "    .dataframe thead th {\n",
       "        text-align: right;\n",
       "    }\n",
       "</style>\n",
       "<table border=\"1\" class=\"dataframe\">\n",
       "  <thead>\n",
       "    <tr style=\"text-align: right;\">\n",
       "      <th></th>\n",
       "      <th>Vertlibéraux</th>\n",
       "    </tr>\n",
       "    <tr>\n",
       "      <th>periodes</th>\n",
       "      <th></th>\n",
       "    </tr>\n",
       "  </thead>\n",
       "  <tbody>\n",
       "    <tr>\n",
       "      <th>1901-1920</th>\n",
       "      <td>0</td>\n",
       "    </tr>\n",
       "    <tr>\n",
       "      <th>1921-1940</th>\n",
       "      <td>0</td>\n",
       "    </tr>\n",
       "    <tr>\n",
       "      <th>1941-1960</th>\n",
       "      <td>3</td>\n",
       "    </tr>\n",
       "    <tr>\n",
       "      <th>1961-1980</th>\n",
       "      <td>19</td>\n",
       "    </tr>\n",
       "    <tr>\n",
       "      <th>1981-2000</th>\n",
       "      <td>2</td>\n",
       "    </tr>\n",
       "  </tbody>\n",
       "</table>\n",
       "</div>"
      ],
      "text/plain": [
       "           Vertlibéraux\n",
       "periodes               \n",
       "1901-1920             0\n",
       "1921-1940             0\n",
       "1941-1960             3\n",
       "1961-1980            19\n",
       "1981-2000             2"
      ]
     },
     "execution_count": 120,
     "metadata": {},
     "output_type": "execute_result"
    }
   ],
   "source": [
    "### Regrouper et compter avec un fitre sur le parti socialiste suisse\n",
    "pp_vl = pd.DataFrame(cdf_p[cdf_p.ppCode == 'Vertlibéraux'].groupby('periodes',observed=False).size())\n",
    "pp_vl.columns = ['Vertlibéraux']\n",
    "pp_vl.tail()"
   ]
  },
  {
   "cell_type": "code",
   "execution_count": 121,
   "id": "05a4c6c7-dc10-434d-b35c-9204b491bece",
   "metadata": {
    "execution": {
     "iopub.execute_input": "2025-06-23T19:32:09.274505Z",
     "iopub.status.busy": "2025-06-23T19:32:09.272368Z",
     "iopub.status.idle": "2025-06-23T19:32:09.328158Z",
     "shell.execute_reply": "2025-06-23T19:32:09.326474Z",
     "shell.execute_reply.started": "2025-06-23T19:32:09.274415Z"
    }
   },
   "outputs": [],
   "source": [
    "### Fusionner les deux tableaux en utilisant l'index comme clé de jointure\n",
    "from functools import reduce\n",
    "\n",
    "dfs = [pp_prd, pp_pss, pp_pdc, pp_udc, pp_plr, pp_pls, pp_LC,\n",
    "       pp_ppai, pp_pev, pp_all, pp_pop, pp_pds, pp_pbd, pp_udf,\n",
    "       pp_v, pp_vl]\n",
    "\n",
    "merged = reduce(lambda left, right: pd.merge(left, right, left_index=True, right_index=True), dfs)"
   ]
  },
  {
   "cell_type": "code",
   "execution_count": 122,
   "id": "60190e17-c1df-4a22-9ec9-be6b77108c46",
   "metadata": {
    "execution": {
     "iopub.execute_input": "2025-06-23T19:32:10.411040Z",
     "iopub.status.busy": "2025-06-23T19:32:10.410035Z",
     "iopub.status.idle": "2025-06-23T19:32:10.450800Z",
     "shell.execute_reply": "2025-06-23T19:32:10.447963Z",
     "shell.execute_reply.started": "2025-06-23T19:32:10.410963Z"
    }
   },
   "outputs": [
    {
     "data": {
      "text/html": [
       "<div>\n",
       "<style scoped>\n",
       "    .dataframe tbody tr th:only-of-type {\n",
       "        vertical-align: middle;\n",
       "    }\n",
       "\n",
       "    .dataframe tbody tr th {\n",
       "        vertical-align: top;\n",
       "    }\n",
       "\n",
       "    .dataframe thead th {\n",
       "        text-align: right;\n",
       "    }\n",
       "</style>\n",
       "<table border=\"1\" class=\"dataframe\">\n",
       "  <thead>\n",
       "    <tr style=\"text-align: right;\">\n",
       "      <th></th>\n",
       "      <th>Parti radical-démocratique</th>\n",
       "      <th>Parti_socialiste_suisse</th>\n",
       "      <th>Parti_démocrate_chrétien</th>\n",
       "      <th>Union_démocratique_du_centre</th>\n",
       "      <th>Parti_libéral_radical</th>\n",
       "      <th>Parti libéral suisse</th>\n",
       "      <th>Le_centre</th>\n",
       "      <th>Parti des paysans, artisans et indépendants</th>\n",
       "      <th>Parti évangélique suisse</th>\n",
       "      <th>Alliance des indépendants</th>\n",
       "      <th>Parti suisse du travail</th>\n",
       "      <th>Parti démocratique suisse</th>\n",
       "      <th>Parti bourgeois démocratique</th>\n",
       "      <th>Union démocratique fédérale</th>\n",
       "      <th>Les_Verts</th>\n",
       "      <th>Vertlibéraux</th>\n",
       "    </tr>\n",
       "    <tr>\n",
       "      <th>periodes</th>\n",
       "      <th></th>\n",
       "      <th></th>\n",
       "      <th></th>\n",
       "      <th></th>\n",
       "      <th></th>\n",
       "      <th></th>\n",
       "      <th></th>\n",
       "      <th></th>\n",
       "      <th></th>\n",
       "      <th></th>\n",
       "      <th></th>\n",
       "      <th></th>\n",
       "      <th></th>\n",
       "      <th></th>\n",
       "      <th></th>\n",
       "      <th></th>\n",
       "    </tr>\n",
       "  </thead>\n",
       "  <tbody>\n",
       "    <tr>\n",
       "      <th>1901-1920</th>\n",
       "      <td>55</td>\n",
       "      <td>43</td>\n",
       "      <td>32</td>\n",
       "      <td>2</td>\n",
       "      <td>1</td>\n",
       "      <td>9</td>\n",
       "      <td>0</td>\n",
       "      <td>11</td>\n",
       "      <td>2</td>\n",
       "      <td>15</td>\n",
       "      <td>4</td>\n",
       "      <td>3</td>\n",
       "      <td>0</td>\n",
       "      <td>0</td>\n",
       "      <td>0</td>\n",
       "      <td>0</td>\n",
       "    </tr>\n",
       "    <tr>\n",
       "      <th>1921-1940</th>\n",
       "      <td>61</td>\n",
       "      <td>50</td>\n",
       "      <td>49</td>\n",
       "      <td>27</td>\n",
       "      <td>0</td>\n",
       "      <td>12</td>\n",
       "      <td>0</td>\n",
       "      <td>3</td>\n",
       "      <td>2</td>\n",
       "      <td>7</td>\n",
       "      <td>1</td>\n",
       "      <td>1</td>\n",
       "      <td>1</td>\n",
       "      <td>0</td>\n",
       "      <td>7</td>\n",
       "      <td>0</td>\n",
       "    </tr>\n",
       "    <tr>\n",
       "      <th>1941-1960</th>\n",
       "      <td>44</td>\n",
       "      <td>95</td>\n",
       "      <td>61</td>\n",
       "      <td>67</td>\n",
       "      <td>25</td>\n",
       "      <td>12</td>\n",
       "      <td>5</td>\n",
       "      <td>0</td>\n",
       "      <td>5</td>\n",
       "      <td>6</td>\n",
       "      <td>4</td>\n",
       "      <td>0</td>\n",
       "      <td>9</td>\n",
       "      <td>4</td>\n",
       "      <td>37</td>\n",
       "      <td>3</td>\n",
       "    </tr>\n",
       "    <tr>\n",
       "      <th>1961-1980</th>\n",
       "      <td>3</td>\n",
       "      <td>47</td>\n",
       "      <td>22</td>\n",
       "      <td>70</td>\n",
       "      <td>35</td>\n",
       "      <td>1</td>\n",
       "      <td>18</td>\n",
       "      <td>0</td>\n",
       "      <td>3</td>\n",
       "      <td>1</td>\n",
       "      <td>0</td>\n",
       "      <td>0</td>\n",
       "      <td>3</td>\n",
       "      <td>1</td>\n",
       "      <td>24</td>\n",
       "      <td>19</td>\n",
       "    </tr>\n",
       "    <tr>\n",
       "      <th>1981-2000</th>\n",
       "      <td>0</td>\n",
       "      <td>22</td>\n",
       "      <td>4</td>\n",
       "      <td>16</td>\n",
       "      <td>4</td>\n",
       "      <td>0</td>\n",
       "      <td>1</td>\n",
       "      <td>0</td>\n",
       "      <td>0</td>\n",
       "      <td>0</td>\n",
       "      <td>0</td>\n",
       "      <td>0</td>\n",
       "      <td>0</td>\n",
       "      <td>0</td>\n",
       "      <td>10</td>\n",
       "      <td>2</td>\n",
       "    </tr>\n",
       "  </tbody>\n",
       "</table>\n",
       "</div>"
      ],
      "text/plain": [
       "           Parti radical-démocratique  Parti_socialiste_suisse  \\\n",
       "periodes                                                         \n",
       "1901-1920                          55                       43   \n",
       "1921-1940                          61                       50   \n",
       "1941-1960                          44                       95   \n",
       "1961-1980                           3                       47   \n",
       "1981-2000                           0                       22   \n",
       "\n",
       "           Parti_démocrate_chrétien  Union_démocratique_du_centre  \\\n",
       "periodes                                                            \n",
       "1901-1920                        32                             2   \n",
       "1921-1940                        49                            27   \n",
       "1941-1960                        61                            67   \n",
       "1961-1980                        22                            70   \n",
       "1981-2000                         4                            16   \n",
       "\n",
       "           Parti_libéral_radical  Parti libéral suisse  Le_centre  \\\n",
       "periodes                                                            \n",
       "1901-1920                      1                     9          0   \n",
       "1921-1940                      0                    12          0   \n",
       "1941-1960                     25                    12          5   \n",
       "1961-1980                     35                     1         18   \n",
       "1981-2000                      4                     0          1   \n",
       "\n",
       "           Parti des paysans, artisans et indépendants  \\\n",
       "periodes                                                 \n",
       "1901-1920                                           11   \n",
       "1921-1940                                            3   \n",
       "1941-1960                                            0   \n",
       "1961-1980                                            0   \n",
       "1981-2000                                            0   \n",
       "\n",
       "           Parti évangélique suisse  Alliance des indépendants  \\\n",
       "periodes                                                         \n",
       "1901-1920                         2                         15   \n",
       "1921-1940                         2                          7   \n",
       "1941-1960                         5                          6   \n",
       "1961-1980                         3                          1   \n",
       "1981-2000                         0                          0   \n",
       "\n",
       "           Parti suisse du travail  Parti démocratique suisse  \\\n",
       "periodes                                                        \n",
       "1901-1920                        4                          3   \n",
       "1921-1940                        1                          1   \n",
       "1941-1960                        4                          0   \n",
       "1961-1980                        0                          0   \n",
       "1981-2000                        0                          0   \n",
       "\n",
       "           Parti bourgeois démocratique  Union démocratique fédérale  \\\n",
       "periodes                                                               \n",
       "1901-1920                             0                            0   \n",
       "1921-1940                             1                            0   \n",
       "1941-1960                             9                            4   \n",
       "1961-1980                             3                            1   \n",
       "1981-2000                             0                            0   \n",
       "\n",
       "           Les_Verts  Vertlibéraux  \n",
       "periodes                            \n",
       "1901-1920          0             0  \n",
       "1921-1940          7             0  \n",
       "1941-1960         37             3  \n",
       "1961-1980         24            19  \n",
       "1981-2000         10             2  "
      ]
     },
     "execution_count": 122,
     "metadata": {},
     "output_type": "execute_result"
    }
   ],
   "source": [
    "### Transformer l'index de séquence à chaîne de caractères\n",
    "# ce qui est indispensable pour l'affichage dans un graphique\n",
    "merged.index = merged.index.map(str)\n",
    "merged.tail()"
   ]
  },
  {
   "cell_type": "code",
   "execution_count": 123,
   "id": "d188f96f-feca-464b-b338-f87e3c9cb23b",
   "metadata": {
    "execution": {
     "iopub.execute_input": "2025-06-23T19:32:18.739806Z",
     "iopub.status.busy": "2025-06-23T19:32:18.738671Z",
     "iopub.status.idle": "2025-06-23T19:32:20.074560Z",
     "shell.execute_reply": "2025-06-23T19:32:20.072787Z",
     "shell.execute_reply.started": "2025-06-23T19:32:18.739638Z"
    }
   },
   "outputs": [
    {
     "data": {
      "image/png": "[encoded data removed]",
      "text/plain": [
       "<Figure size 2000x600 with 1 Axes>"
      ]
     },
     "metadata": {},
     "output_type": "display_data"
    }
   ],
   "source": [
    "### Documentation\n",
    "# https://pandas.pydata.org/pandas-docs/stable/reference/api/pandas.DataFrame.plot.bar.html\n",
    "ax = merged.plot.bar(stacked=True, rot=70, fontsize=9, figsize=(20,6), color=['LightSteelBlue', 'LightCoral', 'red', 'Lightgreen', 'Darkgreen', 'orange', 'darkblue', 'yellow', 'grey', 'black', 'violet', 'pink', 'blue', 'brown', 'beige','turquoise'])\n",
    "plt.savefig('Images/naissance_parti_20ans.png')\n",
    "plt.show()"
   ]
  },
  {
   "cell_type": "markdown",
   "id": "6c1da3ce-20ca-4e98-82f1-b529d97b6089",
   "metadata": {},
   "source": [
    "## Codage\n",
    "Comme on peut le constater, il y a eu beaucoup d'évolution en plus de 240 ans. Pour y voir plus clairement, on divise les période en tranche de 10 ans, et ce à partir de 1941 pour avoir l'histoire récente. De plus, on ne retient pas les 15 partis les plus cités, mais les 5 partis principaux de Suisse, à savoir, Les Verts, le PS, Le Centre (et le PDC, son ancêtre), le PLR et l'UDC"
   ]
  },
  {
   "cell_type": "code",
   "execution_count": 124,
   "id": "999af2f6-438d-4dbb-91b5-ad4ee449c067",
   "metadata": {
    "execution": {
     "iopub.execute_input": "2025-06-23T19:32:39.571878Z",
     "iopub.status.busy": "2025-06-23T19:32:39.570887Z",
     "iopub.status.idle": "2025-06-23T19:32:39.586529Z",
     "shell.execute_reply": "2025-06-23T19:32:39.584017Z",
     "shell.execute_reply.started": "2025-06-23T19:32:39.571799Z"
    },
    "tags": []
   },
   "outputs": [
    {
     "name": "stdout",
     "output_type": "stream",
     "text": [
      "[1941, 1951, 1961, 1971, 1981] [1961, 1971, 1981, 1991, 2001]\n"
     ]
    }
   ],
   "source": [
    "l_10 = list(range(1941, 2010, 10))\n",
    "print(l_10[:5],l_10[-5:])"
   ]
  },
  {
   "cell_type": "code",
   "execution_count": 125,
   "id": "5107ea2d-46e8-493b-9370-670d65011a30",
   "metadata": {
    "execution": {
     "iopub.execute_input": "2025-06-23T19:32:42.021340Z",
     "iopub.status.busy": "2025-06-23T19:32:42.020008Z",
     "iopub.status.idle": "2025-06-23T19:32:42.061972Z",
     "shell.execute_reply": "2025-06-23T19:32:42.059392Z",
     "shell.execute_reply.started": "2025-06-23T19:32:42.021197Z"
    }
   },
   "outputs": [
    {
     "data": {
      "text/html": [
       "<div>\n",
       "<style scoped>\n",
       "    .dataframe tbody tr th:only-of-type {\n",
       "        vertical-align: middle;\n",
       "    }\n",
       "\n",
       "    .dataframe tbody tr th {\n",
       "        vertical-align: top;\n",
       "    }\n",
       "\n",
       "    .dataframe thead th {\n",
       "        text-align: right;\n",
       "    }\n",
       "</style>\n",
       "<table border=\"1\" class=\"dataframe\">\n",
       "  <thead>\n",
       "    <tr style=\"text-align: right;\">\n",
       "      <th></th>\n",
       "      <th>personUri</th>\n",
       "      <th>personLabel</th>\n",
       "      <th>birthYear</th>\n",
       "      <th>politicalpartyUri</th>\n",
       "      <th>ppCode</th>\n",
       "      <th>periodes</th>\n",
       "      <th>per_10</th>\n",
       "    </tr>\n",
       "  </thead>\n",
       "  <tbody>\n",
       "    <tr>\n",
       "      <th>0</th>\n",
       "      <td>http://www.wikidata.org/entity/Q1771134</td>\n",
       "      <td>Markus Ritter</td>\n",
       "      <td>1967</td>\n",
       "      <td>http://www.wikidata.org/entity/Q100934025</td>\n",
       "      <td>Le_centre</td>\n",
       "      <td>1961-1980</td>\n",
       "      <td>1961-1970</td>\n",
       "    </tr>\n",
       "    <tr>\n",
       "      <th>1</th>\n",
       "      <td>http://www.wikidata.org/entity/Q1673126</td>\n",
       "      <td>Walter König</td>\n",
       "      <td>1908</td>\n",
       "      <td>http://www.wikidata.org/entity/Q303745</td>\n",
       "      <td>Parti_socialiste_suisse</td>\n",
       "      <td>1901-1920</td>\n",
       "      <td>NaN</td>\n",
       "    </tr>\n",
       "    <tr>\n",
       "      <th>2</th>\n",
       "      <td>http://www.wikidata.org/entity/Q1582102</td>\n",
       "      <td>Hans Roth</td>\n",
       "      <td>1913</td>\n",
       "      <td>http://www.wikidata.org/entity/Q477228</td>\n",
       "      <td>Parti des paysans, artisans et indépendants</td>\n",
       "      <td>1901-1920</td>\n",
       "      <td>NaN</td>\n",
       "    </tr>\n",
       "  </tbody>\n",
       "</table>\n",
       "</div>"
      ],
      "text/plain": [
       "                                 personUri    personLabel  birthYear  \\\n",
       "0  http://www.wikidata.org/entity/Q1771134  Markus Ritter       1967   \n",
       "1  http://www.wikidata.org/entity/Q1673126   Walter König       1908   \n",
       "2  http://www.wikidata.org/entity/Q1582102      Hans Roth       1913   \n",
       "\n",
       "                           politicalpartyUri  \\\n",
       "0  http://www.wikidata.org/entity/Q100934025   \n",
       "1     http://www.wikidata.org/entity/Q303745   \n",
       "2     http://www.wikidata.org/entity/Q477228   \n",
       "\n",
       "                                        ppCode   periodes     per_10  \n",
       "0                                    Le_centre  1961-1980  1961-1970  \n",
       "1                      Parti_socialiste_suisse  1901-1920        NaN  \n",
       "2  Parti des paysans, artisans et indépendants  1901-1920        NaN  "
      ]
     },
     "execution_count": 125,
     "metadata": {},
     "output_type": "execute_result"
    }
   ],
   "source": [
    "### Découpage par décennies\n",
    "## fonction pd.cut : https://pandas.pydata.org/pandas-docs/stable/reference/api/pandas.cut.html\n",
    "\n",
    "cdf_p['per_10'] = pd.cut(cdf_p['birthYear'], l_10, right=False)\n",
    "\n",
    "### Transformer le code ajouté pour qu'il soit plus lisible\n",
    "# noter qu'on a arrondi les valeurs\n",
    "cdf_p['per_10'] = cdf_p['per_10'].apply(lambda x : str(int(x.left))+'-'+ str(int(x.right)-1))\n",
    "\n",
    "# Inspection\n",
    "cdf_p.head(3)"
   ]
  },
  {
   "cell_type": "code",
   "execution_count": 126,
   "id": "1c28f1d0-f1e2-4dfc-9892-2b3204544f45",
   "metadata": {
    "execution": {
     "iopub.execute_input": "2025-06-23T19:32:50.059918Z",
     "iopub.status.busy": "2025-06-23T19:32:50.057607Z",
     "iopub.status.idle": "2025-06-23T19:32:50.091569Z",
     "shell.execute_reply": "2025-06-23T19:32:50.088599Z",
     "shell.execute_reply.started": "2025-06-23T19:32:50.059767Z"
    }
   },
   "outputs": [
    {
     "data": {
      "text/html": [
       "<div>\n",
       "<style scoped>\n",
       "    .dataframe tbody tr th:only-of-type {\n",
       "        vertical-align: middle;\n",
       "    }\n",
       "\n",
       "    .dataframe tbody tr th {\n",
       "        vertical-align: top;\n",
       "    }\n",
       "\n",
       "    .dataframe thead th {\n",
       "        text-align: right;\n",
       "    }\n",
       "</style>\n",
       "<table border=\"1\" class=\"dataframe\">\n",
       "  <thead>\n",
       "    <tr style=\"text-align: right;\">\n",
       "      <th></th>\n",
       "      <th>Les_Verts</th>\n",
       "    </tr>\n",
       "    <tr>\n",
       "      <th>per_10</th>\n",
       "      <th></th>\n",
       "    </tr>\n",
       "  </thead>\n",
       "  <tbody>\n",
       "    <tr>\n",
       "      <th>1951-1960</th>\n",
       "      <td>20</td>\n",
       "    </tr>\n",
       "    <tr>\n",
       "      <th>1961-1970</th>\n",
       "      <td>9</td>\n",
       "    </tr>\n",
       "    <tr>\n",
       "      <th>1971-1980</th>\n",
       "      <td>15</td>\n",
       "    </tr>\n",
       "    <tr>\n",
       "      <th>1981-1990</th>\n",
       "      <td>8</td>\n",
       "    </tr>\n",
       "    <tr>\n",
       "      <th>1991-2000</th>\n",
       "      <td>2</td>\n",
       "    </tr>\n",
       "  </tbody>\n",
       "</table>\n",
       "</div>"
      ],
      "text/plain": [
       "           Les_Verts\n",
       "per_10              \n",
       "1951-1960         20\n",
       "1961-1970          9\n",
       "1971-1980         15\n",
       "1981-1990          8\n",
       "1991-2000          2"
      ]
     },
     "execution_count": 126,
     "metadata": {},
     "output_type": "execute_result"
    }
   ],
   "source": [
    "### On regroupe par parti comme ci-dessus\n",
    "pp_v_10 = pd.DataFrame(cdf_p[(cdf_p.ppCode == 'Les_Verts') & (cdf_p.birthYear > 1850)].groupby('per_10', observed=False).size())\n",
    "pp_v_10.columns = ['Les_Verts']\n",
    "pp_v_10.tail()\n"
   ]
  },
  {
   "cell_type": "code",
   "execution_count": 127,
   "id": "0e28a9c3-ab14-40db-bf3a-469dbcb93500",
   "metadata": {
    "execution": {
     "iopub.execute_input": "2025-06-23T19:33:04.656916Z",
     "iopub.status.busy": "2025-06-23T19:33:04.655889Z",
     "iopub.status.idle": "2025-06-23T19:33:04.686474Z",
     "shell.execute_reply": "2025-06-23T19:33:04.683912Z",
     "shell.execute_reply.started": "2025-06-23T19:33:04.656786Z"
    }
   },
   "outputs": [
    {
     "data": {
      "text/html": [
       "<div>\n",
       "<style scoped>\n",
       "    .dataframe tbody tr th:only-of-type {\n",
       "        vertical-align: middle;\n",
       "    }\n",
       "\n",
       "    .dataframe tbody tr th {\n",
       "        vertical-align: top;\n",
       "    }\n",
       "\n",
       "    .dataframe thead th {\n",
       "        text-align: right;\n",
       "    }\n",
       "</style>\n",
       "<table border=\"1\" class=\"dataframe\">\n",
       "  <thead>\n",
       "    <tr style=\"text-align: right;\">\n",
       "      <th></th>\n",
       "      <th>Parti_socialiste_suisse</th>\n",
       "    </tr>\n",
       "    <tr>\n",
       "      <th>per_10</th>\n",
       "      <th></th>\n",
       "    </tr>\n",
       "  </thead>\n",
       "  <tbody>\n",
       "    <tr>\n",
       "      <th>1951-1960</th>\n",
       "      <td>49</td>\n",
       "    </tr>\n",
       "    <tr>\n",
       "      <th>1961-1970</th>\n",
       "      <td>26</td>\n",
       "    </tr>\n",
       "    <tr>\n",
       "      <th>1971-1980</th>\n",
       "      <td>21</td>\n",
       "    </tr>\n",
       "    <tr>\n",
       "      <th>1981-1990</th>\n",
       "      <td>20</td>\n",
       "    </tr>\n",
       "    <tr>\n",
       "      <th>1991-2000</th>\n",
       "      <td>2</td>\n",
       "    </tr>\n",
       "  </tbody>\n",
       "</table>\n",
       "</div>"
      ],
      "text/plain": [
       "           Parti_socialiste_suisse\n",
       "per_10                            \n",
       "1951-1960                       49\n",
       "1961-1970                       26\n",
       "1971-1980                       21\n",
       "1981-1990                       20\n",
       "1991-2000                        2"
      ]
     },
     "execution_count": 127,
     "metadata": {},
     "output_type": "execute_result"
    }
   ],
   "source": [
    "### Idem\n",
    "pp_pss_10 = pd.DataFrame(cdf_p[(cdf_p.ppCode == 'Parti_socialiste_suisse') & (cdf_p.birthYear > 1850)].groupby('per_10', observed=False).size())\n",
    "pp_pss_10.columns = ['Parti_socialiste_suisse']\n",
    "pp_pss_10.tail()\n"
   ]
  },
  {
   "cell_type": "code",
   "execution_count": 128,
   "id": "6a263793-20ac-4ee2-b260-ff4f80bb83e9",
   "metadata": {
    "execution": {
     "iopub.execute_input": "2025-06-23T19:33:14.968449Z",
     "iopub.status.busy": "2025-06-23T19:33:14.965759Z",
     "iopub.status.idle": "2025-06-23T19:33:14.995931Z",
     "shell.execute_reply": "2025-06-23T19:33:14.994586Z",
     "shell.execute_reply.started": "2025-06-23T19:33:14.968256Z"
    }
   },
   "outputs": [
    {
     "data": {
      "text/html": [
       "<div>\n",
       "<style scoped>\n",
       "    .dataframe tbody tr th:only-of-type {\n",
       "        vertical-align: middle;\n",
       "    }\n",
       "\n",
       "    .dataframe tbody tr th {\n",
       "        vertical-align: top;\n",
       "    }\n",
       "\n",
       "    .dataframe thead th {\n",
       "        text-align: right;\n",
       "    }\n",
       "</style>\n",
       "<table border=\"1\" class=\"dataframe\">\n",
       "  <thead>\n",
       "    <tr style=\"text-align: right;\">\n",
       "      <th></th>\n",
       "      <th>Le_centre</th>\n",
       "    </tr>\n",
       "    <tr>\n",
       "      <th>per_10</th>\n",
       "      <th></th>\n",
       "    </tr>\n",
       "  </thead>\n",
       "  <tbody>\n",
       "    <tr>\n",
       "      <th>1951-1960</th>\n",
       "      <td>5</td>\n",
       "    </tr>\n",
       "    <tr>\n",
       "      <th>1961-1970</th>\n",
       "      <td>12</td>\n",
       "    </tr>\n",
       "    <tr>\n",
       "      <th>1971-1980</th>\n",
       "      <td>6</td>\n",
       "    </tr>\n",
       "    <tr>\n",
       "      <th>1981-1990</th>\n",
       "      <td>1</td>\n",
       "    </tr>\n",
       "    <tr>\n",
       "      <th>1991-2000</th>\n",
       "      <td>0</td>\n",
       "    </tr>\n",
       "  </tbody>\n",
       "</table>\n",
       "</div>"
      ],
      "text/plain": [
       "           Le_centre\n",
       "per_10              \n",
       "1951-1960          5\n",
       "1961-1970         12\n",
       "1971-1980          6\n",
       "1981-1990          1\n",
       "1991-2000          0"
      ]
     },
     "execution_count": 128,
     "metadata": {},
     "output_type": "execute_result"
    }
   ],
   "source": [
    "### Idem\n",
    "pp_LC_10 = pd.DataFrame(cdf_p[(cdf_p.ppCode == 'Le_centre') & (cdf_p.birthYear > 1850)].groupby('per_10', observed=False).size())\n",
    "pp_LC_10.columns = ['Le_centre']\n",
    "pp_LC_10.tail()\n"
   ]
  },
  {
   "cell_type": "code",
   "execution_count": 129,
   "id": "a8747d5a-b4ef-4c2c-9008-687bc19dc1cd",
   "metadata": {
    "execution": {
     "iopub.execute_input": "2025-06-23T19:33:34.164594Z",
     "iopub.status.busy": "2025-06-23T19:33:34.163580Z",
     "iopub.status.idle": "2025-06-23T19:33:34.192494Z",
     "shell.execute_reply": "2025-06-23T19:33:34.190129Z",
     "shell.execute_reply.started": "2025-06-23T19:33:34.164517Z"
    }
   },
   "outputs": [
    {
     "data": {
      "text/html": [
       "<div>\n",
       "<style scoped>\n",
       "    .dataframe tbody tr th:only-of-type {\n",
       "        vertical-align: middle;\n",
       "    }\n",
       "\n",
       "    .dataframe tbody tr th {\n",
       "        vertical-align: top;\n",
       "    }\n",
       "\n",
       "    .dataframe thead th {\n",
       "        text-align: right;\n",
       "    }\n",
       "</style>\n",
       "<table border=\"1\" class=\"dataframe\">\n",
       "  <thead>\n",
       "    <tr style=\"text-align: right;\">\n",
       "      <th></th>\n",
       "      <th>Parti_démocrate_chrétien</th>\n",
       "    </tr>\n",
       "    <tr>\n",
       "      <th>per_10</th>\n",
       "      <th></th>\n",
       "    </tr>\n",
       "  </thead>\n",
       "  <tbody>\n",
       "    <tr>\n",
       "      <th>1951-1960</th>\n",
       "      <td>23</td>\n",
       "    </tr>\n",
       "    <tr>\n",
       "      <th>1961-1970</th>\n",
       "      <td>15</td>\n",
       "    </tr>\n",
       "    <tr>\n",
       "      <th>1971-1980</th>\n",
       "      <td>7</td>\n",
       "    </tr>\n",
       "    <tr>\n",
       "      <th>1981-1990</th>\n",
       "      <td>4</td>\n",
       "    </tr>\n",
       "    <tr>\n",
       "      <th>1991-2000</th>\n",
       "      <td>0</td>\n",
       "    </tr>\n",
       "  </tbody>\n",
       "</table>\n",
       "</div>"
      ],
      "text/plain": [
       "           Parti_démocrate_chrétien\n",
       "per_10                             \n",
       "1951-1960                        23\n",
       "1961-1970                        15\n",
       "1971-1980                         7\n",
       "1981-1990                         4\n",
       "1991-2000                         0"
      ]
     },
     "execution_count": 129,
     "metadata": {},
     "output_type": "execute_result"
    }
   ],
   "source": [
    "### Idem\n",
    "pp_pdc_10 = pd.DataFrame(cdf_p[(cdf_p.ppCode == 'Parti_démocrate_chrétien') & (cdf_p.birthYear > 1850)].groupby('per_10', observed=False).size())\n",
    "pp_pdc_10.columns = ['Parti_démocrate_chrétien']\n",
    "pp_pdc_10.tail()\n"
   ]
  },
  {
   "cell_type": "code",
   "execution_count": 130,
   "id": "6f77fd27-9261-43d3-8100-3d5f84e31a1c",
   "metadata": {
    "execution": {
     "iopub.execute_input": "2025-06-23T19:33:48.324489Z",
     "iopub.status.busy": "2025-06-23T19:33:48.323492Z",
     "iopub.status.idle": "2025-06-23T19:33:48.354905Z",
     "shell.execute_reply": "2025-06-23T19:33:48.353296Z",
     "shell.execute_reply.started": "2025-06-23T19:33:48.324413Z"
    }
   },
   "outputs": [
    {
     "data": {
      "text/html": [
       "<div>\n",
       "<style scoped>\n",
       "    .dataframe tbody tr th:only-of-type {\n",
       "        vertical-align: middle;\n",
       "    }\n",
       "\n",
       "    .dataframe tbody tr th {\n",
       "        vertical-align: top;\n",
       "    }\n",
       "\n",
       "    .dataframe thead th {\n",
       "        text-align: right;\n",
       "    }\n",
       "</style>\n",
       "<table border=\"1\" class=\"dataframe\">\n",
       "  <thead>\n",
       "    <tr style=\"text-align: right;\">\n",
       "      <th></th>\n",
       "      <th>Parti_libéral_radical</th>\n",
       "    </tr>\n",
       "    <tr>\n",
       "      <th>per_10</th>\n",
       "      <th></th>\n",
       "    </tr>\n",
       "  </thead>\n",
       "  <tbody>\n",
       "    <tr>\n",
       "      <th>1951-1960</th>\n",
       "      <td>21</td>\n",
       "    </tr>\n",
       "    <tr>\n",
       "      <th>1961-1970</th>\n",
       "      <td>23</td>\n",
       "    </tr>\n",
       "    <tr>\n",
       "      <th>1971-1980</th>\n",
       "      <td>12</td>\n",
       "    </tr>\n",
       "    <tr>\n",
       "      <th>1981-1990</th>\n",
       "      <td>3</td>\n",
       "    </tr>\n",
       "    <tr>\n",
       "      <th>1991-2000</th>\n",
       "      <td>1</td>\n",
       "    </tr>\n",
       "  </tbody>\n",
       "</table>\n",
       "</div>"
      ],
      "text/plain": [
       "           Parti_libéral_radical\n",
       "per_10                          \n",
       "1951-1960                     21\n",
       "1961-1970                     23\n",
       "1971-1980                     12\n",
       "1981-1990                      3\n",
       "1991-2000                      1"
      ]
     },
     "execution_count": 130,
     "metadata": {},
     "output_type": "execute_result"
    }
   ],
   "source": [
    "### Idem\n",
    "pp_plr_10 = pd.DataFrame(cdf_p[(cdf_p.ppCode == 'Parti_libéral_radical') & (cdf_p.birthYear > 1850)].groupby('per_10', observed=False).size())\n",
    "pp_plr_10.columns = ['Parti_libéral_radical']\n",
    "pp_plr_10.tail()\n"
   ]
  },
  {
   "cell_type": "code",
   "execution_count": 131,
   "id": "447f3b9e-b0cf-4464-b8bc-7c634cdc7dfa",
   "metadata": {
    "execution": {
     "iopub.execute_input": "2025-06-23T19:34:11.525030Z",
     "iopub.status.busy": "2025-06-23T19:34:11.524126Z",
     "iopub.status.idle": "2025-06-23T19:34:11.549675Z",
     "shell.execute_reply": "2025-06-23T19:34:11.547511Z",
     "shell.execute_reply.started": "2025-06-23T19:34:11.524943Z"
    }
   },
   "outputs": [
    {
     "data": {
      "text/html": [
       "<div>\n",
       "<style scoped>\n",
       "    .dataframe tbody tr th:only-of-type {\n",
       "        vertical-align: middle;\n",
       "    }\n",
       "\n",
       "    .dataframe tbody tr th {\n",
       "        vertical-align: top;\n",
       "    }\n",
       "\n",
       "    .dataframe thead th {\n",
       "        text-align: right;\n",
       "    }\n",
       "</style>\n",
       "<table border=\"1\" class=\"dataframe\">\n",
       "  <thead>\n",
       "    <tr style=\"text-align: right;\">\n",
       "      <th></th>\n",
       "      <th>Union_démocratique_du_centre</th>\n",
       "    </tr>\n",
       "    <tr>\n",
       "      <th>per_10</th>\n",
       "      <th></th>\n",
       "    </tr>\n",
       "  </thead>\n",
       "  <tbody>\n",
       "    <tr>\n",
       "      <th>1951-1960</th>\n",
       "      <td>32</td>\n",
       "    </tr>\n",
       "    <tr>\n",
       "      <th>1961-1970</th>\n",
       "      <td>37</td>\n",
       "    </tr>\n",
       "    <tr>\n",
       "      <th>1971-1980</th>\n",
       "      <td>33</td>\n",
       "    </tr>\n",
       "    <tr>\n",
       "      <th>1981-1990</th>\n",
       "      <td>13</td>\n",
       "    </tr>\n",
       "    <tr>\n",
       "      <th>1991-2000</th>\n",
       "      <td>3</td>\n",
       "    </tr>\n",
       "  </tbody>\n",
       "</table>\n",
       "</div>"
      ],
      "text/plain": [
       "           Union_démocratique_du_centre\n",
       "per_10                                 \n",
       "1951-1960                            32\n",
       "1961-1970                            37\n",
       "1971-1980                            33\n",
       "1981-1990                            13\n",
       "1991-2000                             3"
      ]
     },
     "execution_count": 131,
     "metadata": {},
     "output_type": "execute_result"
    }
   ],
   "source": [
    "### Idem\n",
    "pp_udc_10 = pd.DataFrame(cdf_p[(cdf_p.ppCode == 'Union_démocratique_du_centre') & (cdf_p.birthYear > 1850)].groupby('per_10', observed=False).size())\n",
    "pp_udc_10.columns = ['Union_démocratique_du_centre']\n",
    "pp_udc_10.tail()\n"
   ]
  },
  {
   "cell_type": "code",
   "execution_count": 132,
   "id": "ebcbeed3-851b-416e-9f30-d1251ac5e579",
   "metadata": {
    "execution": {
     "iopub.execute_input": "2025-06-23T19:34:22.919043Z",
     "iopub.status.busy": "2025-06-23T19:34:22.917752Z",
     "iopub.status.idle": "2025-06-23T19:34:22.969523Z",
     "shell.execute_reply": "2025-06-23T19:34:22.967307Z",
     "shell.execute_reply.started": "2025-06-23T19:34:22.918899Z"
    }
   },
   "outputs": [
    {
     "data": {
      "text/html": [
       "<div>\n",
       "<style scoped>\n",
       "    .dataframe tbody tr th:only-of-type {\n",
       "        vertical-align: middle;\n",
       "    }\n",
       "\n",
       "    .dataframe tbody tr th {\n",
       "        vertical-align: top;\n",
       "    }\n",
       "\n",
       "    .dataframe thead th {\n",
       "        text-align: right;\n",
       "    }\n",
       "</style>\n",
       "<table border=\"1\" class=\"dataframe\">\n",
       "  <thead>\n",
       "    <tr style=\"text-align: right;\">\n",
       "      <th></th>\n",
       "      <th>Les_Verts</th>\n",
       "      <th>Parti_socialiste_suisse</th>\n",
       "      <th>Le_centre</th>\n",
       "      <th>Parti_démocrate_chrétien</th>\n",
       "      <th>Parti_libéral_radical</th>\n",
       "      <th>Union_démocratique_du_centre</th>\n",
       "    </tr>\n",
       "    <tr>\n",
       "      <th>per_10</th>\n",
       "      <th></th>\n",
       "      <th></th>\n",
       "      <th></th>\n",
       "      <th></th>\n",
       "      <th></th>\n",
       "      <th></th>\n",
       "    </tr>\n",
       "  </thead>\n",
       "  <tbody>\n",
       "    <tr>\n",
       "      <th>1951-1960</th>\n",
       "      <td>20</td>\n",
       "      <td>49</td>\n",
       "      <td>5</td>\n",
       "      <td>23</td>\n",
       "      <td>21</td>\n",
       "      <td>32</td>\n",
       "    </tr>\n",
       "    <tr>\n",
       "      <th>1961-1970</th>\n",
       "      <td>9</td>\n",
       "      <td>26</td>\n",
       "      <td>12</td>\n",
       "      <td>15</td>\n",
       "      <td>23</td>\n",
       "      <td>37</td>\n",
       "    </tr>\n",
       "    <tr>\n",
       "      <th>1971-1980</th>\n",
       "      <td>15</td>\n",
       "      <td>21</td>\n",
       "      <td>6</td>\n",
       "      <td>7</td>\n",
       "      <td>12</td>\n",
       "      <td>33</td>\n",
       "    </tr>\n",
       "    <tr>\n",
       "      <th>1981-1990</th>\n",
       "      <td>8</td>\n",
       "      <td>20</td>\n",
       "      <td>1</td>\n",
       "      <td>4</td>\n",
       "      <td>3</td>\n",
       "      <td>13</td>\n",
       "    </tr>\n",
       "    <tr>\n",
       "      <th>1991-2000</th>\n",
       "      <td>2</td>\n",
       "      <td>2</td>\n",
       "      <td>0</td>\n",
       "      <td>0</td>\n",
       "      <td>1</td>\n",
       "      <td>3</td>\n",
       "    </tr>\n",
       "  </tbody>\n",
       "</table>\n",
       "</div>"
      ],
      "text/plain": [
       "           Les_Verts  Parti_socialiste_suisse  Le_centre  \\\n",
       "per_10                                                     \n",
       "1951-1960         20                       49          5   \n",
       "1961-1970          9                       26         12   \n",
       "1971-1980         15                       21          6   \n",
       "1981-1990          8                       20          1   \n",
       "1991-2000          2                        2          0   \n",
       "\n",
       "           Parti_démocrate_chrétien  Parti_libéral_radical  \\\n",
       "per_10                                                       \n",
       "1951-1960                        23                     21   \n",
       "1961-1970                        15                     23   \n",
       "1971-1980                         7                     12   \n",
       "1981-1990                         4                      3   \n",
       "1991-2000                         0                      1   \n",
       "\n",
       "           Union_démocratique_du_centre  \n",
       "per_10                                   \n",
       "1951-1960                            32  \n",
       "1961-1970                            37  \n",
       "1971-1980                            33  \n",
       "1981-1990                            13  \n",
       "1991-2000                             3  "
      ]
     },
     "execution_count": 132,
     "metadata": {},
     "output_type": "execute_result"
    }
   ],
   "source": [
    "merged_10 = pp_v_10.merge(pp_pss_10, left_index=True, right_index=True)\\\n",
    "                   .merge(pp_LC_10, left_index=True, right_index=True)\\\n",
    "                   .merge(pp_pdc_10, left_index=True, right_index=True)\\\n",
    "                   .merge(pp_plr_10, left_index=True, right_index=True)\\\n",
    "                   .merge(pp_udc_10, left_index=True, right_index=True)\n",
    "merged_10.tail()"
   ]
  },
  {
   "cell_type": "code",
   "execution_count": 133,
   "id": "ae8f6224-9c2b-47ce-ace0-c1d4a05c4869",
   "metadata": {
    "execution": {
     "iopub.execute_input": "2025-06-23T19:35:05.632139Z",
     "iopub.status.busy": "2025-06-23T19:35:05.630977Z",
     "iopub.status.idle": "2025-06-23T19:35:05.665511Z",
     "shell.execute_reply": "2025-06-23T19:35:05.664128Z",
     "shell.execute_reply.started": "2025-06-23T19:35:05.631944Z"
    }
   },
   "outputs": [
    {
     "data": {
      "text/html": [
       "<div>\n",
       "<style scoped>\n",
       "    .dataframe tbody tr th:only-of-type {\n",
       "        vertical-align: middle;\n",
       "    }\n",
       "\n",
       "    .dataframe tbody tr th {\n",
       "        vertical-align: top;\n",
       "    }\n",
       "\n",
       "    .dataframe thead th {\n",
       "        text-align: right;\n",
       "    }\n",
       "</style>\n",
       "<table border=\"1\" class=\"dataframe\">\n",
       "  <thead>\n",
       "    <tr style=\"text-align: right;\">\n",
       "      <th></th>\n",
       "      <th>Les_Verts</th>\n",
       "      <th>Parti_socialiste_suisse</th>\n",
       "      <th>Le_centre</th>\n",
       "      <th>Parti_démocrate_chrétien</th>\n",
       "      <th>Parti_libéral_radical</th>\n",
       "      <th>Union_démocratique_du_centre</th>\n",
       "      <th>tot</th>\n",
       "    </tr>\n",
       "    <tr>\n",
       "      <th>per_10</th>\n",
       "      <th></th>\n",
       "      <th></th>\n",
       "      <th></th>\n",
       "      <th></th>\n",
       "      <th></th>\n",
       "      <th></th>\n",
       "      <th></th>\n",
       "    </tr>\n",
       "  </thead>\n",
       "  <tbody>\n",
       "    <tr>\n",
       "      <th>1951-1960</th>\n",
       "      <td>20</td>\n",
       "      <td>49</td>\n",
       "      <td>5</td>\n",
       "      <td>23</td>\n",
       "      <td>21</td>\n",
       "      <td>32</td>\n",
       "      <td>150</td>\n",
       "    </tr>\n",
       "    <tr>\n",
       "      <th>1961-1970</th>\n",
       "      <td>9</td>\n",
       "      <td>26</td>\n",
       "      <td>12</td>\n",
       "      <td>15</td>\n",
       "      <td>23</td>\n",
       "      <td>37</td>\n",
       "      <td>122</td>\n",
       "    </tr>\n",
       "    <tr>\n",
       "      <th>1971-1980</th>\n",
       "      <td>15</td>\n",
       "      <td>21</td>\n",
       "      <td>6</td>\n",
       "      <td>7</td>\n",
       "      <td>12</td>\n",
       "      <td>33</td>\n",
       "      <td>94</td>\n",
       "    </tr>\n",
       "    <tr>\n",
       "      <th>1981-1990</th>\n",
       "      <td>8</td>\n",
       "      <td>20</td>\n",
       "      <td>1</td>\n",
       "      <td>4</td>\n",
       "      <td>3</td>\n",
       "      <td>13</td>\n",
       "      <td>49</td>\n",
       "    </tr>\n",
       "    <tr>\n",
       "      <th>1991-2000</th>\n",
       "      <td>2</td>\n",
       "      <td>2</td>\n",
       "      <td>0</td>\n",
       "      <td>0</td>\n",
       "      <td>1</td>\n",
       "      <td>3</td>\n",
       "      <td>8</td>\n",
       "    </tr>\n",
       "  </tbody>\n",
       "</table>\n",
       "</div>"
      ],
      "text/plain": [
       "           Les_Verts  Parti_socialiste_suisse  Le_centre  \\\n",
       "per_10                                                     \n",
       "1951-1960         20                       49          5   \n",
       "1961-1970          9                       26         12   \n",
       "1971-1980         15                       21          6   \n",
       "1981-1990          8                       20          1   \n",
       "1991-2000          2                        2          0   \n",
       "\n",
       "           Parti_démocrate_chrétien  Parti_libéral_radical  \\\n",
       "per_10                                                       \n",
       "1951-1960                        23                     21   \n",
       "1961-1970                        15                     23   \n",
       "1971-1980                         7                     12   \n",
       "1981-1990                         4                      3   \n",
       "1991-2000                         0                      1   \n",
       "\n",
       "           Union_démocratique_du_centre  tot  \n",
       "per_10                                        \n",
       "1951-1960                            32  150  \n",
       "1961-1970                            37  122  \n",
       "1971-1980                            33   94  \n",
       "1981-1990                            13   49  \n",
       "1991-2000                             3    8  "
      ]
     },
     "execution_count": 133,
     "metadata": {},
     "output_type": "execute_result"
    }
   ],
   "source": [
    "### On transforme le type de valeur de l'index\n",
    "# et on ajoute une colonne avec le total\n",
    "merged_10.index = merged_10.index.map(str)\n",
    "merged_10['tot']=merged_10['Les_Verts']+merged_10['Parti_socialiste_suisse']+merged_10['Le_centre']+merged_10['Parti_démocrate_chrétien']+merged_10['Parti_libéral_radical']+merged_10['Union_démocratique_du_centre']\n",
    "merged_10.tail()"
   ]
  },
  {
   "cell_type": "code",
   "execution_count": 135,
   "id": "5569f274-e09d-4be4-a3bc-352f99d58997",
   "metadata": {
    "execution": {
     "iopub.execute_input": "2025-06-23T19:36:35.678683Z",
     "iopub.status.busy": "2025-06-23T19:36:35.677258Z",
     "iopub.status.idle": "2025-06-23T19:36:35.703289Z",
     "shell.execute_reply": "2025-06-23T19:36:35.700430Z",
     "shell.execute_reply.started": "2025-06-23T19:36:35.678598Z"
    }
   },
   "outputs": [
    {
     "data": {
      "text/plain": [
       "[0.12, 0.13, 0.07]"
      ]
     },
     "execution_count": 135,
     "metadata": {},
     "output_type": "execute_result"
    }
   ],
   "source": [
    "### On prépare les valeurs pour l'affichage des fréquences (proportion par rapport au total)\n",
    "\n",
    "# liste qui contient toutes les valeurs à la suite\n",
    "m_f = merged_10.Les_Verts.to_list()+merged_10.Parti_socialiste_suisse.to_list()+merged_10.Le_centre.to_list()+merged_10.Parti_démocrate_chrétien.to_list()+merged_10.Parti_libéral_radical.to_list()+merged_10.Union_démocratique_du_centre.to_list()\n",
    "\n",
    "# liste d'égale longueur que la précédente qui contient \n",
    "# les valeurs de l'index, i.e. les périodes\n",
    "tot = merged_10.tot.to_list()*6\n",
    "\n",
    "# liste qui contient les valeurs des fréquences\n",
    "lp = [round(v/t, 2) for v,t in zip(m_f, tot)]\n",
    "lp[:3]"
   ]
  },
  {
   "cell_type": "code",
   "execution_count": 139,
   "id": "928a67b9-19f2-44e7-b4eb-7b20b534f73c",
   "metadata": {
    "execution": {
     "iopub.execute_input": "2025-06-23T19:42:57.633244Z",
     "iopub.status.busy": "2025-06-23T19:42:57.632194Z",
     "iopub.status.idle": "2025-06-23T19:42:58.691971Z",
     "shell.execute_reply": "2025-06-23T19:42:58.690550Z",
     "shell.execute_reply.started": "2025-06-23T19:42:57.633166Z"
    }
   },
   "outputs": [
    {
     "data": {
      "image/png": "[encoded data removed]",
      "text/plain": [
       "<Figure size 2000x800 with 1 Axes>"
      ]
     },
     "metadata": {},
     "output_type": "display_data"
    }
   ],
   "source": [
    "### Graphique avec la distribution par période et genre (M,F)\n",
    "# Noter que les effectifs du genre 'Autres' étant très faibles,\n",
    "# on ne les analyse pas de manière sérielle mais on peut les analyser qualitatiement\n",
    "\n",
    "ax = merged_10.plot.bar(stacked=True, y=['Les_Verts', 'Parti_socialiste_suisse', 'Le_centre', 'Parti_démocrate_chrétien', 'Parti_libéral_radical', 'Union_démocratique_du_centre'], \\\n",
    "                        rot=70, fontsize=9, figsize=(20,8), color=['LightGreen', 'Red', 'Orange', 'Yellow', 'Blue', 'DarkGreen'])\n",
    "\n",
    "\n",
    "### https://www.pythoncharts.com/matplotlib/stacked-bar-charts-labels/\n",
    "\n",
    "\n",
    "## On ajoute une étiquette concernant la valeur de fréquence\n",
    "# à chaque rectangle dans le graphe, en utilisant la list 'lp' préparée précédemment\n",
    "# Il y a autant de triangles que les valeurs d'index x le nombre de variables\n",
    "\n",
    "for bar,v in zip(ax.patches,lp): \n",
    "\n",
    "    ax.text(\n",
    "      # Met les étiquette aux centre des rectangles\n",
    "      bar.get_x() + bar.get_width() / 2,\n",
    "        \n",
    "      # Ajoute les coordonnées verticales\n",
    "      bar.get_height()/2 + bar.get_y(), \n",
    "      \n",
    "      # Ajoute les valeurs\n",
    "      v,\n",
    "\n",
    "      # centre et met du style aux étiquettes\n",
    "      ha='center',\n",
    "      color='black',\n",
    "      weight='bold',\n",
    "      size=10\n",
    "  )\n",
    "\n",
    "plt.ylabel('Effectifs par période avec proportion des partis')\n",
    "plt.xlabel('Périodes')\n",
    "plt.title('Distribution des naissances par périodes de dix ans, proportion des partis par période')\n",
    "\n",
    "## On peut enregistrer l'image dans un fichier (noter le dossier créé préalablement)\n",
    "# qu'on pourra ensuite introduire dans un travail et commenter\n",
    "\n",
    "# Doc.: https://matplotlib.org/stable/api/_as_gen/matplotlib.pyplot.savefig.html\n",
    "plt.savefig('Images/naissances_distribution_10ans_partis.jpg', bbox_inches='tight',\n",
    "                       pad_inches=0.2)\n",
    "plt.show()"
   ]
  },
  {
   "cell_type": "markdown",
   "id": "0b18818c-3849-48cc-ac0f-00b4bafe1ed0",
   "metadata": {},
   "source": [
    "### PS vs UDC"
   ]
  },
  {
   "cell_type": "code",
   "execution_count": 143,
   "id": "19b287ce-4d24-4a9b-bb55-70980427a0ae",
   "metadata": {
    "execution": {
     "iopub.execute_input": "2025-06-23T19:49:40.323148Z",
     "iopub.status.busy": "2025-06-23T19:49:40.322109Z",
     "iopub.status.idle": "2025-06-23T19:49:40.353345Z",
     "shell.execute_reply": "2025-06-23T19:49:40.350600Z",
     "shell.execute_reply.started": "2025-06-23T19:49:40.323008Z"
    }
   },
   "outputs": [
    {
     "data": {
      "text/html": [
       "<div>\n",
       "<style scoped>\n",
       "    .dataframe tbody tr th:only-of-type {\n",
       "        vertical-align: middle;\n",
       "    }\n",
       "\n",
       "    .dataframe tbody tr th {\n",
       "        vertical-align: top;\n",
       "    }\n",
       "\n",
       "    .dataframe thead th {\n",
       "        text-align: right;\n",
       "    }\n",
       "</style>\n",
       "<table border=\"1\" class=\"dataframe\">\n",
       "  <thead>\n",
       "    <tr style=\"text-align: right;\">\n",
       "      <th></th>\n",
       "      <th>Parti_socialiste_suisse</th>\n",
       "    </tr>\n",
       "    <tr>\n",
       "      <th>per_10</th>\n",
       "      <th></th>\n",
       "    </tr>\n",
       "  </thead>\n",
       "  <tbody>\n",
       "    <tr>\n",
       "      <th>1951-1960</th>\n",
       "      <td>49</td>\n",
       "    </tr>\n",
       "    <tr>\n",
       "      <th>1961-1970</th>\n",
       "      <td>26</td>\n",
       "    </tr>\n",
       "    <tr>\n",
       "      <th>1971-1980</th>\n",
       "      <td>21</td>\n",
       "    </tr>\n",
       "    <tr>\n",
       "      <th>1981-1990</th>\n",
       "      <td>20</td>\n",
       "    </tr>\n",
       "    <tr>\n",
       "      <th>1991-2000</th>\n",
       "      <td>2</td>\n",
       "    </tr>\n",
       "  </tbody>\n",
       "</table>\n",
       "</div>"
      ],
      "text/plain": [
       "           Parti_socialiste_suisse\n",
       "per_10                            \n",
       "1951-1960                       49\n",
       "1961-1970                       26\n",
       "1971-1980                       21\n",
       "1981-1990                       20\n",
       "1991-2000                        2"
      ]
     },
     "execution_count": 143,
     "metadata": {},
     "output_type": "execute_result"
    }
   ],
   "source": [
    "### On regroupe par parti comme ci-dessus\n",
    "pp_pss_vs_udc = pd.DataFrame(cdf_p[(cdf_p.ppCode == 'Parti_socialiste_suisse') & (cdf_p.birthYear > 1850)].groupby('per_10', observed=False).size())\n",
    "pp_pss_vs_udc.columns = ['Parti_socialiste_suisse']\n",
    "pp_pss_vs_udc.tail()"
   ]
  },
  {
   "cell_type": "code",
   "execution_count": 144,
   "id": "63143c14-51fe-4b7b-8845-51db438f61b4",
   "metadata": {
    "execution": {
     "iopub.execute_input": "2025-06-23T19:50:31.531568Z",
     "iopub.status.busy": "2025-06-23T19:50:31.530548Z",
     "iopub.status.idle": "2025-06-23T19:50:31.561118Z",
     "shell.execute_reply": "2025-06-23T19:50:31.559542Z",
     "shell.execute_reply.started": "2025-06-23T19:50:31.531469Z"
    }
   },
   "outputs": [
    {
     "data": {
      "text/html": [
       "<div>\n",
       "<style scoped>\n",
       "    .dataframe tbody tr th:only-of-type {\n",
       "        vertical-align: middle;\n",
       "    }\n",
       "\n",
       "    .dataframe tbody tr th {\n",
       "        vertical-align: top;\n",
       "    }\n",
       "\n",
       "    .dataframe thead th {\n",
       "        text-align: right;\n",
       "    }\n",
       "</style>\n",
       "<table border=\"1\" class=\"dataframe\">\n",
       "  <thead>\n",
       "    <tr style=\"text-align: right;\">\n",
       "      <th></th>\n",
       "      <th>Union_démocratique_du_centre</th>\n",
       "    </tr>\n",
       "    <tr>\n",
       "      <th>per_10</th>\n",
       "      <th></th>\n",
       "    </tr>\n",
       "  </thead>\n",
       "  <tbody>\n",
       "    <tr>\n",
       "      <th>1951-1960</th>\n",
       "      <td>32</td>\n",
       "    </tr>\n",
       "    <tr>\n",
       "      <th>1961-1970</th>\n",
       "      <td>37</td>\n",
       "    </tr>\n",
       "    <tr>\n",
       "      <th>1971-1980</th>\n",
       "      <td>33</td>\n",
       "    </tr>\n",
       "    <tr>\n",
       "      <th>1981-1990</th>\n",
       "      <td>13</td>\n",
       "    </tr>\n",
       "    <tr>\n",
       "      <th>1991-2000</th>\n",
       "      <td>3</td>\n",
       "    </tr>\n",
       "  </tbody>\n",
       "</table>\n",
       "</div>"
      ],
      "text/plain": [
       "           Union_démocratique_du_centre\n",
       "per_10                                 \n",
       "1951-1960                            32\n",
       "1961-1970                            37\n",
       "1971-1980                            33\n",
       "1981-1990                            13\n",
       "1991-2000                             3"
      ]
     },
     "execution_count": 144,
     "metadata": {},
     "output_type": "execute_result"
    }
   ],
   "source": [
    "### On regroupe par parti comme ci-dessus\n",
    "pp_udc_vs_pss = pd.DataFrame(cdf_p[(cdf_p.ppCode == 'Union_démocratique_du_centre') & (cdf_p.birthYear > 1850)].groupby('per_10', observed=False).size())\n",
    "pp_udc_vs_pss.columns = ['Union_démocratique_du_centre']\n",
    "pp_udc_vs_pss.tail()"
   ]
  },
  {
   "cell_type": "code",
   "execution_count": 145,
   "id": "569696b2-c306-43a8-9ade-e797317aa382",
   "metadata": {
    "execution": {
     "iopub.execute_input": "2025-06-23T19:52:01.775513Z",
     "iopub.status.busy": "2025-06-23T19:52:01.773474Z",
     "iopub.status.idle": "2025-06-23T19:52:01.804705Z",
     "shell.execute_reply": "2025-06-23T19:52:01.801194Z",
     "shell.execute_reply.started": "2025-06-23T19:52:01.775429Z"
    }
   },
   "outputs": [
    {
     "data": {
      "text/html": [
       "<div>\n",
       "<style scoped>\n",
       "    .dataframe tbody tr th:only-of-type {\n",
       "        vertical-align: middle;\n",
       "    }\n",
       "\n",
       "    .dataframe tbody tr th {\n",
       "        vertical-align: top;\n",
       "    }\n",
       "\n",
       "    .dataframe thead th {\n",
       "        text-align: right;\n",
       "    }\n",
       "</style>\n",
       "<table border=\"1\" class=\"dataframe\">\n",
       "  <thead>\n",
       "    <tr style=\"text-align: right;\">\n",
       "      <th></th>\n",
       "      <th>Parti_socialiste_suisse</th>\n",
       "      <th>Union_démocratique_du_centre</th>\n",
       "    </tr>\n",
       "    <tr>\n",
       "      <th>per_10</th>\n",
       "      <th></th>\n",
       "      <th></th>\n",
       "    </tr>\n",
       "  </thead>\n",
       "  <tbody>\n",
       "    <tr>\n",
       "      <th>1951-1960</th>\n",
       "      <td>49</td>\n",
       "      <td>32</td>\n",
       "    </tr>\n",
       "    <tr>\n",
       "      <th>1961-1970</th>\n",
       "      <td>26</td>\n",
       "      <td>37</td>\n",
       "    </tr>\n",
       "    <tr>\n",
       "      <th>1971-1980</th>\n",
       "      <td>21</td>\n",
       "      <td>33</td>\n",
       "    </tr>\n",
       "    <tr>\n",
       "      <th>1981-1990</th>\n",
       "      <td>20</td>\n",
       "      <td>13</td>\n",
       "    </tr>\n",
       "    <tr>\n",
       "      <th>1991-2000</th>\n",
       "      <td>2</td>\n",
       "      <td>3</td>\n",
       "    </tr>\n",
       "  </tbody>\n",
       "</table>\n",
       "</div>"
      ],
      "text/plain": [
       "           Parti_socialiste_suisse  Union_démocratique_du_centre\n",
       "per_10                                                          \n",
       "1951-1960                       49                            32\n",
       "1961-1970                       26                            37\n",
       "1971-1980                       21                            33\n",
       "1981-1990                       20                            13\n",
       "1991-2000                        2                             3"
      ]
     },
     "execution_count": 145,
     "metadata": {},
     "output_type": "execute_result"
    }
   ],
   "source": [
    "merged_10 = pd.merge(pp_pss_vs_udc, pp_udc_vs_pss, left_index=True, right_index=True)\n",
    "merged_10.tail()"
   ]
  },
  {
   "cell_type": "code",
   "execution_count": 146,
   "id": "89ad4bf7-54bf-4b51-b316-dc0cc1723dda",
   "metadata": {
    "execution": {
     "iopub.execute_input": "2025-06-23T19:52:48.005371Z",
     "iopub.status.busy": "2025-06-23T19:52:48.003339Z",
     "iopub.status.idle": "2025-06-23T19:52:48.034127Z",
     "shell.execute_reply": "2025-06-23T19:52:48.030895Z",
     "shell.execute_reply.started": "2025-06-23T19:52:48.005281Z"
    }
   },
   "outputs": [
    {
     "data": {
      "text/html": [
       "<div>\n",
       "<style scoped>\n",
       "    .dataframe tbody tr th:only-of-type {\n",
       "        vertical-align: middle;\n",
       "    }\n",
       "\n",
       "    .dataframe tbody tr th {\n",
       "        vertical-align: top;\n",
       "    }\n",
       "\n",
       "    .dataframe thead th {\n",
       "        text-align: right;\n",
       "    }\n",
       "</style>\n",
       "<table border=\"1\" class=\"dataframe\">\n",
       "  <thead>\n",
       "    <tr style=\"text-align: right;\">\n",
       "      <th></th>\n",
       "      <th>Parti_socialiste_suisse</th>\n",
       "      <th>Union_démocratique_du_centre</th>\n",
       "      <th>tot</th>\n",
       "    </tr>\n",
       "    <tr>\n",
       "      <th>per_10</th>\n",
       "      <th></th>\n",
       "      <th></th>\n",
       "      <th></th>\n",
       "    </tr>\n",
       "  </thead>\n",
       "  <tbody>\n",
       "    <tr>\n",
       "      <th>1951-1960</th>\n",
       "      <td>49</td>\n",
       "      <td>32</td>\n",
       "      <td>81</td>\n",
       "    </tr>\n",
       "    <tr>\n",
       "      <th>1961-1970</th>\n",
       "      <td>26</td>\n",
       "      <td>37</td>\n",
       "      <td>63</td>\n",
       "    </tr>\n",
       "    <tr>\n",
       "      <th>1971-1980</th>\n",
       "      <td>21</td>\n",
       "      <td>33</td>\n",
       "      <td>54</td>\n",
       "    </tr>\n",
       "    <tr>\n",
       "      <th>1981-1990</th>\n",
       "      <td>20</td>\n",
       "      <td>13</td>\n",
       "      <td>33</td>\n",
       "    </tr>\n",
       "    <tr>\n",
       "      <th>1991-2000</th>\n",
       "      <td>2</td>\n",
       "      <td>3</td>\n",
       "      <td>5</td>\n",
       "    </tr>\n",
       "  </tbody>\n",
       "</table>\n",
       "</div>"
      ],
      "text/plain": [
       "           Parti_socialiste_suisse  Union_démocratique_du_centre  tot\n",
       "per_10                                                               \n",
       "1951-1960                       49                            32   81\n",
       "1961-1970                       26                            37   63\n",
       "1971-1980                       21                            33   54\n",
       "1981-1990                       20                            13   33\n",
       "1991-2000                        2                             3    5"
      ]
     },
     "execution_count": 146,
     "metadata": {},
     "output_type": "execute_result"
    }
   ],
   "source": [
    "### On transforme le type de valeur de l'index\n",
    "# et on ajoute une colonne avec le total\n",
    "merged_10.index = merged_10.index.map(str)\n",
    "merged_10['tot']=merged_10['Parti_socialiste_suisse']+merged_10['Union_démocratique_du_centre']\n",
    "merged_10.tail()"
   ]
  },
  {
   "cell_type": "code",
   "execution_count": 147,
   "id": "87e3f026-8d3e-4587-9c44-a2ea1d8c565e",
   "metadata": {
    "execution": {
     "iopub.execute_input": "2025-06-23T19:53:02.418645Z",
     "iopub.status.busy": "2025-06-23T19:53:02.417703Z",
     "iopub.status.idle": "2025-06-23T19:53:02.439650Z",
     "shell.execute_reply": "2025-06-23T19:53:02.437320Z",
     "shell.execute_reply.started": "2025-06-23T19:53:02.418567Z"
    }
   },
   "outputs": [
    {
     "data": {
      "text/plain": [
       "[0.57, 0.6, 0.41]"
      ]
     },
     "execution_count": 147,
     "metadata": {},
     "output_type": "execute_result"
    }
   ],
   "source": [
    "### On prépare les valeurs pour l'affichage des fréquences (proportion par rapport au total)\n",
    "\n",
    "# liste qui contient toutes les valeurs à la suite\n",
    "m_f = merged_10.Parti_socialiste_suisse.to_list()+merged_10.Union_démocratique_du_centre.to_list()\n",
    "\n",
    "# liste d'égale longueur que la précédente qui contient \n",
    "# les valeurs de l'index, i.e. les périodes\n",
    "tot = merged_10.tot.to_list()*2\n",
    "\n",
    "# liste qui contient les valeurs des fréquences\n",
    "lp = [round(v/t, 2) for v,t in zip(m_f, tot)]\n",
    "lp[:3]"
   ]
  },
  {
   "cell_type": "code",
   "execution_count": 148,
   "id": "9869d01b-823d-4474-b2b4-820dc23639c2",
   "metadata": {
    "execution": {
     "iopub.execute_input": "2025-06-23T19:53:04.789160Z",
     "iopub.status.busy": "2025-06-23T19:53:04.788215Z",
     "iopub.status.idle": "2025-06-23T19:53:05.610449Z",
     "shell.execute_reply": "2025-06-23T19:53:05.609014Z",
     "shell.execute_reply.started": "2025-06-23T19:53:04.789046Z"
    }
   },
   "outputs": [
    {
     "data": {
      "image/png": "[encoded data removed]",
      "text/plain": [
       "<Figure size 2000x800 with 1 Axes>"
      ]
     },
     "metadata": {},
     "output_type": "display_data"
    }
   ],
   "source": [
    "### Graphique avec la distribution par période et genre (M,F)\n",
    "# Noter que les effectifs du genre 'Autres' étant très faibles,\n",
    "# on ne les analyse pas de manière sérielle mais on peut les analyser qualitatiement\n",
    "\n",
    "ax = merged_10.plot.bar(stacked=True, y=[ 'Parti_socialiste_suisse', 'Union_démocratique_du_centre'], \\\n",
    "                        rot=70, fontsize=9, figsize=(20,8), color=['Red', 'DarkGreen'])\n",
    "\n",
    "\n",
    "### https://www.pythoncharts.com/matplotlib/stacked-bar-charts-labels/\n",
    "\n",
    "\n",
    "## On ajoute une étiquette concernant la valeur de fréquence\n",
    "# à chaque rectangle dans le graphe, en utilisant la list 'lp' préparée précédemment\n",
    "# Il y a autant de triangles que les valeurs d'index x le nombre de variables\n",
    "\n",
    "for bar,v in zip(ax.patches,lp): \n",
    "\n",
    "    ax.text(\n",
    "      # Met les étiquette aux centre des rectangles\n",
    "      bar.get_x() + bar.get_width() / 2,\n",
    "        \n",
    "      # Ajoute les coordonnées verticales\n",
    "      bar.get_height()/2 + bar.get_y(), \n",
    "      \n",
    "      # Ajoute les valeurs\n",
    "      v,\n",
    "\n",
    "      # centre et met du style aux étiquettes\n",
    "      ha='center',\n",
    "      color='black',\n",
    "      weight='bold',\n",
    "      size=10\n",
    "  )\n",
    "\n",
    "plt.ylabel('Effectifs par période avec proportion des partis')\n",
    "plt.xlabel('Périodes')\n",
    "plt.title('Distribution des naissances par périodes de dix ans, proportion des partis par période')\n",
    "\n",
    "## On peut enregistrer l'image dans un fichier (noter le dossier créé préalablement)\n",
    "# qu'on pourra ensuite introduire dans un travail et commenter\n",
    "\n",
    "# Doc.: https://matplotlib.org/stable/api/_as_gen/matplotlib.pyplot.savefig.html\n",
    "plt.savefig('Images/naissances_distribution_10ans_partis_PSvsUDC.jpg', bbox_inches='tight',\n",
    "                       pad_inches=0.2)\n",
    "plt.show()"
   ]
  },
  {
   "cell_type": "code",
   "execution_count": null,
   "id": "761a4416-63f7-40ef-83cd-26f679568276",
   "metadata": {},
   "outputs": [],
   "source": []
  }
 ],
 "metadata": {
  "kernelspec": {
   "display_name": "p3_analyse",
   "language": "python",
   "name": "p3_analyse"
  },
  "language_info": {
   "codemirror_mode": {
    "name": "ipython",
    "version": 3
   },
   "file_extension": ".py",
   "mimetype": "text/x-python",
   "name": "python",
   "nbconvert_exporter": "python",
   "pygments_lexer": "ipython3",
   "version": "3.12.5"
  }
 },
 "nbformat": 4,
 "nbformat_minor": 5
}
